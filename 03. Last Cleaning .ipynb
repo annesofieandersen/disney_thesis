{
 "cells": [
  {
   "cell_type": "markdown",
   "id": "0d47ad7c",
   "metadata": {},
   "source": [
    " # Extra cleaning for all movies "
   ]
  },
  {
   "cell_type": "code",
   "execution_count": 22,
   "id": "fa30dbe9",
   "metadata": {
    "ExecuteTime": {
     "end_time": "2022-05-18T18:13:47.475413Z",
     "start_time": "2022-05-18T18:13:47.036611Z"
    }
   },
   "outputs": [],
   "source": [
    "#Import libaries \n",
    "import pandas as pd\n",
    "import re\n",
    "import numpy as np \n",
    "import os\n",
    "\n",
    "# set wd \n",
    "os.getcwd()\n",
    "os.chdir('/Users/Sofie/Disney Thesis')\n",
    "\n",
    "# import clean scripts\n",
    "data = pd.read_pickle(\"scripts_clean_final.pickle\")\n",
    "\n",
    "#Brug Gender_Updated (as gender column)"
   ]
  },
  {
   "cell_type": "code",
   "execution_count": 23,
   "id": "9250fc9c",
   "metadata": {
    "ExecuteTime": {
     "end_time": "2022-05-18T18:13:48.020313Z",
     "start_time": "2022-05-18T18:13:47.487828Z"
    }
   },
   "outputs": [
    {
     "name": "stderr",
     "output_type": "stream",
     "text": [
      "<ipython-input-23-cc77433a1f13>:3: SettingWithCopyWarning: \n",
      "A value is trying to be set on a copy of a slice from a DataFrame\n",
      "\n",
      "See the caveats in the documentation: https://pandas.pydata.org/pandas-docs/stable/user_guide/indexing.html#returning-a-view-versus-a-copy\n",
      "  data['Clean_Script'][49] = pd.read_excel('Inside Out_updated.xlsx', index_col=0)\n",
      "<ipython-input-23-cc77433a1f13>:4: SettingWithCopyWarning: \n",
      "A value is trying to be set on a copy of a slice from a DataFrame\n",
      "\n",
      "See the caveats in the documentation: https://pandas.pydata.org/pandas-docs/stable/user_guide/indexing.html#returning-a-view-versus-a-copy\n",
      "  data['Clean_Script'][61] = pd.read_excel('Luca_updated.xlsx', index_col=0)\n"
     ]
    }
   ],
   "source": [
    "# read in scripts with manually implemented changes after inspection of character names \n",
    "os.chdir('/Users/Sofie/Disney Thesis/Test_Scripts')\n",
    "data['Clean_Script'][49] = pd.read_excel('Inside Out_updated.xlsx', index_col=0)\n",
    "data['Clean_Script'][61] = pd.read_excel('Luca_updated.xlsx', index_col=0)"
   ]
  },
  {
   "cell_type": "code",
   "execution_count": 24,
   "id": "ecc4d98a",
   "metadata": {
    "ExecuteTime": {
     "end_time": "2022-05-18T18:13:54.969461Z",
     "start_time": "2022-05-18T18:13:48.028103Z"
    }
   },
   "outputs": [],
   "source": [
    "# wrong names which by mistake was not cleaned\n",
    "del_name = [\"you!</i><br/> lead cda agent\", \"finding dory logo.pngyoung dory\", \n",
    "\"always -- puts\", \"musician's blessing. we gotta find\", \"only de la cruz. if you can't help\",\n",
    "\"tea rosita... and\", \"tea victoria... and those two\", \n",
    "\"of course you love mango! only a\", \"dad was a wizard!\"]\n",
    "\n",
    "names = []\n",
    "# delete wrong character names if the names are in the above list\n",
    "# The wrong character names were find based on a inspection of characters using\n",
    "# len(row['Character'].split()) > 2 \n",
    "for movie in data['Clean_Script']:\n",
    "    for index, row in movie.iterrows():\n",
    "        clean_names = []\n",
    "        \n",
    "        if row['Character_lower'] in del_name: \n",
    "            movie.drop(index, inplace=True)"
   ]
  },
  {
   "cell_type": "code",
   "execution_count": 25,
   "id": "1978f939",
   "metadata": {
    "ExecuteTime": {
     "end_time": "2022-05-18T18:13:55.422642Z",
     "start_time": "2022-05-18T18:13:54.973352Z"
    }
   },
   "outputs": [],
   "source": [
    "# Replace &amp; in name \n",
    "# Replace spelling mistake in gender\n",
    "names_l = []\n",
    "names_c = []\n",
    "genders = []\n",
    "for index, row in data.iterrows():\n",
    "    clean_names = []\n",
    "    clean_names_c = []\n",
    "    clean_gender = []\n",
    "    for name in row['Clean_Script']['Character_lower']:\n",
    "        name = re.sub(\"&amp;\", \"&\", name)\n",
    "        \n",
    "        clean_names.append(name)\n",
    "    names.append(clean_names)\n",
    "    \n",
    "    for name_c in row['Clean_Script']['Character']:\n",
    "        name_c = re.sub(\"&amp;\", \"&\", name_c)\n",
    "        \n",
    "        clean_names_c.append(name_c)\n",
    "    names_c.append(clean_names_c)\n",
    "    \n",
    "    for gender in row['Clean_Script']['Gender_updated']:\n",
    "        gender = re.sub(\"Famale\", \"Female\", gender)\n",
    "        gender = re.sub(\"Non-human\", \"Non-gendered\", gender)\n",
    "        clean_gender.append(gender)\n",
    "    genders.append(clean_gender)\n",
    "    \n",
    "for i in range(len(data)):\n",
    "    data['Clean_Script'][i]['Character_lower'] = names[i]\n",
    "    data['Clean_Script'][i]['Character'] = names_c[i]\n",
    "    data['Clean_Script'][i]['Gender_updated'] = genders[i]"
   ]
  },
  {
   "cell_type": "code",
   "execution_count": 26,
   "id": "8fb66b02",
   "metadata": {
    "ExecuteTime": {
     "end_time": "2022-05-18T18:13:56.173763Z",
     "start_time": "2022-05-18T18:13:55.428975Z"
    }
   },
   "outputs": [],
   "source": [
    "# delete extra gender columns \n",
    "movies = []\n",
    "for movie in data['Clean_Script']:\n",
    "    movie = movie.drop(['Gender', 'Gender_new'], 1)\n",
    "    movies.append(movie)\n",
    "\n",
    "for i in range(len(data)):\n",
    "    data['Clean_Script'] = movies"
   ]
  },
  {
   "cell_type": "code",
   "execution_count": 27,
   "id": "ebe238bc",
   "metadata": {
    "ExecuteTime": {
     "end_time": "2022-05-18T18:14:04.734936Z",
     "start_time": "2022-05-18T18:13:56.191550Z"
    }
   },
   "outputs": [],
   "source": [
    "# Remove all empty lines \n",
    "for movie in data['Clean_Script']:\n",
    "    for index, row in movie.iterrows():\n",
    "        if len(row['Line']) < 2 and row['Line'] != \"I\":\n",
    "            movie.drop(index, inplace=True)"
   ]
  },
  {
   "cell_type": "code",
   "execution_count": 28,
   "id": "080cd3fa",
   "metadata": {
    "ExecuteTime": {
     "end_time": "2022-05-18T18:14:04.807656Z",
     "start_time": "2022-05-18T18:14:04.741012Z"
    }
   },
   "outputs": [],
   "source": [
    "# check if there is any empty lines \n",
    "for index, row in data.iterrows():\n",
    "    if isinstance(row['Clean_Script'], pd.DataFrame):\n",
    "        movie = row['Movie']\n",
    "        for line in row['Clean_Script']['Line']:\n",
    "            if len(line) < 2 and line != \"I\":\n",
    "                print(movie, line)\n",
    "                #row['Clean_Script'].drop(index, inplace=True)"
   ]
  },
  {
   "cell_type": "code",
   "execution_count": 29,
   "id": "f86af77f",
   "metadata": {
    "ExecuteTime": {
     "end_time": "2022-05-18T18:14:13.140496Z",
     "start_time": "2022-05-18T18:14:04.833425Z"
    }
   },
   "outputs": [],
   "source": [
    "# inspect all grouped charactes to see whether they are inter- or intra-gendered \n",
    "group_total = []\n",
    "for index, row in data.iterrows():\n",
    "    movie = row['Movie']\n",
    "    group = []\n",
    "    for _, r1 in row['Clean_Script'].iterrows():\n",
    "        if r1['Gender_updated'] == \"Group\":\n",
    "            #print(movie, r1['Character'])\n",
    "            group.append(\"Group\")\n",
    "        elif \"&\" in r1['Character_lower'] or \" and \" in r1['Character_lower'] or \"/\" in r1['Character_lower']:\n",
    "            group.append(\"Group\")\n",
    "        else:\n",
    "            group.append(\"Single\")\n",
    "    group_total.append(group)\n",
    "\n",
    "for i in range(len(data)):\n",
    "    data['Clean_Script'][i]['Group'] = group_total[i]              "
   ]
  },
  {
   "cell_type": "code",
   "execution_count": 30,
   "id": "0c5bdc8d",
   "metadata": {
    "ExecuteTime": {
     "end_time": "2022-05-18T18:14:19.608016Z",
     "start_time": "2022-05-18T18:14:13.144582Z"
    }
   },
   "outputs": [],
   "source": [
    "# charactes where the gender is descriped as transgendered, but should be single-gendered\n",
    "female_group = [\"Mia & Tia\", \"Anna & Elsa\", \"Honeymaren&Elsa\"]\n",
    "male_group = [\"Mike and Sulley\", \"Sulley and Mike\", \"The Willie Brothers\", \n",
    "              \"TEO OSCAR/TEO FELIPE\", \"Mr. Incredible and Winston\", \"Frozone and Winston\",\n",
    "              \"Woody and Bo Peep\", \"Bunny & Woody\", \"Woody & Buzz\", \"Ducky & Bunny\", \n",
    "              \"Woody & Bo\"]\n",
    "#empty list \n",
    "gender_group = []\n",
    "\n",
    "#looping through all clean scripts, and if character is in one of the two lists^\n",
    "#change the gender \n",
    "for index, row in data.iterrows():\n",
    "    gender = []\n",
    "    for _, r1 in row['Clean_Script'].iterrows():\n",
    "        \n",
    "        if r1['Character'] in male_group:\n",
    "            gender.append('Male')\n",
    "        elif r1['Character'] in female_group:\n",
    "            gender.append('Female')\n",
    "        else:\n",
    "            gender.append(r1['Gender_updated'])\n",
    "    gender_group.append(gender)\n",
    "\n",
    "#append updated gender list to clean scripts \n",
    "for i in range(len(data)):\n",
    "    data['Clean_Script'][i]['Gender_updated'] = gender_group[i]"
   ]
  },
  {
   "cell_type": "code",
   "execution_count": 31,
   "id": "52a44ffc",
   "metadata": {
    "ExecuteTime": {
     "end_time": "2022-05-18T18:14:26.128669Z",
     "start_time": "2022-05-18T18:14:19.611168Z"
    }
   },
   "outputs": [],
   "source": [
    "# update olaf to be male\n",
    "genders_ = []\n",
    "for index, row in data.iterrows():\n",
    "    genders = []\n",
    "    for _, r1 in row['Clean_Script'].iterrows():\n",
    "        if r1['Character_lower'] == \"olaf\":\n",
    "            genders.append(\"Male\") \n",
    "        elif r1['Character_lower'] == \"taran\":\n",
    "            genders.append(\"Male\")\n",
    "        elif r1['Character_lower'] == \"sulley\":\n",
    "            genders.append(\"Male\")\n",
    "        else:\n",
    "            genders.append(r1['Gender_updated'])\n",
    "           \n",
    "    genders_.append(genders)\n",
    "        #if r1['Character'] in male_group:\n",
    "for i in range(len(data)):\n",
    "    data['Clean_Script'][i]['Gender_updated'] = genders_[i]"
   ]
  },
  {
   "cell_type": "code",
   "execution_count": 32,
   "id": "570a426f",
   "metadata": {
    "ExecuteTime": {
     "end_time": "2022-05-18T18:14:26.148334Z",
     "start_time": "2022-05-18T18:14:26.135352Z"
    }
   },
   "outputs": [],
   "source": [
    "lines_lionking = []\n",
    "for line in data['Clean_Script'][22]['Line']:\n",
    "    line = line.split(\"-=-=-\")[0]\n",
    "    lines_lionking.append(line)\n",
    "    \n",
    "data['Clean_Script'][22]['Line'] = lines_lionking"
   ]
  },
  {
   "cell_type": "code",
   "execution_count": 33,
   "id": "8dd25381",
   "metadata": {
    "ExecuteTime": {
     "end_time": "2022-05-18T18:14:26.339809Z",
     "start_time": "2022-05-18T18:14:26.156240Z"
    }
   },
   "outputs": [],
   "source": [
    "# save data frame\n",
    "os.chdir('/Users/Sofie/Disney Thesis')\n",
    "data.to_pickle(\"scripts_clean_final_22mar.pickle\")"
   ]
  },
  {
   "cell_type": "code",
   "execution_count": 34,
   "id": "592756da",
   "metadata": {
    "ExecuteTime": {
     "end_time": "2022-05-18T18:14:26.548870Z",
     "start_time": "2022-05-18T18:14:26.348726Z"
    }
   },
   "outputs": [],
   "source": [
    "data = pd.read_pickle(\"scripts_clean_final_22mar.pickle\")"
   ]
  },
  {
   "cell_type": "code",
   "execution_count": null,
   "id": "9382926f",
   "metadata": {},
   "outputs": [],
   "source": []
  }
 ],
 "metadata": {
  "kernelspec": {
   "display_name": "Python 3",
   "language": "python",
   "name": "python3"
  },
  "language_info": {
   "codemirror_mode": {
    "name": "ipython",
    "version": 3
   },
   "file_extension": ".py",
   "mimetype": "text/x-python",
   "name": "python",
   "nbconvert_exporter": "python",
   "pygments_lexer": "ipython3",
   "version": "3.8.8"
  },
  "toc": {
   "nav_menu": {},
   "number_sections": true,
   "sideBar": true,
   "skip_h1_title": false,
   "title_cell": "Table of Contents",
   "title_sidebar": "Contents",
   "toc_cell": false,
   "toc_position": {},
   "toc_section_display": true,
   "toc_window_display": false
  }
 },
 "nbformat": 4,
 "nbformat_minor": 5
}
