{
 "cells": [
  {
   "cell_type": "markdown",
   "id": "96c2ceb0",
   "metadata": {},
   "source": [
    "# HTML Scraping of Pixar and Disney Classic Movies"
   ]
  },
  {
   "cell_type": "code",
   "execution_count": 2,
   "id": "6b4f8ef0",
   "metadata": {
    "ExecuteTime": {
     "end_time": "2022-02-28T13:06:07.065815Z",
     "start_time": "2022-02-28T13:06:03.935243Z"
    }
   },
   "outputs": [],
   "source": [
    "#Import libaries \n",
    "import requests\n",
    "import pandas as pd\n",
    "from bs4 import BeautifulSoup\n",
    "import re\n",
    "import numpy as np \n",
    "import os"
   ]
  },
  {
   "cell_type": "markdown",
   "id": "edc9b686",
   "metadata": {},
   "source": [
    "## Access the websites"
   ]
  },
  {
   "cell_type": "code",
   "execution_count": 2,
   "id": "3110cc31",
   "metadata": {
    "ExecuteTime": {
     "end_time": "2022-02-25T14:11:23.935325Z",
     "start_time": "2022-02-25T14:11:23.922188Z"
    }
   },
   "outputs": [
    {
     "name": "stdout",
     "output_type": "stream",
     "text": [
      "Lenght of dict:  31\n"
     ]
    }
   ],
   "source": [
    "# Movies from movies.fandom.com \n",
    "urls = {'Pinocchio': 'https://movies.fandom.com/wiki/Pinocchio_(1940)/Transcript',\n",
    "        'One Hundred and One Dalmatians': 'https://movies.fandom.com/wiki/One_Hundred_and_One_Dalmatians/Transcript',\n",
    "        'The Fox and the Hound':'https://movies.fandom.com/wiki/The_Fox_and_the_Hound/Transcript',\n",
    "        'The Great Mouse Detective':'https://movies.fandom.com/wiki/The_Great_Mouse_Detective/Transcript',\n",
    "        'Oliver & Company':'https://movies.fandom.com/wiki/Oliver_%26_Company/Transcript',\n",
    "        'The Emperors New Groove' : 'https://movies.fandom.com/wiki/The_Emperor%27s_New_Groove/Transcript',\n",
    "        'Lilo & Stitch' :'https://movies.fandom.com/wiki/Lilo_%26_Stitch/Transcript',\n",
    "        'Brother Bear' : 'https://movies.fandom.com/wiki/Brother_Bear/Transcript',\n",
    "        'Bolt' : 'https://movies.fandom.com/wiki/Bolt_(2008)/Transcript',\n",
    "        'Frozen 2': 'https://disneyprincess.fandom.com/wiki/Frozen_2/Transcript',\n",
    "        'Zootopia': 'https://zootopia.fandom.com/wiki/Zootopia/Transcript',\n",
    "        'Tangled': 'https://disneyprincess.fandom.com/wiki/Tangled/Transcript',\n",
    "        'Pocahontas': 'https://pocahontas.fandom.com/wiki/Pocahontas_(Disney_Movie)/Transcript',\n",
    "        'The Hunchback of Notre Dame':'https://disneys-the-hunchback-of-notre-dame-wiki.fandom.com/wiki/The_Hunchback_of_Notre_Dame/Transcript',\n",
    "        'The Rescuers' : 'https://movie-spoof-films.fandom.com/wiki/The_Rescuers/Transcript',\n",
    "        'Fun and Fancy Free': 'https://movie-spoof-films.fandom.com/wiki/Fun_%26_Fancy_Free_(Stephen_Squirrelsky)/Transcript',\n",
    "        'Cinderella':'https://disneyprincess.fandom.com/wiki/Cinderella/Transcript',\n",
    "        'Moana': 'https://moana.fandom.com/wiki/Moana/Transcript',\n",
    "        'Dumbo': 'https://corduroy-nelvana.fandom.com/wiki/Dumbo_(1941)_Transcript',\n",
    "        'Cars': 'https://ficreation.fandom.com/wiki/Cars/Transcript',\n",
    "        'Monsters, Inc.': 'https://movies.fandom.com/wiki/Monsters,_Inc./Transcript',\n",
    "        'Monsters University': 'https://movies.fandom.com/wiki/Monsters_University/Transcript',\n",
    "        'Toy Story 2': 'https://movies.fandom.com/wiki/Toy_Story_2/Transcript',\n",
    "        'Toy Story 3': 'https://movies.fandom.com/wiki/Toy_Story_3/Transcript',\n",
    "        'Toy Story 4' : 'https://movies.fandom.com/wiki/Toy_Story_4/Transcript',\n",
    "        'Toy Story': 'https://movies.fandom.com/wiki/Toy_Story/Transcript',\n",
    "        'Finding Nemo' : 'https://movies.fandom.com/wiki/Finding_Nemo/Transcript',\n",
    "        'Finding Dory' : 'https://movies.fandom.com/wiki/Finding_Dory/Transcript',\n",
    "        'Incredibles 2' :'https://the-incredibles.fandom.com/wiki/Incredibles_2/Transcript',\n",
    "        'The Incredibles': 'https://the-incredibles.fandom.com/wiki/The_Incredibles/Transcript',\n",
    "        'Cars 3' : 'https://geicocarinsurance.fandom.com/wiki/Cars_3/Transcript'\n",
    "        \n",
    "       }\n",
    "\n",
    "print('Lenght of dict: ', len(urls))"
   ]
  },
  {
   "cell_type": "code",
   "execution_count": 3,
   "id": "05a89387",
   "metadata": {
    "ExecuteTime": {
     "end_time": "2022-02-25T14:11:34.195817Z",
     "start_time": "2022-02-25T14:11:34.190724Z"
    }
   },
   "outputs": [],
   "source": [
    "\n",
    "urls_fpx = {'Sleeping Beauty': 'http://www.fpx.de/fp/Disney/Scripts/SleepingBeauty/sb.html',\n",
    "        'Beauty and the Beast': 'http://www.fpx.de/fp/Disney/Scripts/BeautyAndTheBeast.txt'\n",
    "       }\n",
    "\n",
    "urls_cubbi = {'Alice in Wonderland': 'http://www.cubbi.org/disney/scripts/alice.html',\n",
    "        'Hercules': 'http://www.cubbi.org/disney/scripts/hercules.txt',\n",
    "        'The Lion King':'http://www.cubbi.org/disney/scripts/tlk.txt',\n",
    "        'The Aristocats': 'http://www.cubbi.org/disney/scripts/aristocats.txt',\n",
    "        'The Jungle Book': 'http://www.cubbi.org/disney/scripts/tjb.txt'\n",
    "       }\n",
    "\n",
    "urls_imsdb = {'Aladdin': 'https://imsdb.com/scripts/Aladdin.html',\n",
    "        'Frozen': 'https://imsdb.com/scripts/Frozen-(Disney).html',\n",
    "        'Mulan':'https://imsdb.com/scripts/Mulan.html',\n",
    "        'The Little Mermaid':'https://imsdb.com/scripts/Little-Mermaid,-The.html',\n",
    "        'The Rescuers Down Under':'https://imsdb.com/scripts/Rescuers-Down-Under,-The.html',\n",
    "        'Cars 2' : 'https://imsdb.com/scripts/Cars-2.html'\n",
    "       }\n",
    "\n",
    "urls_scifiscriptscom = {'The Black Cauldron': 'http://www.scifiscripts.com/cartoon/blackcauldron.txt'\n",
    "       }"
   ]
  },
  {
   "cell_type": "code",
   "execution_count": 4,
   "id": "8a8905c3",
   "metadata": {
    "ExecuteTime": {
     "end_time": "2022-02-25T14:11:45.737971Z",
     "start_time": "2022-02-25T14:11:35.505365Z"
    }
   },
   "outputs": [
    {
     "name": "stdout",
     "output_type": "stream",
     "text": [
      "https://movies.fandom.com/wiki/Pinocchio_(1940)/Transcript\n",
      "https://movies.fandom.com/wiki/One_Hundred_and_One_Dalmatians/Transcript\n",
      "https://movies.fandom.com/wiki/The_Fox_and_the_Hound/Transcript\n",
      "https://movies.fandom.com/wiki/The_Great_Mouse_Detective/Transcript\n",
      "https://movies.fandom.com/wiki/Oliver_%26_Company/Transcript\n",
      "https://movies.fandom.com/wiki/The_Emperor%27s_New_Groove/Transcript\n",
      "https://movies.fandom.com/wiki/Lilo_%26_Stitch/Transcript\n",
      "https://movies.fandom.com/wiki/Brother_Bear/Transcript\n",
      "https://movies.fandom.com/wiki/Bolt_(2008)/Transcript\n",
      "https://disneyprincess.fandom.com/wiki/Frozen_2/Transcript\n",
      "https://zootopia.fandom.com/wiki/Zootopia/Transcript\n",
      "https://disneyprincess.fandom.com/wiki/Tangled/Transcript\n",
      "https://pocahontas.fandom.com/wiki/Pocahontas_(Disney_Movie)/Transcript\n",
      "https://disneys-the-hunchback-of-notre-dame-wiki.fandom.com/wiki/The_Hunchback_of_Notre_Dame/Transcript\n",
      "https://movie-spoof-films.fandom.com/wiki/The_Rescuers/Transcript\n",
      "https://movie-spoof-films.fandom.com/wiki/Fun_%26_Fancy_Free_(Stephen_Squirrelsky)/Transcript\n",
      "https://disneyprincess.fandom.com/wiki/Cinderella/Transcript\n",
      "https://moana.fandom.com/wiki/Moana/Transcript\n",
      "https://corduroy-nelvana.fandom.com/wiki/Dumbo_(1941)_Transcript\n",
      "https://ficreation.fandom.com/wiki/Cars/Transcript\n",
      "https://movies.fandom.com/wiki/Monsters,_Inc./Transcript\n",
      "https://movies.fandom.com/wiki/Monsters_University/Transcript\n",
      "https://movies.fandom.com/wiki/Toy_Story_2/Transcript\n",
      "https://movies.fandom.com/wiki/Toy_Story_3/Transcript\n",
      "https://movies.fandom.com/wiki/Toy_Story_4/Transcript\n",
      "https://movies.fandom.com/wiki/Toy_Story/Transcript\n",
      "https://movies.fandom.com/wiki/Finding_Nemo/Transcript\n",
      "https://movies.fandom.com/wiki/Finding_Dory/Transcript\n",
      "https://the-incredibles.fandom.com/wiki/Incredibles_2/Transcript\n",
      "https://the-incredibles.fandom.com/wiki/The_Incredibles/Transcript\n",
      "https://geicocarinsurance.fandom.com/wiki/Cars_3/Transcript\n"
     ]
    }
   ],
   "source": [
    "# scrape the html code for movies from fandom.wiki\n",
    "\n",
    "movie_script = pd.DataFrame()\n",
    "movies = []\n",
    "script = []\n",
    "\n",
    "\n",
    "for key, value in urls.items():\n",
    "    movie = key\n",
    "    movies.append(movie)\n",
    "    total_script = []\n",
    "    \n",
    "    url = value\n",
    "    page = requests.get(url)\n",
    "    soup = BeautifulSoup(page.content,'html.parser')\n",
    "    results = soup.find(id=\"mw-content-text\")\n",
    "    job_elements = results.find_all(\"div\", class_=\"mw-parser-output\")\n",
    "    total_script.append(job_elements)\n",
    "    script.append(total_script)\n",
    "    \n",
    "    print(value)"
   ]
  },
  {
   "cell_type": "code",
   "execution_count": 5,
   "id": "9418936f",
   "metadata": {
    "ExecuteTime": {
     "end_time": "2022-02-25T14:11:45.752855Z",
     "start_time": "2022-02-25T14:11:45.745628Z"
    }
   },
   "outputs": [],
   "source": [
    "# add movies to dataframe \n",
    "movie_script['Movie'] = movies\n",
    "movie_script['Script'] = script\n",
    "movie_script['Site'] = 'fandom'"
   ]
  },
  {
   "cell_type": "code",
   "execution_count": 6,
   "id": "bb96d4ef",
   "metadata": {
    "ExecuteTime": {
     "end_time": "2022-02-25T14:11:46.166077Z",
     "start_time": "2022-02-25T14:11:45.761868Z"
    }
   },
   "outputs": [
    {
     "name": "stdout",
     "output_type": "stream",
     "text": [
      "http://www.fpx.de/fp/Disney/Scripts/SleepingBeauty/sb.html\n",
      "http://www.fpx.de/fp/Disney/Scripts/BeautyAndTheBeast.txt\n"
     ]
    },
    {
     "data": {
      "text/html": [
       "<div>\n",
       "<style scoped>\n",
       "    .dataframe tbody tr th:only-of-type {\n",
       "        vertical-align: middle;\n",
       "    }\n",
       "\n",
       "    .dataframe tbody tr th {\n",
       "        vertical-align: top;\n",
       "    }\n",
       "\n",
       "    .dataframe thead th {\n",
       "        text-align: right;\n",
       "    }\n",
       "</style>\n",
       "<table border=\"1\" class=\"dataframe\">\n",
       "  <thead>\n",
       "    <tr style=\"text-align: right;\">\n",
       "      <th></th>\n",
       "      <th>Movie</th>\n",
       "      <th>Script</th>\n",
       "      <th>Site</th>\n",
       "    </tr>\n",
       "  </thead>\n",
       "  <tbody>\n",
       "    <tr>\n",
       "      <th>0</th>\n",
       "      <td>Sleeping Beauty</td>\n",
       "      <td>[[[\\n, &lt;dt&gt; Narrator: &lt;dd&gt;\\tIn a far away land...</td>\n",
       "      <td>FPX</td>\n",
       "    </tr>\n",
       "    <tr>\n",
       "      <th>1</th>\n",
       "      <td>Beauty and the Beast</td>\n",
       "      <td>[[[\\nBeauty and the Beast\\nThe Complete Script...</td>\n",
       "      <td>FPX</td>\n",
       "    </tr>\n",
       "  </tbody>\n",
       "</table>\n",
       "</div>"
      ],
      "text/plain": [
       "                  Movie                                             Script  \\\n",
       "0       Sleeping Beauty  [[[\\n, <dt> Narrator: <dd>\\tIn a far away land...   \n",
       "1  Beauty and the Beast  [[[\\nBeauty and the Beast\\nThe Complete Script...   \n",
       "\n",
       "  Site  \n",
       "0  FPX  \n",
       "1  FPX  "
      ]
     },
     "execution_count": 6,
     "metadata": {},
     "output_type": "execute_result"
    }
   ],
   "source": [
    "# collect all scripts from FPX\n",
    "\n",
    "movie_script_fpx = pd.DataFrame()\n",
    "movies = []\n",
    "script = []\n",
    "\n",
    "for key, value in urls_fpx.items():\n",
    "    movie = key\n",
    "    movies.append(movie)\n",
    "    total_script = []\n",
    "    print(value)\n",
    "    url = value\n",
    "    page = requests.get(url)\n",
    "    soup = BeautifulSoup(page.text, \"html.parser\")\n",
    "    info = soup.find_all(\"dl\", {})\n",
    "    if len(info) == 0:\n",
    "        info = soup.find_all(\"pre\", {})\n",
    "    total_script.append(info)\n",
    "    script.append(total_script)\n",
    "\n",
    "# add to dataframe \n",
    "movie_script_fpx['Movie'] = movies\n",
    "movie_script_fpx['Script'] = script\n",
    "movie_script_fpx['Site'] = 'FPX'\n",
    "movie_script_fpx   \n"
   ]
  },
  {
   "cell_type": "code",
   "execution_count": 7,
   "id": "f041d01d",
   "metadata": {
    "ExecuteTime": {
     "end_time": "2022-02-25T14:11:49.603418Z",
     "start_time": "2022-02-25T14:11:46.170977Z"
    }
   },
   "outputs": [
    {
     "name": "stdout",
     "output_type": "stream",
     "text": [
      "http://www.cubbi.org/disney/scripts/alice.html\n",
      "http://www.cubbi.org/disney/scripts/hercules.txt\n",
      "http://www.cubbi.org/disney/scripts/tlk.txt\n",
      "http://www.cubbi.org/disney/scripts/aristocats.txt\n",
      "http://www.cubbi.org/disney/scripts/tjb.txt\n"
     ]
    }
   ],
   "source": [
    "# collect all scripts from cubbi \n",
    "movie_script_cubbi = pd.DataFrame()\n",
    "movies = []\n",
    "script = []\n",
    "\n",
    "for key, value in urls_cubbi.items():\n",
    "    movie = key\n",
    "    movies.append(movie)\n",
    "    total_script = []\n",
    "    print(value)\n",
    "    url = value\n",
    "    page = requests.get(url)\n",
    "    soup = BeautifulSoup(page.text, \"html.parser\")\n",
    "    info = soup.find_all(\"p\", {})\n",
    "    if len(info) == 0:\n",
    "        info = page.text\n",
    "        info = str(info)\n",
    "        #remove \\r','\\t\n",
    "        info = re.sub(r\"[\\r','\\t]\", \"\", info)\n",
    "        index = 'THE SCRIPT'\n",
    "        if index in info:\n",
    "            index = info.find(index)\n",
    "            info = info[index:]\n",
    "        else: \n",
    "            index = 'The Script'\n",
    "            if index in info:\n",
    "                index = info.find('The Script')\n",
    "                info = info[index:]\n",
    "            else: \n",
    "                continue\n",
    "        \n",
    "    total_script.append(info)\n",
    "    script.append(total_script)\n",
    "\n",
    "movie_script_cubbi['Movie'] = movies\n",
    "movie_script_cubbi['Script'] = script\n",
    "movie_script_cubbi['Site'] = 'cubbi'\n"
   ]
  },
  {
   "cell_type": "code",
   "execution_count": 8,
   "id": "8103aad5",
   "metadata": {
    "ExecuteTime": {
     "end_time": "2022-02-25T14:11:51.469562Z",
     "start_time": "2022-02-25T14:11:49.609104Z"
    }
   },
   "outputs": [
    {
     "name": "stdout",
     "output_type": "stream",
     "text": [
      "https://imsdb.com/scripts/Aladdin.html\n",
      "https://imsdb.com/scripts/Frozen-(Disney).html\n",
      "https://imsdb.com/scripts/Mulan.html\n",
      "https://imsdb.com/scripts/Little-Mermaid,-The.html\n",
      "https://imsdb.com/scripts/Rescuers-Down-Under,-The.html\n",
      "https://imsdb.com/scripts/Cars-2.html\n"
     ]
    }
   ],
   "source": [
    "# collect all scripts from imbsd\n",
    "\n",
    "movie_script_imsdb = pd.DataFrame()\n",
    "movies = []\n",
    "script = []\n",
    "\n",
    "\n",
    "for key, value in urls_imsdb.items():\n",
    "    movie = key\n",
    "    movies.append(movie)\n",
    "    total_script = []\n",
    "    \n",
    "    print(value)\n",
    "    url = value\n",
    "    page = requests.get(url)\n",
    "    soup = BeautifulSoup(page.text, \"html.parser\")\n",
    "    info = soup.find_all(\"pre\", {})\n",
    "    total_script.append(info)\n",
    "    script.append(total_script)\n",
    "    \n",
    "movie_script_imsdb['Movie'] = movies\n",
    "movie_script_imsdb['Script'] = script\n",
    "movie_script_imsdb['Site'] = 'imsdb'\n"
   ]
  },
  {
   "cell_type": "code",
   "execution_count": 9,
   "id": "3437f097",
   "metadata": {
    "ExecuteTime": {
     "end_time": "2022-02-25T14:11:52.521994Z",
     "start_time": "2022-02-25T14:11:51.472415Z"
    }
   },
   "outputs": [
    {
     "name": "stdout",
     "output_type": "stream",
     "text": [
      "http://www.scifiscripts.com/cartoon/blackcauldron.txt\n"
     ]
    },
    {
     "data": {
      "text/html": [
       "<div>\n",
       "<style scoped>\n",
       "    .dataframe tbody tr th:only-of-type {\n",
       "        vertical-align: middle;\n",
       "    }\n",
       "\n",
       "    .dataframe tbody tr th {\n",
       "        vertical-align: top;\n",
       "    }\n",
       "\n",
       "    .dataframe thead th {\n",
       "        text-align: right;\n",
       "    }\n",
       "</style>\n",
       "<table border=\"1\" class=\"dataframe\">\n",
       "  <thead>\n",
       "    <tr style=\"text-align: right;\">\n",
       "      <th></th>\n",
       "      <th>Movie</th>\n",
       "      <th>Script</th>\n",
       "      <th>Site</th>\n",
       "    </tr>\n",
       "  </thead>\n",
       "  <tbody>\n",
       "    <tr>\n",
       "      <th>0</th>\n",
       "      <td>The Black Cauldron</td>\n",
       "      <td>[The Black Cauldron\\nPrologue\\nLegend has it, ...</td>\n",
       "      <td>scifiscripts.com</td>\n",
       "    </tr>\n",
       "  </tbody>\n",
       "</table>\n",
       "</div>"
      ],
      "text/plain": [
       "                Movie                                             Script  \\\n",
       "0  The Black Cauldron  [The Black Cauldron\\nPrologue\\nLegend has it, ...   \n",
       "\n",
       "               Site  \n",
       "0  scifiscripts.com  "
      ]
     },
     "execution_count": 9,
     "metadata": {},
     "output_type": "execute_result"
    }
   ],
   "source": [
    "#collect scripts from scifiscripts.com\n",
    "#The Black Cauldron  \n",
    "\n",
    "movie_script_scifiscripts = pd.DataFrame()\n",
    "movies = []\n",
    "script = []\n",
    "\n",
    "for key, value in urls_scifiscriptscom.items():\n",
    "    movie = key\n",
    "    movies.append(movie)\n",
    "    total_script = []\n",
    "    print(value)\n",
    "    url = value\n",
    "    page = requests.get(url)\n",
    "    soup = BeautifulSoup(page.text, \"html.parser\")\n",
    "    info = page.text\n",
    "    info = str(info)\n",
    "        \n",
    "        \n",
    "    total_script.append(info)\n",
    "    script.append(total_script)\n",
    "\n",
    "movie_script_scifiscripts['Movie'] = movies\n",
    "movie_script_scifiscripts['Script'] = script\n",
    "movie_script_scifiscripts['Site'] = 'scifiscripts.com'\n",
    "\n",
    "movie_script_scifiscripts"
   ]
  },
  {
   "cell_type": "code",
   "execution_count": 10,
   "id": "28cbb906",
   "metadata": {
    "ExecuteTime": {
     "end_time": "2022-02-25T14:11:53.065240Z",
     "start_time": "2022-02-25T14:11:52.529438Z"
    }
   },
   "outputs": [],
   "source": [
    "#Peter pan get script \n",
    "movie_script_peterpan = pd.DataFrame()\n",
    "movies = []\n",
    "script = []\n",
    "\n",
    "\n",
    "\n",
    "movie = 'Peter Pan'\n",
    "movies.append(movie)\n",
    "    \n",
    "url = 'https://giveadaygetadisneyday.blogspot.com/2014/12/peter-pan-1953-script.html?fbclid=IwAR0Zlyz8BIpcpmr74GRtsI3NVLGfxODEiK2IeOIAtsgO5IrEC0hU20lgXpI'\n",
    "page = requests.get(url)\n",
    "soup = BeautifulSoup(page.content,'html.parser')\n",
    "job_elements = soup.find_all(\"div\", class_=\"region-inner main-inner\")\n",
    "script.append(job_elements)\n",
    "    \n",
    "movie_script_peterpan['Movie'] = movies\n",
    "movie_script_peterpan['Script'] = script\n",
    "movie_script_peterpan['Site'] = 'Blogspot'\n"
   ]
  },
  {
   "cell_type": "code",
   "execution_count": 11,
   "id": "78fc87a3",
   "metadata": {
    "ExecuteTime": {
     "end_time": "2022-02-25T14:11:53.083415Z",
     "start_time": "2022-02-25T14:11:53.070912Z"
    }
   },
   "outputs": [],
   "source": [
    "# merge all collected scripts in one data frame \n",
    "movies_totals = [movie_script, movie_script_cubbi, movie_script_fpx,\n",
    "                 movie_script_peterpan, movie_script_imsdb,\n",
    "                 movie_script_scifiscripts]\n",
    "\n",
    "movies_totals = pd.concat(movies_totals, ignore_index=True)"
   ]
  },
  {
   "cell_type": "code",
   "execution_count": 12,
   "id": "9c31f378",
   "metadata": {
    "ExecuteTime": {
     "end_time": "2022-02-25T14:11:54.053040Z",
     "start_time": "2022-02-25T14:11:53.091622Z"
    }
   },
   "outputs": [],
   "source": [
    "# convert scripts to strings \n",
    "movies_totals['Script'] = movies_totals['Script'].astype(str)"
   ]
  },
  {
   "cell_type": "code",
   "execution_count": 13,
   "id": "157c630a",
   "metadata": {
    "ExecuteTime": {
     "end_time": "2022-02-25T14:11:54.467145Z",
     "start_time": "2022-02-25T14:11:54.056589Z"
    }
   },
   "outputs": [],
   "source": [
    "movies_totals.to_excel('Scraped_scripts.xlsx', index=False)"
   ]
  },
  {
   "cell_type": "code",
   "execution_count": 14,
   "id": "38577d86",
   "metadata": {
    "ExecuteTime": {
     "end_time": "2022-02-25T14:11:54.505279Z",
     "start_time": "2022-02-25T14:11:54.469711Z"
    }
   },
   "outputs": [],
   "source": [
    "import pickle\n",
    "def pickle_dataframe(x, filename):\n",
    "    with open(filename, \"wb\") as f:\n",
    "        pickle.dump(x, f)\n",
    "        \n",
    "def open_pickled_dataframe(filename):\n",
    "    with open(filename, \"rb\") as f:\n",
    "        return pickle.load(f)\n",
    "    \n",
    "pickle_dataframe(movies_totals, 'Scraped_scripts.pickle')"
   ]
  },
  {
   "cell_type": "markdown",
   "id": "f6139798",
   "metadata": {},
   "source": [
    "# Scraping the old snow white movie"
   ]
  },
  {
   "cell_type": "code",
   "execution_count": 7,
   "id": "62089545",
   "metadata": {
    "ExecuteTime": {
     "end_time": "2022-03-03T07:26:21.527927Z",
     "start_time": "2022-03-03T07:26:21.454630Z"
    }
   },
   "outputs": [],
   "source": [
    "snowwhite_url = {'Snow White and the Seven Dwarfs': 'https://the-jh-movie-collection-official.fandom.com/wiki/Snow_White_and_the_Seven_Dwarfs_(1937_film)/Transcript'\n",
    "       }"
   ]
  },
  {
   "cell_type": "code",
   "execution_count": 11,
   "id": "f1f9e50f",
   "metadata": {
    "ExecuteTime": {
     "end_time": "2022-03-03T07:29:48.611913Z",
     "start_time": "2022-03-03T07:29:48.397033Z"
    }
   },
   "outputs": [
    {
     "name": "stdout",
     "output_type": "stream",
     "text": [
      "https://the-jh-movie-collection-official.fandom.com/wiki/Snow_White_and_the_Seven_Dwarfs_(1937_film)/Transcript\n"
     ]
    }
   ],
   "source": [
    "# scrape the html code for movies from fandom.wiki\n",
    "\n",
    "snowwhite_script = pd.DataFrame()\n",
    "movies = []\n",
    "script = []\n",
    "\n",
    "\n",
    "for key, value in snowwhite_url.items():\n",
    "    movie = key\n",
    "    movies.append(movie)\n",
    "    total_script = []\n",
    "    \n",
    "    url = value\n",
    "    page = requests.get(url)\n",
    "    soup = BeautifulSoup(page.content,'html.parser')\n",
    "    results = soup.find(id=\"mw-content-text\")\n",
    "    job_elements = results.find_all(\"div\", class_=\"mw-parser-output\")\n",
    "    total_script.append(job_elements)\n",
    "    script.append(total_script)\n",
    "    \n",
    "    print(value)\n",
    "# add movies to dataframe \n",
    "snowwhite_script['Movie'] = movies\n",
    "snowwhite_script['Script'] = script\n",
    "snowwhite_script['Site'] = 'fandom'\n",
    "snowwhite_script['Script'][0] = str(snowwhite_script['Script'][0])\n",
    "\n",
    "pickle_dataframe(snowwhite_script, 'snowwhite_script.pickle')"
   ]
  }
 ],
 "metadata": {
  "kernelspec": {
   "display_name": "Python 3",
   "language": "python",
   "name": "python3"
  },
  "language_info": {
   "codemirror_mode": {
    "name": "ipython",
    "version": 3
   },
   "file_extension": ".py",
   "mimetype": "text/x-python",
   "name": "python",
   "nbconvert_exporter": "python",
   "pygments_lexer": "ipython3",
   "version": "3.8.8"
  },
  "toc": {
   "nav_menu": {},
   "number_sections": true,
   "sideBar": true,
   "skip_h1_title": false,
   "title_cell": "Table of Contents",
   "title_sidebar": "Contents",
   "toc_cell": false,
   "toc_position": {},
   "toc_section_display": true,
   "toc_window_display": false
  }
 },
 "nbformat": 4,
 "nbformat_minor": 5
}
