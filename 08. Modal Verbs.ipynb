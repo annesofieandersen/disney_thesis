{
 "cells": [
  {
   "cell_type": "markdown",
   "id": "7de6ffa6",
   "metadata": {},
   "source": [
    "# Speech Elements"
   ]
  },
  {
   "cell_type": "markdown",
   "id": "8e6cf78e",
   "metadata": {},
   "source": [
    "## Preparing"
   ]
  },
  {
   "cell_type": "code",
   "execution_count": 1,
   "id": "fd228a1f",
   "metadata": {
    "ExecuteTime": {
     "end_time": "2022-04-25T08:06:36.381920Z",
     "start_time": "2022-04-25T08:06:36.373139Z"
    }
   },
   "outputs": [],
   "source": [
    "import spacy\n",
    "from spacy.matcher import Matcher\n",
    "import pandas as pd\n",
    "import re\n",
    "import os\n",
    "import nltk\n",
    "import textacy\n",
    "from collections import Counter\n",
    "import contractions\n",
    "import matplotlib.pyplot as plt\n",
    "import altair as alt\n",
    "import numpy as np"
   ]
  },
  {
   "cell_type": "markdown",
   "id": "115945cb",
   "metadata": {},
   "source": [
    "Read in data"
   ]
  },
  {
   "cell_type": "code",
   "execution_count": 2,
   "id": "d7a4c33f",
   "metadata": {
    "ExecuteTime": {
     "end_time": "2022-04-25T07:32:01.882871Z",
     "start_time": "2022-04-25T07:31:59.461136Z"
    }
   },
   "outputs": [
    {
     "name": "stderr",
     "output_type": "stream",
     "text": [
      "/opt/anaconda3/lib/python3.8/site-packages/spacy/util.py:833: UserWarning: [W095] Model 'en_core_web_sm' (3.0.0) was trained with spaCy v3.0 and may not be 100% compatible with the current version (3.2.2). If you see errors or degraded performance, download a newer compatible model or retrain your custom model with the current spaCy version. For more details and available updates, run: python -m spacy validate\n",
      "  warnings.warn(warn_msg)\n"
     ]
    }
   ],
   "source": [
    "\n",
    "\n",
    "# import clean scripts (character names are removed too)\n",
    "all_scripts = pd.read_pickle(\"all_scripts_cleaned_total-99.pickle\")\n",
    "# import spacy english dict \n",
    "nlp = spacy.load('en_core_web_sm')"
   ]
  },
  {
   "cell_type": "code",
   "execution_count": 3,
   "id": "63d30645",
   "metadata": {
    "ExecuteTime": {
     "end_time": "2022-04-25T07:42:42.873997Z",
     "start_time": "2022-04-25T07:37:43.809455Z"
    }
   },
   "outputs": [],
   "source": [
    "# run nlp spacy on all lines\n",
    "nlp_sentences = []\n",
    "for sentence in all_scripts['Clean_Line_all']:\n",
    "    doc=nlp(sentence)\n",
    "    nlp_sentences.append(doc)\n",
    "    \n",
    "all_scripts['line_NLP'] = nlp_sentences"
   ]
  },
  {
   "cell_type": "markdown",
   "id": "1e1a1888",
   "metadata": {},
   "source": [
    "## Verbs in Sentences"
   ]
  },
  {
   "cell_type": "code",
   "execution_count": 4,
   "id": "f120046f",
   "metadata": {
    "ExecuteTime": {
     "end_time": "2022-04-25T07:42:51.174102Z",
     "start_time": "2022-04-25T07:42:42.881595Z"
    }
   },
   "outputs": [],
   "source": [
    "# SAVE VERBS IN A COLUMN\n",
    "\n",
    "list_of_verbs = []\n",
    "# patterns for verbs \n",
    "patterns = [[{\"POS\": \"VERB\"}], [{\"POS\": \"AUX\"}]]\n",
    "\n",
    "# extract verbs\n",
    "for sentence in all_scripts['line_NLP']:\n",
    "    verbs = textacy.extract.matches.token_matches(sentence, patterns=patterns)\n",
    "    all_verbs = []\n",
    "    for verb in verbs:\n",
    "        verb = str(verb) \n",
    "        all_verbs.append(verb)\n",
    "    list_of_verbs.append(all_verbs)\n",
    "        \n",
    "# storing the result in a new file and converting to csv\n",
    "all_scripts['Verbs'] = list_of_verbs"
   ]
  },
  {
   "cell_type": "code",
   "execution_count": 5,
   "id": "498948e7",
   "metadata": {
    "ExecuteTime": {
     "end_time": "2022-04-25T07:42:51.285636Z",
     "start_time": "2022-04-25T07:42:51.177455Z"
    }
   },
   "outputs": [],
   "source": [
    "# count words and verbs in sentences \n",
    "all_scripts['Verbs_n'] = all_scripts['Verbs'].str.len()\n",
    "all_scripts['line_split'] = all_scripts['Clean_Line_all'].str.split()\n",
    "all_scripts['Words_n'] = all_scripts['line_split'].str.len()"
   ]
  },
  {
   "cell_type": "markdown",
   "id": "b4b32291",
   "metadata": {},
   "source": [
    "## Modal Verbs\n",
    "Analysis of modal verbs is a particular area in lingustics, where modal sense of the sentence is determined\n",
    "\n",
    "Modality is about a speaker’s or a writer’s attitude towards the world. A speaker or writer can express certainty, possibility, willingness, obligation, necessity and ability by using modal words and expressions.\n",
    "\n",
    "There are nine modal auxiliary verbs: **shall, should, can, could, will, would, may, must, might.**\n",
    "\n",
    "Semi-modals: **dare, need, ought to, used to**"
   ]
  },
  {
   "cell_type": "code",
   "execution_count": 6,
   "id": "d4cb57be",
   "metadata": {
    "ExecuteTime": {
     "end_time": "2022-04-25T07:42:51.347253Z",
     "start_time": "2022-04-25T07:42:51.305975Z"
    }
   },
   "outputs": [],
   "source": [
    "# list of modals \n",
    "modals = ['shall', 'should', 'can', 'could', 'will', 'would', 'may', 'must', 'might']\n",
    "\n",
    "# count number of modal verbs for all sentences \n",
    "modals_count = []\n",
    "for list_of_verbs in all_scripts['Verbs']:\n",
    "    count = 0\n",
    "    for word in list_of_verbs:\n",
    "        if word in modals:\n",
    "            count += 1\n",
    "    modals_count.append(count)\n",
    "    \n",
    "all_scripts['Modal_verbs'] = modals_count"
   ]
  },
  {
   "cell_type": "code",
   "execution_count": 7,
   "id": "133da50b",
   "metadata": {
    "ExecuteTime": {
     "end_time": "2022-04-25T07:42:51.407803Z",
     "start_time": "2022-04-25T07:42:51.352233Z"
    },
    "scrolled": true
   },
   "outputs": [],
   "source": [
    "sum_lines = all_scripts.groupby(['Gender']).sum().reset_index()"
   ]
  },
  {
   "cell_type": "code",
   "execution_count": 8,
   "id": "cfaee042",
   "metadata": {
    "ExecuteTime": {
     "end_time": "2022-04-25T07:42:51.575267Z",
     "start_time": "2022-04-25T07:42:51.522345Z"
    }
   },
   "outputs": [],
   "source": [
    "#Calculate procent of verbs and the share of verbs that are modal verbs\n",
    "all_scripts['Verbs_pct'] = all_scripts['Verbs_n'] / all_scripts['Words_n']\n",
    "all_scripts['Modals_pct'] = all_scripts['Modal_verbs'] /all_scripts['Verbs_n']"
   ]
  },
  {
   "cell_type": "code",
   "execution_count": 9,
   "id": "14672a1f-7f4a-4ff9-bdf7-5af5786a04e8",
   "metadata": {},
   "outputs": [],
   "source": [
    "#mean model verbs in procent \n",
    "mean_modal = all_scripts[['Modals_pct','Gender']].groupby('Gender').mean()*100\n",
    "mean_modal = mean_modal.reset_index()\n",
    "mean_modal = mean_modal.iloc[::-1]"
   ]
  },
  {
   "cell_type": "code",
   "execution_count": 10,
   "id": "e897d37c-14e2-427d-ab7b-3f3cac4fa1da",
   "metadata": {},
   "outputs": [
    {
     "data": {
      "text/html": [
       "<div>\n",
       "<style scoped>\n",
       "    .dataframe tbody tr th:only-of-type {\n",
       "        vertical-align: middle;\n",
       "    }\n",
       "\n",
       "    .dataframe tbody tr th {\n",
       "        vertical-align: top;\n",
       "    }\n",
       "\n",
       "    .dataframe thead th {\n",
       "        text-align: right;\n",
       "    }\n",
       "</style>\n",
       "<table border=\"1\" class=\"dataframe\">\n",
       "  <thead>\n",
       "    <tr style=\"text-align: right;\">\n",
       "      <th></th>\n",
       "      <th>Gender</th>\n",
       "      <th>Modals_pct</th>\n",
       "    </tr>\n",
       "  </thead>\n",
       "  <tbody>\n",
       "    <tr>\n",
       "      <th>1</th>\n",
       "      <td>Male</td>\n",
       "      <td>6.235383</td>\n",
       "    </tr>\n",
       "    <tr>\n",
       "      <th>0</th>\n",
       "      <td>Female</td>\n",
       "      <td>7.255980</td>\n",
       "    </tr>\n",
       "  </tbody>\n",
       "</table>\n",
       "</div>"
      ],
      "text/plain": [
       "   Gender  Modals_pct\n",
       "1    Male    6.235383\n",
       "0  Female    7.255980"
      ]
     },
     "execution_count": 10,
     "metadata": {},
     "output_type": "execute_result"
    }
   ],
   "source": [
    "mean_modal"
   ]
  },
  {
   "cell_type": "markdown",
   "id": "a759007b-8f72-4d9b-8ed3-efc03b6e9ac2",
   "metadata": {},
   "source": [
    "### Plotting model verbs for men and women "
   ]
  },
  {
   "cell_type": "code",
   "execution_count": 11,
   "id": "2d00ab8e-d61b-46be-abd5-250dc27e5923",
   "metadata": {},
   "outputs": [],
   "source": [
    "colors = [\"#3e1e58\", \"#fce43c\", \"#98c862\", \"#4c8e70\"]\n"
   ]
  },
  {
   "cell_type": "code",
   "execution_count": 12,
   "id": "27f02078-b096-4f2b-86cf-a7d6c9341893",
   "metadata": {},
   "outputs": [
    {
     "name": "stderr",
     "output_type": "stream",
     "text": [
      "/var/folders/f1/s37s84893rx20wc3fwvjlf2m0000gn/T/ipykernel_17730/2797542718.py:17: UserWarning: FixedFormatter should only be used together with FixedLocator\n",
      "  ax1.set_xticklabels(['Men', 'Women'], fontsize=12, rotation=0)\n",
      "/var/folders/f1/s37s84893rx20wc3fwvjlf2m0000gn/T/ipykernel_17730/2797542718.py:20: UserWarning: FixedFormatter should only be used together with FixedLocator\n",
      "  ax2.set_xticklabels(['Men', 'Women'], fontsize=12, rotation=0)\n"
     ]
    },
    {
     "data": {
      "image/png": "[encoded data removed]",
      "text/plain": [
       "<Figure size 1152x360 with 2 Axes>"
      ]
     },
     "metadata": {
      "needs_background": "light"
     },
     "output_type": "display_data"
    }
   ],
   "source": [
    "# plot figure of subplots \n",
    "fig1, [ax1, ax2] = plt.subplots(1, 2, figsize = (16, 5))\n",
    "\n",
    "# plot 1\n",
    "ax1.bar(mean_modal['Gender'], mean_modal['Modals_pct'],edgecolor='black', \n",
    "        color = colors, zorder = 3)\n",
    "\n",
    "# plot 2 \n",
    "ax2.bar(mean_modal['Gender'], mean_modal['Modals_pct'],edgecolor='black', \n",
    "        color = colors, zorder = 3)\n",
    "\n",
    "# formatting\n",
    "import matplotlib.ticker as mtick\n",
    "ax1.yaxis.set_major_formatter(mtick.PercentFormatter()) # set percentage at yaxis.\n",
    "ax2.yaxis.set_major_formatter(mtick.PercentFormatter()) # set percentage at yaxis.\n",
    "\n",
    "ax1.set_xticklabels(['Men', 'Women'], fontsize=12, rotation=0)\n",
    "ax1.set_ylim([0, 30])\n",
    "\n",
    "ax2.set_xticklabels(['Men', 'Women'], fontsize=12, rotation=0)\n",
    "ax2.set_ylim([0, 30])\n",
    "ax2.set_title('Modal verbs')\n",
    "\n",
    "ax1.grid(True)\n",
    "ax2.grid(True)\n",
    "\n",
    "#plt.show()\n",
    "plt.savefig('modal.png',bbox_inches='tight')"
   ]
  },
  {
   "cell_type": "code",
   "execution_count": 20,
   "id": "4a4451ac-353b-4afc-ba48-37819b93b096",
   "metadata": {},
   "outputs": [],
   "source": [
    "# create for loop for testing z-test\n",
    "import statsmodels.api as sm\n",
    "\n",
    "# list of columns we want to test \n",
    "test_list = ['Modal_verbs']\n",
    "z_test_results = []\n",
    "m_mean = []\n",
    "w_mean = []\n",
    "\n",
    "for column in test_list:\n",
    "    column = column\n",
    "    male = all_scripts.query('Gender == \"Male\"')[column] \n",
    "    male = sm.stats.DescrStatsW(male)\n",
    "    male_mean = all_scripts.loc[all_scripts['Gender'] == 'Male'][column].mean()\n",
    "    m_mean.append(male_mean)\n",
    "    female = all_scripts.query('Gender == \"Female\"')[column]\n",
    "    female = sm.stats.DescrStatsW(female)\n",
    "    female_mean = all_scripts.loc[all_scripts['Gender'] == 'Female'][column].mean()\n",
    "    w_mean.append(female_mean)\n",
    "    z_test = sm.stats.CompareMeans(male, female).ztest_ind(usevar='unequal',value=0)\n",
    "    z_test_results.append(z_test)\n",
    "    \n",
    "test_df = pd.DataFrame(\n",
    "    {'Speech element': test_list,\n",
    "     'Mean for men': m_mean,\n",
    "     'Mean for women': w_mean,\n",
    "     'Z_test': z_test_results,\n",
    "    })"
   ]
  },
  {
   "cell_type": "code",
   "execution_count": 21,
   "id": "96e01633-1cd6-4001-9d3a-5af9c7c44bb6",
   "metadata": {},
   "outputs": [
    {
     "data": {
      "text/html": [
       "<div>\n",
       "<style scoped>\n",
       "    .dataframe tbody tr th:only-of-type {\n",
       "        vertical-align: middle;\n",
       "    }\n",
       "\n",
       "    .dataframe tbody tr th {\n",
       "        vertical-align: top;\n",
       "    }\n",
       "\n",
       "    .dataframe thead th {\n",
       "        text-align: right;\n",
       "    }\n",
       "</style>\n",
       "<table border=\"1\" class=\"dataframe\">\n",
       "  <thead>\n",
       "    <tr style=\"text-align: right;\">\n",
       "      <th></th>\n",
       "      <th>Speech element</th>\n",
       "      <th>Mean for men</th>\n",
       "      <th>Mean for women</th>\n",
       "      <th>Z_test</th>\n",
       "    </tr>\n",
       "  </thead>\n",
       "  <tbody>\n",
       "    <tr>\n",
       "      <th>0</th>\n",
       "      <td>Modal_verbs</td>\n",
       "      <td>0.197766</td>\n",
       "      <td>0.219585</td>\n",
       "      <td>(-3.5776489853454976, 0.0003466986100185891)</td>\n",
       "    </tr>\n",
       "  </tbody>\n",
       "</table>\n",
       "</div>"
      ],
      "text/plain": [
       "  Speech element  Mean for men  Mean for women  \\\n",
       "0    Modal_verbs      0.197766        0.219585   \n",
       "\n",
       "                                         Z_test  \n",
       "0  (-3.5776489853454976, 0.0003466986100185891)  "
      ]
     },
     "execution_count": 21,
     "metadata": {},
     "output_type": "execute_result"
    }
   ],
   "source": [
    "test_df"
   ]
  },
  {
   "cell_type": "markdown",
   "id": "8bb6e378-3f55-4a32-9b23-8fabe6f36234",
   "metadata": {},
   "source": [
    "### Plotting eras and modal verbs for men and women"
   ]
  },
  {
   "cell_type": "code",
   "execution_count": 16,
   "id": "46fea462",
   "metadata": {},
   "outputs": [],
   "source": [
    "#Adding letters to era to make sure they are alphabetically listed \n",
    "all_scripts['Era'] = all_scripts['Era'].replace({'The Golden Age': 'A The Golden Age', 'The Bronze Age': 'B The Bronze Age', 'The Disney Renaissance': 'C The Disney Renaissance', \n",
    "                               'Post Renaissance Era': 'D Post Renaissance Era','The Revival Era': 'E The Revival Era',\n",
    "                               'Present period': 'F Present period'})"
   ]
  },
  {
   "cell_type": "code",
   "execution_count": 23,
   "id": "19bc1409",
   "metadata": {},
   "outputs": [],
   "source": [
    "#Function words across Era \n",
    "import matplotlib.ticker as mtick\n",
    "df_women = all_scripts[all_scripts.Gender == 'Female']\n",
    "df_men = all_scripts[all_scripts.Gender == 'Male']\n",
    "\n",
    "mean_mod_era_female = df_women[['Modals_pct','Era']].groupby('Era').mean()*100\n",
    "mean_mod_era_male = df_men[['Modals_pct','Era']].groupby('Era').mean()*100"
   ]
  },
  {
   "cell_type": "code",
   "execution_count": 24,
   "id": "fcddb023",
   "metadata": {},
   "outputs": [
    {
     "name": "stdout",
     "output_type": "stream",
     "text": [
      "                          Modals_pct\n",
      "Era                                 \n",
      "A The Golden Age           10.425924\n",
      "B The Bronze Age            8.383896\n",
      "C The Disney Renaissance    8.464795\n",
      "D Post Renaissance Era      5.987002\n",
      "E The Revival Era           6.424235\n",
      "F Present period            7.118239\n",
      "                          Modals_pct\n",
      "Era                                 \n",
      "A The Golden Age            7.476257\n",
      "B The Bronze Age            6.326775\n",
      "C The Disney Renaissance    6.818401\n",
      "D Post Renaissance Era      5.874427\n",
      "E The Revival Era           5.753150\n",
      "F Present period            5.795750\n"
     ]
    }
   ],
   "source": [
    "print(mean_mod_era_female)\n",
    "print(mean_mod_era_male)"
   ]
  },
  {
   "cell_type": "code",
   "execution_count": 25,
   "id": "62df15c1-470f-411b-9f28-fffe382072c1",
   "metadata": {},
   "outputs": [
    {
     "data": {
      "image/png": "[encoded data removed]",
      "text/plain": [
       "<Figure size 1152x360 with 2 Axes>"
      ]
     },
     "metadata": {
      "needs_background": "light"
     },
     "output_type": "display_data"
    }
   ],
   "source": [
    "fig, (ax1, ax2) = plt.subplots(1, 2, figsize = (16, 5))\n",
    "colors = [\"#3e1e58\", \"#fce43c\", \"#98c862\", \"#4c8e70\"]\n",
    "xlabels = ['The Golden Age', 'The Bronze Age', 'The Disney Renaissance',\n",
    "           'Post Renaissance Era', 'The Revival Era', 'Present period']\n",
    "X = ['A The Golden Age', 'B The Bronze Age', 'C The Disney Renaissance', 'D Post Renaissance Era','E The Revival Era','F Present period']\n",
    "Men = [7.476257,6.326775,6.818401,5.874427,5.753150, 5.795750]\n",
    "Women = [10.425924,8.383896,8.464795, 5.987002,6.424235,7.118239]\n",
    "\n",
    "\n",
    "X_axis = np.arange(len(X))\n",
    "\n",
    "ax2.bar(X_axis - 0.2, Men, 0.4, label = 'Men', color =\"#3e1e58\",edgecolor='black', )\n",
    "ax2.bar(X_axis + 0.2, Women, 0.4, label = 'Women',color =\"#fce43c\",edgecolor='black', )\n",
    "\n",
    "\n",
    "\n",
    "\n",
    "# formatting\n",
    "import matplotlib.ticker as mtick\n",
    "ax2.yaxis.set_major_formatter(mtick.PercentFormatter()) # set percentage at yaxis.\n",
    "\n",
    "#Setting ax labels\n",
    "ax2.set_xticks(X_axis,xlabels, rotation = 12)\n",
    "\n",
    "plt.legend(bbox_to_anchor=(1.05, 1),loc=2, borderaxespad=0.,title='Gender', fontsize = 13)\n",
    "#plt.show()\n",
    "plt.savefig('modals for genderxera.png', bbox_inches='tight')"
   ]
  }
 ],
 "metadata": {
  "kernelspec": {
   "display_name": "Python 3 (ipykernel)",
   "language": "python",
   "name": "python3"
  },
  "language_info": {
   "codemirror_mode": {
    "name": "ipython",
    "version": 3
   },
   "file_extension": ".py",
   "mimetype": "text/x-python",
   "name": "python",
   "nbconvert_exporter": "python",
   "pygments_lexer": "ipython3",
   "version": "3.8.13"
  },
  "toc": {
   "nav_menu": {},
   "number_sections": true,
   "sideBar": true,
   "skip_h1_title": false,
   "title_cell": "Table of Contents",
   "title_sidebar": "Contents",
   "toc_cell": false,
   "toc_position": {},
   "toc_section_display": true,
   "toc_window_display": false
  }
 },
 "nbformat": 4,
 "nbformat_minor": 5
}
