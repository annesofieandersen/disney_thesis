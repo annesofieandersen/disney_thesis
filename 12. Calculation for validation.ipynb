{
 "cells": [
  {
   "cell_type": "markdown",
   "id": "ec1f85e3-2749-4e95-b732-e6ef186e7c0a",
   "metadata": {},
   "source": [
    "# Calculating validation measures for dictionary classifier"
   ]
  },
  {
   "cell_type": "code",
   "execution_count": 2,
   "id": "d0c18f07-f27f-4f28-a4ed-f5766aa268a4",
   "metadata": {},
   "outputs": [],
   "source": [
    "#Import libraries\n",
    "import pandas as pd\n",
    "\n",
    "import numpy as np\n",
    "import math\n",
    "import matplotlib.pyplot as plt\n",
    "import seaborn as sns"
   ]
  },
  {
   "cell_type": "markdown",
   "id": "fb1c7f98-2019-4aae-a6cf-ec8daa484791",
   "metadata": {
    "tags": []
   },
   "source": [
    "# Inter rater reliability"
   ]
  },
  {
   "cell_type": "code",
   "execution_count": 221,
   "id": "c4993a5b-2a93-4a0b-adb3-af0af34c85b5",
   "metadata": {},
   "outputs": [],
   "source": [
    "#Get dataset of 500 character lines validated by both researchers to checj for inter rater reliability \n",
    "df_inter = pd.read_excel('inter_reliability.xlsx')"
   ]
  },
  {
   "cell_type": "code",
   "execution_count": 222,
   "id": "890728de-1cd8-488d-a744-128d68a5add0",
   "metadata": {},
   "outputs": [
    {
     "name": "stdout",
     "output_type": "stream",
     "text": [
      "Inter rater reliability for fighting: 0.9112005683163628\n",
      "Inter rater reliability for romance: 0.7481108312342569\n",
      "Inter rater reliability for family honor: 0.922069825436409\n",
      "Inter rater reliability for family care: 0.773909111462808\n"
     ]
    }
   ],
   "source": [
    "#Inter rater for topics \n",
    "from sklearn.metrics import cohen_kappa_score\n",
    "\n",
    "fighting = cohen_kappa_score(df_inter['S_fight'],df_inter['V_fight'])\n",
    "romance = cohen_kappa_score(df_inter['S_romance'],df_inter['V_romance'])\n",
    "honor = cohen_kappa_score(df_inter['S_honor'],df_inter['V_honor'])\n",
    "care = cohen_kappa_score(df_inter['S_care'],df_inter['V_care'])\n",
    "print('Inter rater reliability for fighting:',fighting)\n",
    "print('Inter rater reliability for romance:',romance)\n",
    "print('Inter rater reliability for family honor:',honor)\n",
    "print('Inter rater reliability for family care:',care)"
   ]
  },
  {
   "cell_type": "code",
   "execution_count": 223,
   "id": "2aa067ef-9837-4831-a8ee-af671a6d3d7a",
   "metadata": {},
   "outputs": [
    {
     "data": {
      "text/plain": [
       "0.8623348017621145"
      ]
     },
     "execution_count": 223,
     "metadata": {},
     "output_type": "execute_result"
    }
   ],
   "source": [
    "#Inter rater general\n",
    "df_gen = pd.read_excel('svsv.xlsx')\n",
    "from sklearn.metrics import cohen_kappa_score\n",
    "\n",
    "overall = cohen_kappa_score(df_gen['S_code'],df_gen['V_code'])\n",
    "overall"
   ]
  },
  {
   "cell_type": "markdown",
   "id": "b2e744c8-d729-441c-ac1d-dbc01b30b634",
   "metadata": {},
   "source": [
    "# Accuracy, recall and precision for our random subsample (sampled equally for era) "
   ]
  },
  {
   "cell_type": "code",
   "execution_count": 3,
   "id": "23b72ed7-f851-4782-90c3-fd4e02aa2402",
   "metadata": {},
   "outputs": [],
   "source": [
    "#Get subsetted data of 1500 character lines manually validated to calculate validation measures \n",
    "df_sub = pd.read_excel('sum_sample_coded.xlsx')"
   ]
  },
  {
   "cell_type": "code",
   "execution_count": 4,
   "id": "40468479-fdbb-44a1-b3c5-f928419c52b9",
   "metadata": {},
   "outputs": [],
   "source": [
    "df_sub = df_sub.fillna(0)"
   ]
  },
  {
   "cell_type": "markdown",
   "id": "75b35b5e-23e3-46b5-b4a6-20d1d1745be3",
   "metadata": {},
   "source": [
    "### Validation meassures for fighting"
   ]
  },
  {
   "cell_type": "code",
   "execution_count": 7,
   "id": "a2ac394f-2fda-47e3-9514-67fd30e0fd54",
   "metadata": {},
   "outputs": [
    {
     "name": "stdout",
     "output_type": "stream",
     "text": [
      "Precission is: 0.8214285714285714\n",
      "Recall is: 0.7796610169491526\n",
      "F meassure is: 0.8\n",
      "Accuracy is: 0.9848982271831911\n"
     ]
    }
   ],
   "source": [
    "\n",
    "def fp_f (row):\n",
    "    if row['C_fight']==0 and row['Fighting']==1:\n",
    "        return 1\n",
    "    else:\n",
    "        return 0\n",
    "\n",
    "def tn_f (row):\n",
    "    if row['C_fight']==0:\n",
    "        return 1\n",
    "    else:\n",
    "        return 0\n",
    "def fn_f (row):\n",
    "    if row['C_fight']==1 and row['Fighting']==1:\n",
    "        return 1\n",
    "    else:\n",
    "        return 0\n",
    "df_sub['tp_f'] = df_sub['C_fight']\n",
    "df_sub['tn_f'] = df_sub.apply (lambda row: tn_f(row), axis=1)\n",
    "df_sub['fp_f']= df_sub.apply (lambda row: fp_f(row), axis=1)\n",
    "df_sub['fn_f']= df_sub.apply (lambda row: fn_f(row), axis=1)\n",
    "tp_f = df_sub['tp_f'].sum()\n",
    "fp_f = df_sub['fp_f'].sum()\n",
    "tn_f = df_sub['tn_f'].sum()\n",
    "fn_f = df_sub['fn_f'].sum()\n",
    "precission_f = tp_f/(tp_f+fp_f)\n",
    "recall_f = tp_f/(tp_f+fn_f)\n",
    "accuracy_f = (tn_f+tp_f)/(tn_f+tp_f+fp_f+fn_f)\n",
    "f_meassure_f = (2 * precission_f * recall_f) / (precission_f + recall_f)\n",
    "print('Precission is:', precission_f)\n",
    "print('Recall is:', recall_f)\n",
    "print('F meassure is:', f_meassure_f)\n",
    "print('Accuracy is:', accuracy_f)"
   ]
  },
  {
   "cell_type": "code",
   "execution_count": 6,
   "id": "d4b436c8-48b0-45a9-918b-b67d6a9c4fe8",
   "metadata": {},
   "outputs": [
    {
     "data": {
      "image/png": "[encoded data removed]",
      "text/plain": [
       "<Figure size 432x288 with 2 Axes>"
      ]
     },
     "metadata": {
      "needs_background": "light"
     },
     "output_type": "display_data"
    }
   ],
   "source": [
    "#Plot true positives, true negatives, false positives and false negatives in heat map \n",
    "cf_matrix = np.array([[1454,  10], [ 13, 46]]) # counts of tn, fp, fn and tp from before code \n",
    "\n",
    "group_names = [\"True Neg\",\"False Pos\",\"False Neg\",\"True Pos\"]\n",
    "group_counts = [\"{0:0.0f}\".format(value) for value in\n",
    "                cf_matrix.flatten()]\n",
    "group_percentages = [\"{0:.2%}\".format(value) for value in\n",
    "                     cf_matrix.flatten()/np.sum(cf_matrix)]\n",
    "labels = [f\"{v1}\\n{v2}\\n{v3}\" for v1, v2, v3 in\n",
    "          zip(group_names,group_counts,group_percentages)]\n",
    "labels = np.asarray(labels).reshape(2,2)\n",
    "\n",
    "import seaborn as sns\n",
    "\n",
    "sns.heatmap(cf_matrix/np.sum(cf_matrix), annot = labels, fmt='')\n",
    "plt.ylabel(\"Predicted values\")\n",
    "plt.xlabel(\"True values\")\n",
    "plt.title('Fighting theme')\n",
    "plt.savefig('Validation for fighting.png', bbox_inches='tight')"
   ]
  },
  {
   "cell_type": "markdown",
   "id": "1f5e2630-3800-47a1-b605-fcd7cac99ee4",
   "metadata": {},
   "source": [
    "### Validation meassures for romance"
   ]
  },
  {
   "cell_type": "code",
   "execution_count": 8,
   "id": "4d05f429-8d91-41dd-a4b6-4bcecf0bb496",
   "metadata": {},
   "outputs": [
    {
     "name": "stdout",
     "output_type": "stream",
     "text": [
      "Precission is: 0.5142857142857142\n",
      "Recall is: 0.6206896551724138\n",
      "F meassure is: 0.5625\n",
      "Accuracy is: 0.981675392670157\n"
     ]
    }
   ],
   "source": [
    "def fp_r (row):\n",
    "    if row['C_romance']==0 and row['Romance']==1:\n",
    "        return 1\n",
    "    else:\n",
    "        return 0\n",
    "\n",
    "def tn_r (row):\n",
    "    if row['C_romance']==0:\n",
    "        return 1\n",
    "    else:\n",
    "        return 0\n",
    "def fn_r (row):\n",
    "    if row['C_romance']==1 and row['Romance']==1:\n",
    "        return 1\n",
    "    else:\n",
    "        return 0\n",
    "df_sub['tp_r'] = df_sub['C_romance']\n",
    "df_sub['tn_r'] = df_sub.apply (lambda row: tn_r(row), axis=1)\n",
    "df_sub['fp_r']= df_sub.apply (lambda row: fp_r(row), axis=1)\n",
    "df_sub['fn_r']= df_sub.apply (lambda row: fn_r(row), axis=1)\n",
    "tp_r = df_sub['tp_r'].sum()\n",
    "fp_r = df_sub['fp_r'].sum()\n",
    "tn_r = df_sub['tn_r'].sum()\n",
    "fn_r = df_sub['fn_r'].sum()\n",
    "precission_r = tp_r/(tp_r+fp_r)\n",
    "recall_r = tp_r/(tp_r+fn_r)\n",
    "accuracy_r = (tn_r+tp_r)/(tn_r+tp_r+fp_r+fn_r)\n",
    "f_meassure_r = (2 * precission_r * recall_r) / (precission_r + recall_r)\n",
    "print('Precission is:', precission_r)\n",
    "print('Recall is:', recall_r)\n",
    "print('F meassure is:', f_meassure_r)\n",
    "print('Accuracy is:', accuracy_r)"
   ]
  },
  {
   "cell_type": "code",
   "execution_count": 9,
   "id": "17f3ee75-aa26-4af8-9f00-71fc47ca44b8",
   "metadata": {},
   "outputs": [
    {
     "data": {
      "image/png": "[encoded data removed]",
      "text/plain": [
       "<Figure size 432x288 with 2 Axes>"
      ]
     },
     "metadata": {
      "needs_background": "light"
     },
     "output_type": "display_data"
    }
   ],
   "source": [
    "#Plot true positives, true negatives, false positives and false negatives in heat map \n",
    "cf_matrix = np.array([[1482,  17], [ 11, 18]]) # counts of tn, fp, fn and tp from before code \n",
    "\n",
    "\n",
    "group_names = [\"True Neg\",\"False Pos\",\"False Neg\",\"True Pos\"]\n",
    "group_counts = [\"{0:0.0f}\".format(value) for value in\n",
    "                cf_matrix.flatten()]\n",
    "group_percentages = [\"{0:.2%}\".format(value) for value in\n",
    "                     cf_matrix.flatten()/np.sum(cf_matrix)]\n",
    "labels = [f\"{v1}\\n{v2}\\n{v3}\" for v1, v2, v3 in\n",
    "          zip(group_names,group_counts,group_percentages)]\n",
    "labels = np.asarray(labels).reshape(2,2)\n",
    "\n",
    "import seaborn as sns\n",
    "\n",
    "sns.heatmap(cf_matrix/np.sum(cf_matrix), annot = labels, fmt='')\n",
    "plt.ylabel(\"Predicted values\")\n",
    "plt.xlabel(\"True values\")\n",
    "plt.title('Romance theme')\n",
    "plt.savefig('Validation for Romance.png', bbox_inches='tight')"
   ]
  },
  {
   "cell_type": "markdown",
   "id": "92f0b5ac-9270-48a6-8913-33689dc24c50",
   "metadata": {},
   "source": [
    "### Validation meassures for family care"
   ]
  },
  {
   "cell_type": "code",
   "execution_count": 10,
   "id": "c2411fa7-ed7b-4130-b09e-c150a1e7fd35",
   "metadata": {},
   "outputs": [
    {
     "name": "stdout",
     "output_type": "stream",
     "text": [
      "Precission is: 0.7111111111111111\n",
      "Recall is: 0.8648648648648649\n",
      "F meassure is: 0.7804878048780488\n",
      "Accuracy is: 0.9881422924901185\n"
     ]
    }
   ],
   "source": [
    "def fp_c (row):\n",
    "    if row['C_care']==0 and row['Care']==1:\n",
    "        return 1\n",
    "    else:\n",
    "        return 0\n",
    "\n",
    "def tn_c (row):\n",
    "    if row['C_care']==0:\n",
    "        return 1\n",
    "    else:\n",
    "        return 0\n",
    "def fn_c (row):\n",
    "    if row['C_care']==1 and row['Care']==1:\n",
    "        return 1\n",
    "    else:\n",
    "        return 0\n",
    "df_sub['tp_c'] = df_sub['C_care']\n",
    "df_sub['tn_c'] = df_sub.apply (lambda row: tn_c(row), axis=1)\n",
    "df_sub['fp_c']= df_sub.apply (lambda row: fp_c(row), axis=1)\n",
    "df_sub['fn_c']= df_sub.apply (lambda row: fn_c(row), axis=1)\n",
    "tp_c = df_sub['tp_c'].sum()\n",
    "fp_c = df_sub['fp_c'].sum()\n",
    "tn_c = df_sub['tn_c'].sum()\n",
    "fn_c = df_sub['fn_c'].sum()\n",
    "precission_c = tp_c/(tp_c+fp_c)\n",
    "recall_c = tp_c/(tp_c+fn_c)\n",
    "accuracy_c = (tn_c+tp_c)/(tn_c+tp_c+fp_c+fn_c)\n",
    "f_meassure_c = (2 * precission_c * recall_c) / (precission_c + recall_c)\n",
    "print('Precission is:', precission_c)\n",
    "print('Recall is:', recall_c)\n",
    "print('F meassure is:', f_meassure_c)\n",
    "print('Accuracy is:', accuracy_c)"
   ]
  },
  {
   "cell_type": "code",
   "execution_count": 11,
   "id": "795349c7-4605-439c-8849-9cc8c7b3881c",
   "metadata": {},
   "outputs": [
    {
     "data": {
      "image/png": "[encoded data removed]",
      "text/plain": [
       "<Figure size 432x288 with 2 Axes>"
      ]
     },
     "metadata": {
      "needs_background": "light"
     },
     "output_type": "display_data"
    }
   ],
   "source": [
    "#Plot true positives, true negatives, false positives and false negatives in heat map \n",
    "cf_matrix = np.array([[1468,  13], [ 5, 32]]) # counts of tn, fp, fn and tp from before code \n",
    "\n",
    "\n",
    "group_names = [\"True Neg\",\"False Pos\",\"False Neg\",\"True Pos\"]\n",
    "group_counts = [\"{0:0.0f}\".format(value) for value in\n",
    "                cf_matrix.flatten()]\n",
    "group_percentages = [\"{0:.2%}\".format(value) for value in\n",
    "                     cf_matrix.flatten()/np.sum(cf_matrix)]\n",
    "labels = [f\"{v1}\\n{v2}\\n{v3}\" for v1, v2, v3 in\n",
    "          zip(group_names,group_counts,group_percentages)]\n",
    "labels = np.asarray(labels).reshape(2,2)\n",
    "\n",
    "import seaborn as sns\n",
    "\n",
    "sns.heatmap(cf_matrix/np.sum(cf_matrix), annot = labels, fmt='')\n",
    "plt.ylabel(\"Predicted values\")\n",
    "plt.xlabel(\"True values\")\n",
    "plt.title('Family care theme')\n",
    "plt.savefig('Validation for Care.png', bbox_inches='tight')"
   ]
  },
  {
   "cell_type": "markdown",
   "id": "7a3c3f03-a64c-4218-b806-c76574fadf63",
   "metadata": {},
   "source": [
    "### Validation meassures for family honor"
   ]
  },
  {
   "cell_type": "code",
   "execution_count": 12,
   "id": "bf9a8be4-3dff-45ed-9c8a-1f3e469497be",
   "metadata": {},
   "outputs": [
    {
     "name": "stdout",
     "output_type": "stream",
     "text": [
      "Precission is: 0.8125\n",
      "Recall is: 0.8666666666666667\n",
      "F meassure is: 0.8387096774193549\n",
      "Accuracy is: 0.9966777408637874\n"
     ]
    }
   ],
   "source": [
    "def fp_h (row):\n",
    "    if row['C_honor']==0 and row['Honor']==1:\n",
    "        return 1\n",
    "    else:\n",
    "        return 0\n",
    "\n",
    "def tn_h (row):\n",
    "    if row['C_honor']==0:\n",
    "        return 1\n",
    "    else:\n",
    "        return 0\n",
    "def fn_h (row):\n",
    "    if row['C_honor']==1 and row['Honor']==1:\n",
    "        return 1\n",
    "    else:\n",
    "        return 0\n",
    "df_sub['tp_h'] = df_sub['C_honor']\n",
    "df_sub['tn_h'] = df_sub.apply (lambda row: tn_h(row), axis=1)\n",
    "df_sub['fp_h']= df_sub.apply (lambda row: fp_h(row), axis=1)\n",
    "df_sub['fn_h']= df_sub.apply (lambda row: fn_h(row), axis=1)\n",
    "tp_h = df_sub['tp_h'].sum()\n",
    "fp_h = df_sub['fp_h'].sum()\n",
    "tn_h = df_sub['tn_h'].sum()\n",
    "fn_h = df_sub['fn_h'].sum()\n",
    "precission_h = tp_h/(tp_h+fp_h)\n",
    "recall_h = tp_h/(tp_h+fn_h)\n",
    "accuracy_h = (tn_h+tp_h)/(tn_h+tp_h+fp_h+fn_h)\n",
    "f_meassure_h = (2 * precission_h * recall_h) / (precission_h + recall_h)\n",
    "print('Precission is:', precission_h)\n",
    "print('Recall is:', recall_h)\n",
    "print('F meassure is:', f_meassure_h)\n",
    "print('Accuracy is:', accuracy_h)"
   ]
  },
  {
   "cell_type": "code",
   "execution_count": 14,
   "id": "f5db0769-33a7-4a04-be9f-729faac1aa4a",
   "metadata": {},
   "outputs": [
    {
     "data": {
      "image/png": "[encoded data removed]",
      "text/plain": [
       "<Figure size 432x288 with 2 Axes>"
      ]
     },
     "metadata": {
      "needs_background": "light"
     },
     "output_type": "display_data"
    }
   ],
   "source": [
    "cf_matrix = np.array([[1487,  3], [ 2, 13]]) # indsæt dine couts her (true neg, false pos etc) ^\n",
    "\n",
    "\n",
    "group_names = [\"True Neg\",\"False Pos\",\"False Neg\",\"True Pos\"]\n",
    "group_counts = [\"{0:0.0f}\".format(value) for value in\n",
    "                cf_matrix.flatten()]\n",
    "group_percentages = [\"{0:.2%}\".format(value) for value in\n",
    "                     cf_matrix.flatten()/np.sum(cf_matrix)]\n",
    "labels = [f\"{v1}\\n{v2}\\n{v3}\" for v1, v2, v3 in\n",
    "          zip(group_names,group_counts,group_percentages)]\n",
    "labels = np.asarray(labels).reshape(2,2)\n",
    "\n",
    "import seaborn as sns\n",
    "\n",
    "sns.heatmap(cf_matrix/np.sum(cf_matrix), annot = labels, fmt='')\n",
    "plt.ylabel(\"Predicted values\")\n",
    "plt.xlabel(\"True values\")\n",
    "plt.title('Family honor theme')\n",
    "plt.savefig('Validation for Honor.png', bbox_inches='tight')"
   ]
  },
  {
   "cell_type": "markdown",
   "id": "dea83b60-8704-44ee-9b39-3e7e1df9d371",
   "metadata": {},
   "source": [
    "### Overall validation meassures"
   ]
  },
  {
   "cell_type": "code",
   "execution_count": 15,
   "id": "ae6fae66-edb2-4f0b-8b59-1e7a9db87c83",
   "metadata": {},
   "outputs": [],
   "source": [
    "df_sub['over_all_tp'] = df_sub['tp_f']+df_sub['tp_r']+df_sub['tp_c']+df_sub['tp_h']\n",
    "df_sub['over_all_tn'] = df_sub['tn_f']+df_sub['tn_r']+df_sub['tn_c']+df_sub['tn_h']\n",
    "df_sub['over_all_fp']= df_sub['fp_f']+df_sub['fp_r']+df_sub['fp_c']+df_sub['fp_h']\n",
    "df_sub['over_all_fn']= df_sub['fn_f']+df_sub['fn_r']+df_sub['fn_c']+df_sub['fn_h']\n",
    "def tp (row):\n",
    "    if row['over_all_tp']>0:\n",
    "        return 1\n",
    "    else:\n",
    "        return 0\n",
    "def tn (row):\n",
    "    if row['over_all_tn']>0:\n",
    "        return 1\n",
    "    else:\n",
    "        return 0\n",
    "def fp (row):\n",
    "    if row['over_all_fp']>0:\n",
    "        return 1\n",
    "    else:\n",
    "        return 0\n",
    "def fn (row):\n",
    "    if row['over_all_fn']>0:\n",
    "        return 1\n",
    "    else:\n",
    "        return 0\n",
    "df_sub['over_all_tp'] = df_sub.apply (lambda row: tp(row), axis=1)\n",
    "df_sub['over_all_tn'] = df_sub.apply (lambda row: tn(row), axis=1)\n",
    "df_sub['over_all_fp']= df_sub.apply (lambda row: fp(row), axis=1)\n",
    "df_sub['over_all_fn']= df_sub.apply (lambda row: fn(row), axis=1)\n",
    "tp = df_sub['over_all_tp'].sum()\n",
    "fp = df_sub['over_all_fp'].sum()\n",
    "tn = df_sub['over_all_tn'].sum()\n",
    "fn = df_sub['over_all_fn'].sum()"
   ]
  },
  {
   "cell_type": "code",
   "execution_count": 16,
   "id": "84da2f4b-dd9d-4468-89db-7badbf3720d8",
   "metadata": {},
   "outputs": [
    {
     "name": "stdout",
     "output_type": "stream",
     "text": [
      "Overall precission is: 0.7171052631578947\n",
      "Overall recall is: 0.8666666666666667\n",
      "Overall F meassure is: 0.7465753424657535\n",
      "Overall Accuracy is: 0.9878169245966414\n"
     ]
    }
   ],
   "source": [
    "Overall_precision = (tp_f+tp_r+tp_h+tp_c)/((tp_f+tp_r+tp_h+tp_c)+(fp_f+fp_r+fp_h+fp_c))\n",
    "Overall_recall = (tp_h+tp_c+tp_f+tp_r)/((tp_h+fn_h)+(tp_c+fn_c)+(tp_f+fn_f)+(tp_r+fn_r))\n",
    "Overall_acc = ((tn_h+tp_h)+(tn_c+tp_c)+(tn_f+tp_f)+(tn_r+tp_r))/((tn_h+tp_h+fp_h+fn_h)+(tn_c+tp_c+fp_c+fn_c)+(tn_f+tp_f+fp_f+fn_f)+(tn_r+tp_r+fp_r+fn_r))\n",
    "Overall_f= (2 * Overall_precision * Overall_recall) / (Overall_precision + Overall_recall)\n",
    "print('Overall precission is:', Overall_precision)\n",
    "print('Overall recall is:', recall_h)\n",
    "print('Overall F meassure is:', Overall_f)\n",
    "print('Overall Accuracy is:', Overall_acc)"
   ]
  },
  {
   "cell_type": "code",
   "execution_count": 17,
   "id": "a8c4dc35-4651-466f-8a3d-cac9173bc661",
   "metadata": {},
   "outputs": [
    {
     "name": "stdout",
     "output_type": "stream",
     "text": [
      "TN = 1500\n",
      "FP = 43\n",
      "FN = 31\n",
      "TP = 104\n"
     ]
    }
   ],
   "source": [
    "print('TN =', tn)\n",
    "print('FP =', fp)\n",
    "print('FN =', fn)\n",
    "print('TP =', tp)"
   ]
  },
  {
   "cell_type": "code",
   "execution_count": 19,
   "id": "35431ae0-dbf6-4ece-80cd-62b5c617f08d",
   "metadata": {},
   "outputs": [
    {
     "data": {
      "text/plain": [
       "Text(0.5, 15.0, 'True values')"
      ]
     },
     "execution_count": 19,
     "metadata": {},
     "output_type": "execute_result"
    },
    {
     "data": {
      "image/png": "[encoded data removed]",
      "text/plain": [
       "<Figure size 432x288 with 2 Axes>"
      ]
     },
     "metadata": {
      "needs_background": "light"
     },
     "output_type": "display_data"
    }
   ],
   "source": [
    "#Plotting over all true negatives, true positives, false negatives and false positives \n",
    "\n",
    "cf_matrix = np.array([[1500,  43], [ 31, 104]]) # indsæt dine couts her (true neg, false pos etc) ^\n",
    "\n",
    "\n",
    "group_names = [\"True Neg\",\"False Pos\",\"False Neg\",\"True Pos\"]\n",
    "group_counts = [\"{0:0.0f}\".format(value) for value in\n",
    "                cf_matrix.flatten()]\n",
    "group_percentages = [\"{0:.2%}\".format(value) for value in\n",
    "                     cf_matrix.flatten()/np.sum(cf_matrix)]\n",
    "labels = [f\"{v1}\\n{v2}\\n{v3}\" for v1, v2, v3 in\n",
    "          zip(group_names,group_counts,group_percentages)]\n",
    "labels = np.asarray(labels).reshape(2,2)\n",
    "\n",
    "import seaborn as sns\n",
    "\n",
    "sns.heatmap(cf_matrix/np.sum(cf_matrix), annot = labels, fmt='')\n",
    "plt.ylabel(\"Predicted values\")\n",
    "plt.xlabel(\"True values\")"
   ]
  },
  {
   "cell_type": "markdown",
   "id": "4d117af7-f2e6-4eae-8b8f-6333b817adbc",
   "metadata": {},
   "source": [
    "# Precision for topics sampled - the 400 character lines samples to contain at least one topic to check for precission"
   ]
  },
  {
   "cell_type": "code",
   "execution_count": 20,
   "id": "cc29209f-fc54-4d81-a766-a4bc4007acaa",
   "metadata": {},
   "outputs": [],
   "source": [
    "df_topics = pd.read_excel('topic_sample_coded.xlsx')"
   ]
  },
  {
   "cell_type": "code",
   "execution_count": 21,
   "id": "c002b67d-8d6e-4ded-bb38-eed1e0362d8f",
   "metadata": {},
   "outputs": [
    {
     "name": "stdout",
     "output_type": "stream",
     "text": [
      "Precission for fighting is: 0.8214285714285714\n",
      "Precission for romance is: 0.6495726495726496\n",
      "Precission for family honor is: 0.7522123893805309\n",
      "Precission for family care is: 0.7350993377483444\n"
     ]
    }
   ],
   "source": [
    "#for fighting \n",
    "def fp_f (row):\n",
    "    if row['C_Fighting']==0 and row['Fighting']==1:\n",
    "        return 1\n",
    "    else:\n",
    "        return 0\n",
    "df_topics['tp_f'] = df_topics['C_Fighting']\n",
    "df_topics['fp_f']= df_topics.apply (lambda row: fp_f(row), axis=1)\n",
    "tp_f1 = df_sub['tp_f'].sum()\n",
    "fp_f1 = df_sub['fp_f'].sum()\n",
    "precission_f = tp_f1/(tp_f1+fp_f1)\n",
    "#For romance\n",
    "def fp_r (row):\n",
    "    if row['C_Romance']==0 and row['Romance']==1:\n",
    "        return 1\n",
    "    else:\n",
    "        return 0\n",
    "df_topics['tp_r'] = df_topics['C_Romance']\n",
    "df_topics['fp_r']= df_topics.apply (lambda row: fp_r(row), axis=1)\n",
    "tp_r1 = df_topics['tp_r'].sum()\n",
    "fp_r1 = df_topics['fp_r'].sum()\n",
    "precission_r = tp_r1/(tp_r1+fp_r1)\n",
    "#For honor \n",
    "def fp_h (row):\n",
    "    if row['C_Honor']==0 and row['Honor']==1:\n",
    "        return 1\n",
    "    else:\n",
    "        return 0\n",
    "df_topics['tp_h'] = df_topics['C_Honor']\n",
    "df_topics['fp_h']= df_topics.apply (lambda row: fp_h(row), axis=1)\n",
    "tp_h1 = df_topics['tp_h'].sum()\n",
    "fp_h1 = df_topics['fp_h'].sum()\n",
    "precission_h = tp_h1/(tp_h1+fp_h1)\n",
    "#For care\n",
    "def fp_c (row):\n",
    "    if row['C_Care']==0 and row['Care']==1:\n",
    "        return 1\n",
    "    else:\n",
    "        return 0\n",
    "df_topics['tp_c'] = df_topics['C_Care']\n",
    "df_topics['fp_c']= df_topics.apply (lambda row: fp_c(row), axis=1)\n",
    "tp_c1 = df_topics['tp_c'].sum()\n",
    "fp_c1 = df_topics['fp_c'].sum()\n",
    "precission_c = tp_c1/(tp_c1+fp_c1)\n",
    "print('Precission for fighting is:', precission_f)\n",
    "print('Precission for romance is:', precission_r)\n",
    "print('Precission for family honor is:', precission_h)\n",
    "print('Precission for family care is:', precission_c)\n"
   ]
  },
  {
   "cell_type": "markdown",
   "id": "57c4df95-b3d9-45e3-8a69-cbbae8ea5273",
   "metadata": {},
   "source": [
    "### Over all precision score for the 400 subsampled character lines"
   ]
  },
  {
   "cell_type": "code",
   "execution_count": 22,
   "id": "5bf63d17-71b4-49f1-b293-e91bbd773e05",
   "metadata": {},
   "outputs": [
    {
     "data": {
      "text/plain": [
       "0.7276887871853547"
      ]
     },
     "execution_count": 22,
     "metadata": {},
     "output_type": "execute_result"
    }
   ],
   "source": [
    "precision_all = (tp_f1+tp_r1+tp_h1+tp_c1)/((tp_f1+tp_r1+tp_h1+tp_c1)+(fp_f1+fp_r1+fp_h1+fp_c1))\n",
    "precision_all"
   ]
  },
  {
   "cell_type": "code",
   "execution_count": 23,
   "id": "38c36389-cab2-44ed-8f10-b61c950411fc",
   "metadata": {},
   "outputs": [
    {
     "data": {
      "text/plain": [
       "Text(0.5, 15.0, 'True values')"
      ]
     },
     "execution_count": 23,
     "metadata": {},
     "output_type": "execute_result"
    },
    {
     "data": {
      "image/png": "[encoded data removed]",
      "text/plain": [
       "<Figure size 432x288 with 2 Axes>"
      ]
     },
     "metadata": {
      "needs_background": "light"
     },
     "output_type": "display_data"
    }
   ],
   "source": [
    "import pandas as pd\n",
    "\n",
    "import numpy as np\n",
    "import math\n",
    "import matplotlib.pyplot as plt\n",
    "import seaborn as sns\n",
    "\n",
    "cf_matrix = np.array([[23,  5], [ 3, 30]]) # indsæt dine couts her (true neg, false pos etc) ^\n",
    "\n",
    "\n",
    "group_names = [\"True Neg\",\"False Pos\",\"False Neg\",\"True Pos\"]\n",
    "group_counts = [\"{0:0.0f}\".format(value) for value in\n",
    "                cf_matrix.flatten()]\n",
    "group_percentages = [\"{0:.2%}\".format(value) for value in\n",
    "                     cf_matrix.flatten()/np.sum(cf_matrix)]\n",
    "labels = [f\"{v1}\\n{v2}\\n{v3}\" for v1, v2, v3 in\n",
    "          zip(group_names,group_counts,group_percentages)]\n",
    "labels = np.asarray(labels).reshape(2,2)\n",
    "\n",
    "import seaborn as sns\n",
    "\n",
    "sns.heatmap(cf_matrix/np.sum(cf_matrix), annot = labels, fmt='')\n",
    "plt.ylabel(\"Predicted values\")\n",
    "plt.xlabel(\"True values\")"
   ]
  }
 ],
 "metadata": {
  "kernelspec": {
   "display_name": "Python 3",
   "language": "python",
   "name": "python3"
  },
  "language_info": {
   "codemirror_mode": {
    "name": "ipython",
    "version": 3
   },
   "file_extension": ".py",
   "mimetype": "text/x-python",
   "name": "python",
   "nbconvert_exporter": "python",
   "pygments_lexer": "ipython3",
   "version": "3.8.8"
  },
  "toc": {
   "nav_menu": {},
   "number_sections": true,
   "sideBar": true,
   "skip_h1_title": false,
   "title_cell": "Table of Contents",
   "title_sidebar": "Contents",
   "toc_cell": false,
   "toc_position": {},
   "toc_section_display": true,
   "toc_window_display": false
  }
 },
 "nbformat": 4,
 "nbformat_minor": 5
}
