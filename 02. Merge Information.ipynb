{
 "cells": [
  {
   "cell_type": "markdown",
   "id": "01f937ee",
   "metadata": {},
   "source": [
    "# Merge Clean Scripts with Movie Information"
   ]
  },
  {
   "cell_type": "code",
   "execution_count": 38,
   "id": "6df71226",
   "metadata": {
    "ExecuteTime": {
     "end_time": "2022-05-02T14:00:00.556664Z",
     "start_time": "2022-05-02T14:00:00.546697Z"
    }
   },
   "outputs": [],
   "source": [
    "#Import libaries \n",
    "import pandas as pd\n",
    "import re\n",
    "import numpy as np \n",
    "import os"
   ]
  },
  {
   "cell_type": "code",
   "execution_count": 39,
   "id": "cd0a1a8b",
   "metadata": {
    "ExecuteTime": {
     "end_time": "2022-05-02T14:00:00.980087Z",
     "start_time": "2022-05-02T14:00:00.966854Z"
    }
   },
   "outputs": [],
   "source": [
    "os.getcwd()\n",
    "os.chdir('/Users/Sofie/Disney Thesis')"
   ]
  },
  {
   "cell_type": "code",
   "execution_count": 40,
   "id": "bad83828",
   "metadata": {
    "ExecuteTime": {
     "end_time": "2022-05-02T14:00:02.087347Z",
     "start_time": "2022-05-02T14:00:01.251092Z"
    }
   },
   "outputs": [
    {
     "ename": "FileNotFoundError",
     "evalue": "[Errno 2] No such file or directory: 'Clean_Scripts_03mar.pickle'",
     "output_type": "error",
     "traceback": [
      "\u001b[0;31m---------------------------------------------------------------------------\u001b[0m",
      "\u001b[0;31mFileNotFoundError\u001b[0m                         Traceback (most recent call last)",
      "\u001b[0;32m<ipython-input-40-476035aa0a2c>\u001b[0m in \u001b[0;36m<module>\u001b[0;34m\u001b[0m\n\u001b[1;32m      1\u001b[0m \u001b[0;31m# import clean scripts\u001b[0m\u001b[0;34m\u001b[0m\u001b[0;34m\u001b[0m\u001b[0;34m\u001b[0m\u001b[0m\n\u001b[0;32m----> 2\u001b[0;31m \u001b[0mscripts\u001b[0m \u001b[0;34m=\u001b[0m \u001b[0mpd\u001b[0m\u001b[0;34m.\u001b[0m\u001b[0mread_pickle\u001b[0m\u001b[0;34m(\u001b[0m\u001b[0;34m\"Clean_Scripts_03mar.pickle\"\u001b[0m\u001b[0;34m)\u001b[0m\u001b[0;34m\u001b[0m\u001b[0;34m\u001b[0m\u001b[0m\n\u001b[0m",
      "\u001b[0;32m~/opt/anaconda3/lib/python3.8/site-packages/pandas/io/pickle.py\u001b[0m in \u001b[0;36mread_pickle\u001b[0;34m(filepath_or_buffer, compression, storage_options)\u001b[0m\n\u001b[1;32m    183\u001b[0m     \"\"\"\n\u001b[1;32m    184\u001b[0m     \u001b[0mexcs_to_catch\u001b[0m \u001b[0;34m=\u001b[0m \u001b[0;34m(\u001b[0m\u001b[0mAttributeError\u001b[0m\u001b[0;34m,\u001b[0m \u001b[0mImportError\u001b[0m\u001b[0;34m,\u001b[0m \u001b[0mModuleNotFoundError\u001b[0m\u001b[0;34m,\u001b[0m \u001b[0mTypeError\u001b[0m\u001b[0;34m)\u001b[0m\u001b[0;34m\u001b[0m\u001b[0;34m\u001b[0m\u001b[0m\n\u001b[0;32m--> 185\u001b[0;31m     with get_handle(\n\u001b[0m\u001b[1;32m    186\u001b[0m         \u001b[0mfilepath_or_buffer\u001b[0m\u001b[0;34m,\u001b[0m\u001b[0;34m\u001b[0m\u001b[0;34m\u001b[0m\u001b[0m\n\u001b[1;32m    187\u001b[0m         \u001b[0;34m\"rb\"\u001b[0m\u001b[0;34m,\u001b[0m\u001b[0;34m\u001b[0m\u001b[0;34m\u001b[0m\u001b[0m\n",
      "\u001b[0;32m~/opt/anaconda3/lib/python3.8/site-packages/pandas/io/common.py\u001b[0m in \u001b[0;36mget_handle\u001b[0;34m(path_or_buf, mode, encoding, compression, memory_map, is_text, errors, storage_options)\u001b[0m\n\u001b[1;32m    649\u001b[0m         \u001b[0;32melse\u001b[0m\u001b[0;34m:\u001b[0m\u001b[0;34m\u001b[0m\u001b[0;34m\u001b[0m\u001b[0m\n\u001b[1;32m    650\u001b[0m             \u001b[0;31m# Binary mode\u001b[0m\u001b[0;34m\u001b[0m\u001b[0;34m\u001b[0m\u001b[0;34m\u001b[0m\u001b[0m\n\u001b[0;32m--> 651\u001b[0;31m             \u001b[0mhandle\u001b[0m \u001b[0;34m=\u001b[0m \u001b[0mopen\u001b[0m\u001b[0;34m(\u001b[0m\u001b[0mhandle\u001b[0m\u001b[0;34m,\u001b[0m \u001b[0mioargs\u001b[0m\u001b[0;34m.\u001b[0m\u001b[0mmode\u001b[0m\u001b[0;34m)\u001b[0m\u001b[0;34m\u001b[0m\u001b[0;34m\u001b[0m\u001b[0m\n\u001b[0m\u001b[1;32m    652\u001b[0m         \u001b[0mhandles\u001b[0m\u001b[0;34m.\u001b[0m\u001b[0mappend\u001b[0m\u001b[0;34m(\u001b[0m\u001b[0mhandle\u001b[0m\u001b[0;34m)\u001b[0m\u001b[0;34m\u001b[0m\u001b[0;34m\u001b[0m\u001b[0m\n\u001b[1;32m    653\u001b[0m \u001b[0;34m\u001b[0m\u001b[0m\n",
      "\u001b[0;31mFileNotFoundError\u001b[0m: [Errno 2] No such file or directory: 'Clean_Scripts_03mar.pickle'"
     ]
    }
   ],
   "source": [
    "# import clean scripts\n",
    "scripts = pd.read_pickle(\"Clean_Scripts_03mar.pickle\")"
   ]
  },
  {
   "cell_type": "code",
   "execution_count": null,
   "id": "d91a6e4c",
   "metadata": {
    "ExecuteTime": {
     "end_time": "2022-05-02T14:00:02.093965Z",
     "start_time": "2022-05-02T14:00:01.558Z"
    }
   },
   "outputs": [],
   "source": [
    "# If a pages is collected through a PDF or other scripts['html']  is Nan --> change to other \n",
    "site = []\n",
    "for movie in scripts['Site']:\n",
    "    if pd.isna(movie) == True:\n",
    "        page = \"Other\"\n",
    "    else:\n",
    "        page = movie\n",
    "    site.append(page)\n",
    "\n",
    "scripts['Site'] = site\n",
    "    "
   ]
  },
  {
   "cell_type": "code",
   "execution_count": null,
   "id": "a11503c8",
   "metadata": {
    "ExecuteTime": {
     "end_time": "2022-05-02T14:00:02.100361Z",
     "start_time": "2022-05-02T14:00:01.674Z"
    }
   },
   "outputs": [],
   "source": [
    "# import movie info\n",
    "movie_info = pd.read_excel('Disney info movies.xlsx')\n"
   ]
  },
  {
   "cell_type": "code",
   "execution_count": null,
   "id": "42017ad6",
   "metadata": {
    "ExecuteTime": {
     "end_time": "2022-05-02T14:00:02.104980Z",
     "start_time": "2022-05-02T14:00:01.864Z"
    }
   },
   "outputs": [],
   "source": [
    "# merge scripts with movie information collected from kaggle \n",
    "movies = pd.merge(scripts, movie_info, on='Movie', how='outer')\n",
    "movies = movies.sort_values(by='Year', ascending=True)\n",
    "movies = movies.reset_index(drop=True)\n",
    "\n",
    "movies.to_pickle(\"all movie information.pickle\")"
   ]
  },
  {
   "cell_type": "code",
   "execution_count": 41,
   "id": "a0a405a5",
   "metadata": {
    "ExecuteTime": {
     "end_time": "2022-05-02T14:00:02.419081Z",
     "start_time": "2022-05-02T14:00:02.212439Z"
    }
   },
   "outputs": [
    {
     "data": {
      "text/html": [
       "<div>\n",
       "<style scoped>\n",
       "    .dataframe tbody tr th:only-of-type {\n",
       "        vertical-align: middle;\n",
       "    }\n",
       "\n",
       "    .dataframe tbody tr th {\n",
       "        vertical-align: top;\n",
       "    }\n",
       "\n",
       "    .dataframe thead th {\n",
       "        text-align: right;\n",
       "    }\n",
       "</style>\n",
       "<table border=\"1\" class=\"dataframe\">\n",
       "  <thead>\n",
       "    <tr style=\"text-align: right;\">\n",
       "      <th></th>\n",
       "      <th>Movie</th>\n",
       "      <th>Script</th>\n",
       "      <th>Site</th>\n",
       "      <th>html</th>\n",
       "      <th>Clean_Script</th>\n",
       "      <th>Running time minutes (int)</th>\n",
       "      <th>Box office (float)</th>\n",
       "      <th>Starring</th>\n",
       "      <th>Box office</th>\n",
       "      <th>imdb_id</th>\n",
       "      <th>averageRating</th>\n",
       "      <th>numVotes</th>\n",
       "      <th>Year</th>\n",
       "      <th>Disney or pixar</th>\n",
       "      <th>Budget (millions)</th>\n",
       "      <th>Writers</th>\n",
       "      <th>Writers_male</th>\n",
       "      <th>Writers_female</th>\n",
       "    </tr>\n",
       "  </thead>\n",
       "  <tbody>\n",
       "    <tr>\n",
       "      <th>0</th>\n",
       "      <td>Snow White and the Seven Dwarfs</td>\n",
       "      <td>&lt;li&gt;Narrator: Once upon a time, there lived a ...</td>\n",
       "      <td>fandom</td>\n",
       "      <td>p_split</td>\n",
       "      <td>Character                                ...</td>\n",
       "      <td>83</td>\n",
       "      <td>418000000</td>\n",
       "      <td>['Adriana Caselotti', 'Lucille La Verne', 'Har...</td>\n",
       "      <td>$ 418.000.000,00</td>\n",
       "      <td>tt0029583</td>\n",
       "      <td>7.6</td>\n",
       "      <td>192877</td>\n",
       "      <td>1937</td>\n",
       "      <td>Disney</td>\n",
       "      <td>1.49</td>\n",
       "      <td>Ted Sears (story adaptation), Richard Creedon...</td>\n",
       "      <td>1</td>\n",
       "      <td>1</td>\n",
       "    </tr>\n",
       "    <tr>\n",
       "      <th>1</th>\n",
       "      <td>Pinocchio</td>\n",
       "      <td>Jiminy Cricket:&lt;/b&gt; (&lt;i&gt;singing&lt;/i&gt;) ♪ &lt;i&gt;When...</td>\n",
       "      <td>fandom</td>\n",
       "      <td>b-tag</td>\n",
       "      <td>...</td>\n",
       "      <td>88</td>\n",
       "      <td>164000000</td>\n",
       "      <td>['Cliff Edwards', 'Dickie Jones', 'Christian R...</td>\n",
       "      <td>$ 164.000.000,00</td>\n",
       "      <td>tt0032910</td>\n",
       "      <td>7.4</td>\n",
       "      <td>139865</td>\n",
       "      <td>1940</td>\n",
       "      <td>Disney</td>\n",
       "      <td>2.60</td>\n",
       "      <td>Carlo Collodi (from the story by), Ted Sears (...</td>\n",
       "      <td>1</td>\n",
       "      <td>0</td>\n",
       "    </tr>\n",
       "    <tr>\n",
       "      <th>2</th>\n",
       "      <td>Fantasia</td>\n",
       "      <td>NaN</td>\n",
       "      <td>NaN</td>\n",
       "      <td>NaN</td>\n",
       "      <td>NaN</td>\n",
       "      <td>126</td>\n",
       "      <td>83300000</td>\n",
       "      <td>['Leopold Stokowski', 'Deems Taylor']</td>\n",
       "      <td>$ 83.300.000,00</td>\n",
       "      <td>tt0032455</td>\n",
       "      <td>7.7</td>\n",
       "      <td>93503</td>\n",
       "      <td>1940</td>\n",
       "      <td>Disney</td>\n",
       "      <td>2.28</td>\n",
       "      <td>Joe Grant (story direction), Dick Huemer (stor...</td>\n",
       "      <td>1</td>\n",
       "      <td>1</td>\n",
       "    </tr>\n",
       "    <tr>\n",
       "      <th>3</th>\n",
       "      <td>Bambi</td>\n",
       "      <td>NaN</td>\n",
       "      <td>Other</td>\n",
       "      <td>NaN</td>\n",
       "      <td>Character                        ...</td>\n",
       "      <td>70</td>\n",
       "      <td>267400000</td>\n",
       "      <td>see below</td>\n",
       "      <td>$ 267.400.000,00</td>\n",
       "      <td>t0036326</td>\n",
       "      <td>7.3</td>\n",
       "      <td>138736</td>\n",
       "      <td>1942</td>\n",
       "      <td>Disney</td>\n",
       "      <td>0.86</td>\n",
       "      <td>Felix Salten(from the story by), Perce Pearce(...</td>\n",
       "      <td>1</td>\n",
       "      <td>0</td>\n",
       "    </tr>\n",
       "    <tr>\n",
       "      <th>4</th>\n",
       "      <td>Saludos Amigos</td>\n",
       "      <td>NaN</td>\n",
       "      <td>NaN</td>\n",
       "      <td>NaN</td>\n",
       "      <td>NaN</td>\n",
       "      <td>42</td>\n",
       "      <td>1135000</td>\n",
       "      <td>['Lee Blair', 'Mary Blair', 'Pinto Colvig', 'W...</td>\n",
       "      <td>$ 1.135.000,00</td>\n",
       "      <td>tt0034492</td>\n",
       "      <td>7.3</td>\n",
       "      <td>138659</td>\n",
       "      <td>1942</td>\n",
       "      <td>Disney</td>\n",
       "      <td>NaN</td>\n",
       "      <td>Ted Sears (story research), William Cottrell (...</td>\n",
       "      <td>1</td>\n",
       "      <td>0</td>\n",
       "    </tr>\n",
       "    <tr>\n",
       "      <th>...</th>\n",
       "      <td>...</td>\n",
       "      <td>...</td>\n",
       "      <td>...</td>\n",
       "      <td>...</td>\n",
       "      <td>...</td>\n",
       "      <td>...</td>\n",
       "      <td>...</td>\n",
       "      <td>...</td>\n",
       "      <td>...</td>\n",
       "      <td>...</td>\n",
       "      <td>...</td>\n",
       "      <td>...</td>\n",
       "      <td>...</td>\n",
       "      <td>...</td>\n",
       "      <td>...</td>\n",
       "      <td>...</td>\n",
       "      <td>...</td>\n",
       "      <td>...</td>\n",
       "    </tr>\n",
       "    <tr>\n",
       "      <th>78</th>\n",
       "      <td>Soul</td>\n",
       "      <td>NaN</td>\n",
       "      <td>NaN</td>\n",
       "      <td>NaN</td>\n",
       "      <td>NaN</td>\n",
       "      <td>100</td>\n",
       "      <td>120957731</td>\n",
       "      <td>NaN</td>\n",
       "      <td>$ 120.957.731,00</td>\n",
       "      <td>tt2948372</td>\n",
       "      <td>8.1</td>\n",
       "      <td>298469</td>\n",
       "      <td>2020</td>\n",
       "      <td>Pixar</td>\n",
       "      <td>150.00</td>\n",
       "      <td>Pete Docter (story by, )Mike Jones (story by),...</td>\n",
       "      <td>1</td>\n",
       "      <td>0</td>\n",
       "    </tr>\n",
       "    <tr>\n",
       "      <th>79</th>\n",
       "      <td>Onwards</td>\n",
       "      <td>NaN</td>\n",
       "      <td>Other</td>\n",
       "      <td>NaN</td>\n",
       "      <td>Character                                ...</td>\n",
       "      <td>102</td>\n",
       "      <td>141940000</td>\n",
       "      <td>NaN</td>\n",
       "      <td>$ 141.940.000,00</td>\n",
       "      <td>tt7146812</td>\n",
       "      <td>7.4</td>\n",
       "      <td>135518</td>\n",
       "      <td>2020</td>\n",
       "      <td>Pixar</td>\n",
       "      <td>200.00</td>\n",
       "      <td>Dan Scanlon (original story by, )Keith Bunin (...</td>\n",
       "      <td>1</td>\n",
       "      <td>0</td>\n",
       "    </tr>\n",
       "    <tr>\n",
       "      <th>80</th>\n",
       "      <td>Encanto</td>\n",
       "      <td>NaN</td>\n",
       "      <td>Other</td>\n",
       "      <td>NaN</td>\n",
       "      <td>Character                           ...</td>\n",
       "      <td>102</td>\n",
       "      <td>233912000</td>\n",
       "      <td>NaN</td>\n",
       "      <td>$ 233.912.000,00</td>\n",
       "      <td>tt2953050</td>\n",
       "      <td>7.3</td>\n",
       "      <td>123246</td>\n",
       "      <td>2021</td>\n",
       "      <td>Disney</td>\n",
       "      <td>50.00</td>\n",
       "      <td>Charise Castro Smith(screenplay by), Jared Bus...</td>\n",
       "      <td>1</td>\n",
       "      <td>1</td>\n",
       "    </tr>\n",
       "    <tr>\n",
       "      <th>81</th>\n",
       "      <td>Luca</td>\n",
       "      <td>NaN</td>\n",
       "      <td>Other</td>\n",
       "      <td>NaN</td>\n",
       "      <td>Character                                ...</td>\n",
       "      <td>95</td>\n",
       "      <td>49750471</td>\n",
       "      <td>NaN</td>\n",
       "      <td>$ 49.750.471,00</td>\n",
       "      <td>tt12801262</td>\n",
       "      <td>7.5</td>\n",
       "      <td>136257</td>\n",
       "      <td>2021</td>\n",
       "      <td>Pixar</td>\n",
       "      <td>175.00</td>\n",
       "      <td>Enrico Casarosa (story by), Jesse Andrews (sto...</td>\n",
       "      <td>1</td>\n",
       "      <td>0</td>\n",
       "    </tr>\n",
       "    <tr>\n",
       "      <th>82</th>\n",
       "      <td>Raya and the Last Dragon</td>\n",
       "      <td>NaN</td>\n",
       "      <td>Other</td>\n",
       "      <td>NaN</td>\n",
       "      <td>Character                                 ...</td>\n",
       "      <td>107</td>\n",
       "      <td>130281000</td>\n",
       "      <td>['Kelly Marie Tran', 'Awkwafina']</td>\n",
       "      <td>$ 130.281.000,00</td>\n",
       "      <td>tt5109280</td>\n",
       "      <td>7.3</td>\n",
       "      <td>131756</td>\n",
       "      <td>2021</td>\n",
       "      <td>Disney</td>\n",
       "      <td>150.00</td>\n",
       "      <td>Qui Nguyen (screenplay by), Adele Lim (screenp...</td>\n",
       "      <td>1</td>\n",
       "      <td>1</td>\n",
       "    </tr>\n",
       "  </tbody>\n",
       "</table>\n",
       "<p>83 rows × 18 columns</p>\n",
       "</div>"
      ],
      "text/plain": [
       "                              Movie  \\\n",
       "0   Snow White and the Seven Dwarfs   \n",
       "1                         Pinocchio   \n",
       "2                          Fantasia   \n",
       "3                             Bambi   \n",
       "4                    Saludos Amigos   \n",
       "..                              ...   \n",
       "78                             Soul   \n",
       "79                          Onwards   \n",
       "80                          Encanto   \n",
       "81                             Luca   \n",
       "82         Raya and the Last Dragon   \n",
       "\n",
       "                                               Script    Site     html  \\\n",
       "0   <li>Narrator: Once upon a time, there lived a ...  fandom  p_split   \n",
       "1   Jiminy Cricket:</b> (<i>singing</i>) ♪ <i>When...  fandom    b-tag   \n",
       "2                                                 NaN     NaN      NaN   \n",
       "3                                                 NaN   Other      NaN   \n",
       "4                                                 NaN     NaN      NaN   \n",
       "..                                                ...     ...      ...   \n",
       "78                                                NaN     NaN      NaN   \n",
       "79                                                NaN   Other      NaN   \n",
       "80                                                NaN   Other      NaN   \n",
       "81                                                NaN   Other      NaN   \n",
       "82                                                NaN   Other      NaN   \n",
       "\n",
       "                                         Clean_Script  \\\n",
       "0        Character                                ...   \n",
       "1                                                 ...   \n",
       "2                                                 NaN   \n",
       "3                Character                        ...   \n",
       "4                                                 NaN   \n",
       "..                                                ...   \n",
       "78                                                NaN   \n",
       "79       Character                                ...   \n",
       "80            Character                           ...   \n",
       "81       Character                                ...   \n",
       "82      Character                                 ...   \n",
       "\n",
       "    Running time minutes (int)  Box office (float)  \\\n",
       "0                           83           418000000   \n",
       "1                           88           164000000   \n",
       "2                          126            83300000   \n",
       "3                           70           267400000   \n",
       "4                           42             1135000   \n",
       "..                         ...                 ...   \n",
       "78                         100           120957731   \n",
       "79                         102           141940000   \n",
       "80                         102           233912000   \n",
       "81                          95            49750471   \n",
       "82                         107           130281000   \n",
       "\n",
       "                                             Starring        Box office  \\\n",
       "0   ['Adriana Caselotti', 'Lucille La Verne', 'Har...  $ 418.000.000,00   \n",
       "1   ['Cliff Edwards', 'Dickie Jones', 'Christian R...  $ 164.000.000,00   \n",
       "2               ['Leopold Stokowski', 'Deems Taylor']   $ 83.300.000,00   \n",
       "3                                           see below  $ 267.400.000,00   \n",
       "4   ['Lee Blair', 'Mary Blair', 'Pinto Colvig', 'W...    $ 1.135.000,00   \n",
       "..                                                ...               ...   \n",
       "78                                                NaN  $ 120.957.731,00   \n",
       "79                                                NaN  $ 141.940.000,00   \n",
       "80                                                NaN  $ 233.912.000,00   \n",
       "81                                                NaN   $ 49.750.471,00   \n",
       "82                  ['Kelly Marie Tran', 'Awkwafina']  $ 130.281.000,00   \n",
       "\n",
       "       imdb_id  averageRating  numVotes  Year Disney or pixar  \\\n",
       "0    tt0029583            7.6    192877  1937          Disney   \n",
       "1    tt0032910            7.4    139865  1940          Disney   \n",
       "2    tt0032455            7.7     93503  1940          Disney   \n",
       "3     t0036326            7.3    138736  1942          Disney   \n",
       "4    tt0034492            7.3    138659  1942          Disney   \n",
       "..         ...            ...       ...   ...             ...   \n",
       "78   tt2948372            8.1    298469  2020           Pixar   \n",
       "79   tt7146812            7.4    135518  2020           Pixar   \n",
       "80   tt2953050            7.3    123246  2021          Disney   \n",
       "81  tt12801262            7.5    136257  2021           Pixar   \n",
       "82   tt5109280            7.3    131756  2021          Disney   \n",
       "\n",
       "    Budget (millions)                                            Writers  \\\n",
       "0                1.49   Ted Sears (story adaptation), Richard Creedon...   \n",
       "1                2.60  Carlo Collodi (from the story by), Ted Sears (...   \n",
       "2                2.28  Joe Grant (story direction), Dick Huemer (stor...   \n",
       "3                0.86  Felix Salten(from the story by), Perce Pearce(...   \n",
       "4                 NaN  Ted Sears (story research), William Cottrell (...   \n",
       "..                ...                                                ...   \n",
       "78             150.00  Pete Docter (story by, )Mike Jones (story by),...   \n",
       "79             200.00  Dan Scanlon (original story by, )Keith Bunin (...   \n",
       "80              50.00  Charise Castro Smith(screenplay by), Jared Bus...   \n",
       "81             175.00  Enrico Casarosa (story by), Jesse Andrews (sto...   \n",
       "82             150.00  Qui Nguyen (screenplay by), Adele Lim (screenp...   \n",
       "\n",
       "    Writers_male  Writers_female  \n",
       "0              1               1  \n",
       "1              1               0  \n",
       "2              1               1  \n",
       "3              1               0  \n",
       "4              1               0  \n",
       "..           ...             ...  \n",
       "78             1               0  \n",
       "79             1               0  \n",
       "80             1               1  \n",
       "81             1               0  \n",
       "82             1               1  \n",
       "\n",
       "[83 rows x 18 columns]"
      ]
     },
     "execution_count": 41,
     "metadata": {},
     "output_type": "execute_result"
    }
   ],
   "source": [
    "movies"
   ]
  },
  {
   "cell_type": "markdown",
   "id": "5a9896b3",
   "metadata": {},
   "source": [
    "# Clean non-values from clean scripts"
   ]
  },
  {
   "cell_type": "code",
   "execution_count": 42,
   "id": "6c306fb5",
   "metadata": {
    "ExecuteTime": {
     "end_time": "2022-05-02T14:00:02.898014Z",
     "start_time": "2022-05-02T14:00:02.861437Z"
    }
   },
   "outputs": [],
   "source": [
    "# subdata - dataset with scripts\n",
    "movies_script = movies[movies[\"Clean_Script\"].notna()]\n",
    "movies_script = movies_script.reset_index(drop = True)\n"
   ]
  },
  {
   "cell_type": "code",
   "execution_count": 43,
   "id": "803bf566",
   "metadata": {
    "ExecuteTime": {
     "end_time": "2022-05-02T14:00:09.631216Z",
     "start_time": "2022-05-02T14:00:03.182246Z"
    }
   },
   "outputs": [],
   "source": [
    "#drop rows if character is nan\n",
    "\n",
    "for movie in movies_script['Clean_Script']:\n",
    "    for index, row in movie.iterrows():\n",
    "        if pd.isna(row['Character']) == True:\n",
    "            movie.drop(index, inplace=True)\n",
    "        elif row['Line'] == \"\":\n",
    "            movie.drop(index, inplace=True)\n",
    "        elif len(row['Character']) > 35: #kan bruges til at printe cleanet forkerte sætninger\n",
    "            movie.drop(index, inplace=True)\n",
    "        "
   ]
  },
  {
   "cell_type": "markdown",
   "id": "83a0c519",
   "metadata": {},
   "source": [
    "# Gender of Characters"
   ]
  },
  {
   "cell_type": "code",
   "execution_count": 44,
   "id": "143c6a6c",
   "metadata": {
    "ExecuteTime": {
     "end_time": "2022-05-02T14:00:09.902621Z",
     "start_time": "2022-05-02T14:00:09.634841Z"
    }
   },
   "outputs": [],
   "source": [
    "# load names \n",
    "df_male = pd.read_excel(\"Male_names.xlsx\")\n",
    "df_female = pd.read_excel('Female_names.xlsx')"
   ]
  },
  {
   "cell_type": "code",
   "execution_count": 45,
   "id": "d7ad657d",
   "metadata": {
    "ExecuteTime": {
     "end_time": "2022-05-02T14:00:09.934124Z",
     "start_time": "2022-05-02T14:00:09.925124Z"
    }
   },
   "outputs": [],
   "source": [
    "# lower names\n",
    "df_male[\"Name\"] = df_male[\"Name\"].str.lower()\n",
    "df_female[\"Name\"] = df_female[\"Name\"].str.lower()"
   ]
  },
  {
   "cell_type": "code",
   "execution_count": 46,
   "id": "406e1e00",
   "metadata": {
    "ExecuteTime": {
     "end_time": "2022-05-02T14:00:09.948689Z",
     "start_time": "2022-05-02T14:00:09.942799Z"
    }
   },
   "outputs": [],
   "source": [
    "# functions for removing extra white spaces\n",
    "\n",
    "def remove_first_end_spaces(string):\n",
    "    return \"\".join(string.rstrip().lstrip())\n",
    "\n",
    "# Remove all extra spaces\n",
    "def remove_all_extra_spaces(string):\n",
    "    return \" \".join(string.split())\n"
   ]
  },
  {
   "cell_type": "code",
   "execution_count": 47,
   "id": "552be46f",
   "metadata": {
    "ExecuteTime": {
     "end_time": "2022-05-02T14:00:10.183808Z",
     "start_time": "2022-05-02T14:00:09.953379Z"
    }
   },
   "outputs": [],
   "source": [
    "# all characters name --> lower \n",
    "names = []\n",
    "for index, row in movies_script.iterrows():\n",
    "    lower_names = []\n",
    "    for name in row['Clean_Script']['Character']:\n",
    "        name = str(name)\n",
    "        name = name.lower()\n",
    "        name = re.sub(\"v/o|v/0\", \"\", name)\n",
    "        name = remove_first_end_spaces(name)\n",
    "        name = remove_all_extra_spaces(name)\n",
    "        \n",
    "        lower_names.append(name)\n",
    "    names.append(lower_names)\n",
    "    \n",
    "for i in range(len(movies_script)):\n",
    "    movies_script['Clean_Script'][i]['Character_lower'] = names[i]\n"
   ]
  },
  {
   "cell_type": "code",
   "execution_count": 48,
   "id": "16bed1d7",
   "metadata": {
    "ExecuteTime": {
     "end_time": "2022-05-02T14:00:10.195683Z",
     "start_time": "2022-05-02T14:00:10.188484Z"
    }
   },
   "outputs": [],
   "source": [
    "men = ['men', 'man', 'duke', 'king', 'prince ', 'boy', 'father', 'dad', \n",
    "       'pap','mr', 'male', 'brother', 'guard', 'jack', 'timothy', 'jiminy','geppetto']\n",
    "women = ['girl', 'women', 'woman', 'princess', 'queen', 'sister', 'lady', 'waitress', 'barbie',\n",
    "         'mother', 'mum', 'mrs', 'madame', 'female', 'mam', 'abuelita', 'abuela', 'mom']"
   ]
  },
  {
   "cell_type": "code",
   "execution_count": 49,
   "id": "f79fd312",
   "metadata": {
    "ExecuteTime": {
     "end_time": "2022-05-02T14:00:27.180684Z",
     "start_time": "2022-05-02T14:00:10.201469Z"
    }
   },
   "outputs": [],
   "source": [
    "# Are the Characters female or male? \n",
    "movies_gender = []\n",
    "for index, row in movies_script.iterrows():\n",
    "    gender_list = []\n",
    "    if isinstance(row['Clean_Script'], pd.DataFrame):\n",
    "        # if part of character name is in one of the list --> either male or female\n",
    "        for character in row['Clean_Script']['Character_lower']:\n",
    "            if any(word in character for word in list(df_female['Name'])):\n",
    "                gender = \"Female\"\n",
    "            elif any(word in character for word in list(df_male['Name'])):\n",
    "                gender = \"Male\"\n",
    "            \n",
    "            \n",
    "            elif any(word in character for word in women): \n",
    "                gender = \"Female\"\n",
    "            elif any(word in character for word in men): \n",
    "                gender = \"Male\"\n",
    "            else:\n",
    "                gender = np.nan\n",
    "            gender_list.append(gender)\n",
    "\n",
    "    \n",
    "    else:\n",
    "        gender_list = np.nan\n",
    "\n",
    "    movies_gender.append(gender_list)\n",
    "    \n",
    "for i in range(len(movies_script)):\n",
    "    movies_script['Clean_Script'][i]['Gender'] = movies_gender[i]"
   ]
  },
  {
   "cell_type": "code",
   "execution_count": 50,
   "id": "df1f324d",
   "metadata": {
    "ExecuteTime": {
     "end_time": "2022-05-02T14:00:27.194904Z",
     "start_time": "2022-05-02T14:00:27.187106Z"
    }
   },
   "outputs": [],
   "source": [
    "movies_script = movies_script.reset_index()"
   ]
  },
  {
   "cell_type": "code",
   "execution_count": 51,
   "id": "aecf223f",
   "metadata": {
    "ExecuteTime": {
     "end_time": "2022-05-02T14:00:31.916964Z",
     "start_time": "2022-05-02T14:00:27.202779Z"
    }
   },
   "outputs": [],
   "source": [
    "# print unikkelister af characters uden female/male \n",
    "\n",
    "names_wo_gender = []\n",
    "movie_name = []\n",
    "i = -1\n",
    "for movie in movies_script['Clean_Script']:\n",
    "    i = i+1\n",
    "    \n",
    "    for index, row in movie.iterrows():\n",
    "        if pd.isna(row['Gender']) == True:\n",
    "            names_wo_gender.append(row['Character_lower'])\n",
    "            movie_name.append(i)\n",
    "\n",
    "names_gender = pd.DataFrame()\n",
    "names_gender['Movie'] = movie_name\n",
    "names_gender['Character_name'] = names_wo_gender\n",
    "\n",
    "names_gender = names_gender.drop_duplicates()\n",
    "names_gender = names_gender.reset_index(drop = True)\n",
    "\n",
    "names_gender = names_gender.rename(columns={\"Movie\": \"index\"})\n",
    "names_gender = names_gender.merge(movies_script[['index', 'Movie']])\n",
    "names_gender\n",
    "\n",
    "names_gender.to_excel('Unique_names_new.xlsx')"
   ]
  },
  {
   "cell_type": "code",
   "execution_count": 52,
   "id": "1f2fff37",
   "metadata": {
    "ExecuteTime": {
     "end_time": "2022-05-02T14:00:31.933880Z",
     "start_time": "2022-05-02T14:00:31.919695Z"
    }
   },
   "outputs": [
    {
     "data": {
      "text/plain": [
       "1060"
      ]
     },
     "execution_count": 52,
     "metadata": {},
     "output_type": "execute_result"
    }
   ],
   "source": [
    "len(names_gender)"
   ]
  },
  {
   "cell_type": "code",
   "execution_count": 53,
   "id": "d0665628",
   "metadata": {
    "ExecuteTime": {
     "end_time": "2022-05-02T14:00:31.949777Z",
     "start_time": "2022-05-02T14:00:31.937961Z"
    }
   },
   "outputs": [],
   "source": [
    "#names_gender.groupby('Movie').count()[40:]"
   ]
  },
  {
   "cell_type": "code",
   "execution_count": 54,
   "id": "53a5c501",
   "metadata": {
    "ExecuteTime": {
     "end_time": "2022-05-02T14:00:32.203214Z",
     "start_time": "2022-05-02T14:00:31.952952Z"
    }
   },
   "outputs": [
    {
     "data": {
      "text/html": [
       "<div>\n",
       "<style scoped>\n",
       "    .dataframe tbody tr th:only-of-type {\n",
       "        vertical-align: middle;\n",
       "    }\n",
       "\n",
       "    .dataframe tbody tr th {\n",
       "        vertical-align: top;\n",
       "    }\n",
       "\n",
       "    .dataframe thead th {\n",
       "        text-align: right;\n",
       "    }\n",
       "</style>\n",
       "<table border=\"1\" class=\"dataframe\">\n",
       "  <thead>\n",
       "    <tr style=\"text-align: right;\">\n",
       "      <th></th>\n",
       "      <th>Unnamed: 0</th>\n",
       "      <th>index</th>\n",
       "      <th>Character_lower</th>\n",
       "      <th>Movie</th>\n",
       "      <th>Gender</th>\n",
       "    </tr>\n",
       "  </thead>\n",
       "  <tbody>\n",
       "    <tr>\n",
       "      <th>0</th>\n",
       "      <td>0</td>\n",
       "      <td>0</td>\n",
       "      <td>narrator</td>\n",
       "      <td>Snow White and the Seven Dwarfs</td>\n",
       "      <td>Male</td>\n",
       "    </tr>\n",
       "    <tr>\n",
       "      <th>1</th>\n",
       "      <td>1</td>\n",
       "      <td>0</td>\n",
       "      <td>grimhilde</td>\n",
       "      <td>Snow White and the Seven Dwarfs</td>\n",
       "      <td>Female</td>\n",
       "    </tr>\n",
       "    <tr>\n",
       "      <th>2</th>\n",
       "      <td>2</td>\n",
       "      <td>0</td>\n",
       "      <td>magic</td>\n",
       "      <td>Snow White and the Seven Dwarfs</td>\n",
       "      <td>Non-human</td>\n",
       "    </tr>\n",
       "    <tr>\n",
       "      <th>3</th>\n",
       "      <td>3</td>\n",
       "      <td>0</td>\n",
       "      <td>snow</td>\n",
       "      <td>Snow White and the Seven Dwarfs</td>\n",
       "      <td>Female</td>\n",
       "    </tr>\n",
       "    <tr>\n",
       "      <th>4</th>\n",
       "      <td>4</td>\n",
       "      <td>0</td>\n",
       "      <td>echo</td>\n",
       "      <td>Snow White and the Seven Dwarfs</td>\n",
       "      <td>Non-human</td>\n",
       "    </tr>\n",
       "    <tr>\n",
       "      <th>...</th>\n",
       "      <td>...</td>\n",
       "      <td>...</td>\n",
       "      <td>...</td>\n",
       "      <td>...</td>\n",
       "      <td>...</td>\n",
       "    </tr>\n",
       "    <tr>\n",
       "      <th>1209</th>\n",
       "      <td>1217</td>\n",
       "      <td>62</td>\n",
       "      <td>namaari</td>\n",
       "      <td>Raya and the Last Dragon</td>\n",
       "      <td>Female</td>\n",
       "    </tr>\n",
       "    <tr>\n",
       "      <th>1210</th>\n",
       "      <td>1218</td>\n",
       "      <td>62</td>\n",
       "      <td>boun</td>\n",
       "      <td>Raya and the Last Dragon</td>\n",
       "      <td>Male</td>\n",
       "    </tr>\n",
       "    <tr>\n",
       "      <th>1211</th>\n",
       "      <td>1219</td>\n",
       "      <td>62</td>\n",
       "      <td>fang officer</td>\n",
       "      <td>Raya and the Last Dragon</td>\n",
       "      <td>Female</td>\n",
       "    </tr>\n",
       "    <tr>\n",
       "      <th>1212</th>\n",
       "      <td>1220</td>\n",
       "      <td>62</td>\n",
       "      <td>noi</td>\n",
       "      <td>Raya and the Last Dragon</td>\n",
       "      <td>Female</td>\n",
       "    </tr>\n",
       "    <tr>\n",
       "      <th>1213</th>\n",
       "      <td>1221</td>\n",
       "      <td>62</td>\n",
       "      <td>tong</td>\n",
       "      <td>Raya and the Last Dragon</td>\n",
       "      <td>Male</td>\n",
       "    </tr>\n",
       "  </tbody>\n",
       "</table>\n",
       "<p>1214 rows × 5 columns</p>\n",
       "</div>"
      ],
      "text/plain": [
       "      Unnamed: 0  index Character_lower                            Movie  \\\n",
       "0              0      0        narrator  Snow White and the Seven Dwarfs   \n",
       "1              1      0       grimhilde  Snow White and the Seven Dwarfs   \n",
       "2              2      0           magic  Snow White and the Seven Dwarfs   \n",
       "3              3      0            snow  Snow White and the Seven Dwarfs   \n",
       "4              4      0            echo  Snow White and the Seven Dwarfs   \n",
       "...          ...    ...             ...                              ...   \n",
       "1209        1217     62         namaari         Raya and the Last Dragon   \n",
       "1210        1218     62            boun         Raya and the Last Dragon   \n",
       "1211        1219     62    fang officer         Raya and the Last Dragon   \n",
       "1212        1220     62             noi         Raya and the Last Dragon   \n",
       "1213        1221     62            tong         Raya and the Last Dragon   \n",
       "\n",
       "         Gender  \n",
       "0          Male  \n",
       "1        Female  \n",
       "2     Non-human  \n",
       "3        Female  \n",
       "4     Non-human  \n",
       "...         ...  \n",
       "1209     Female  \n",
       "1210       Male  \n",
       "1211     Female  \n",
       "1212     Female  \n",
       "1213       Male  \n",
       "\n",
       "[1214 rows x 5 columns]"
      ]
     },
     "execution_count": 54,
     "metadata": {},
     "output_type": "execute_result"
    }
   ],
   "source": [
    "# open gender of characters after manual validation\n",
    "validated_names = pd.read_excel('Unique_names_validated.xlsx')\n",
    "validated_names[\"Gender\"].replace({\"F\": \"Female\", \"M\": \"Male\", \"G\": \"Group\", \"N\": \"Non-human\"}, inplace=True)\n",
    "validated_names = validated_names.rename(columns={\"Character_name\": \"Character_lower\"})\n",
    "validated_names"
   ]
  },
  {
   "cell_type": "code",
   "execution_count": 55,
   "id": "8fb91644",
   "metadata": {
    "ExecuteTime": {
     "end_time": "2022-05-02T14:00:32.344744Z",
     "start_time": "2022-05-02T14:00:32.208525Z"
    }
   },
   "outputs": [],
   "source": [
    "#pd.to_pickle(validated_names, \"validated_names.pickle\")\n",
    "movies_script.to_pickle(\"movies_script.pickle\")\n",
    "validated_names.to_pickle(\"validate_names.pickle\")"
   ]
  },
  {
   "cell_type": "code",
   "execution_count": 56,
   "id": "9b9767a1",
   "metadata": {
    "ExecuteTime": {
     "end_time": "2022-05-02T14:00:37.740652Z",
     "start_time": "2022-05-02T14:00:32.349819Z"
    }
   },
   "outputs": [],
   "source": [
    "# Look up gender in validated_names \n",
    "\n",
    "\n",
    "#convert validated_names to dict\n",
    "validated_names_dict = (\n",
    "    validated_names.groupby('Movie')\n",
    "                   .apply(lambda movie: dict(zip(movie['Character_lower'], \n",
    "                                                 movie['Gender'])))\n",
    "                   .to_dict())\n",
    "\n",
    "# Look up \n",
    "gender_in_movies = []\n",
    "movies_script2 = movies_script.copy()\n",
    "for _, r0 in movies_script2.iterrows():\n",
    "    gender_list = []\n",
    "    movie = r0[\"Movie\"]\n",
    "    for _, r1 in r0[\"Clean_Script\"].iterrows():\n",
    "        character    = r1[\"Character_lower\"]\n",
    "        if character in validated_names_dict[movie]:\n",
    "            gender = validated_names_dict[movie][character]\n",
    "        else:\n",
    "            gender = r1[\"Gender\"]\n",
    "        gender_list.append(gender)\n",
    "    gender_in_movies.append(gender_list)\n",
    "\n",
    "#Append new gender to clean_scripts     \n",
    "for i in range(len(movies_script)):\n",
    "    movies_script['Clean_Script'][i]['Gender_new'] = gender_in_movies[i]"
   ]
  },
  {
   "cell_type": "code",
   "execution_count": 57,
   "id": "85c3f5ec",
   "metadata": {
    "ExecuteTime": {
     "end_time": "2022-05-02T14:00:43.469345Z",
     "start_time": "2022-05-02T14:00:37.744203Z"
    }
   },
   "outputs": [],
   "source": [
    "# delete all lines with no gender   \n",
    "for movie in movies_script['Clean_Script']:\n",
    "    for index, row in movie.iterrows():\n",
    "        if pd.isna(row['Gender_new']) == True:\n",
    "            movie.drop(index, inplace=True)"
   ]
  },
  {
   "cell_type": "code",
   "execution_count": 58,
   "id": "9cc0ca3a",
   "metadata": {
    "ExecuteTime": {
     "end_time": "2022-05-02T14:00:43.947975Z",
     "start_time": "2022-05-02T14:00:43.478817Z"
    }
   },
   "outputs": [],
   "source": [
    "#save to pickle\n",
    "movies_script.to_pickle(\"final_gendered_scripts.pickle\")"
   ]
  },
  {
   "cell_type": "code",
   "execution_count": 59,
   "id": "bb143f53",
   "metadata": {
    "ExecuteTime": {
     "end_time": "2022-05-02T14:00:58.400189Z",
     "start_time": "2022-05-02T14:00:43.973675Z"
    }
   },
   "outputs": [],
   "source": [
    "#Print list with all unique characters including movies and gender\n",
    "\n",
    "names_wo_gender = []\n",
    "gender_list = []\n",
    "movie_name = []\n",
    "i = -1\n",
    "for movie in movies_script['Clean_Script']:\n",
    "    i = i+1\n",
    "    \n",
    "    for index, row in movie.iterrows():\n",
    "        names_wo_gender.append(row['Character'])\n",
    "        gender_list.append(row['Gender_new'])\n",
    "        movie_name.append(i)\n",
    "\n",
    "validate_gender = pd.DataFrame()\n",
    "validate_gender['Movie'] = movie_name\n",
    "validate_gender['Character_name'] = names_wo_gender\n",
    "validate_gender['Gender'] = gender_list\n",
    "\n",
    "validate_gender = validate_gender.drop_duplicates()\n",
    "validate_gender = validate_gender.reset_index(drop = True)\n",
    "\n",
    "validate_gender = validate_gender.rename(columns={\"Movie\": \"index\"})\n",
    "validate_gender = validate_gender.merge(movies_script[['index', 'Movie']])\n",
    "validate_gender\n",
    "\n",
    "validate_gender.to_excel('all_names_gender.xlsx')"
   ]
  },
  {
   "cell_type": "code",
   "execution_count": 60,
   "id": "0e4c08d7",
   "metadata": {
    "ExecuteTime": {
     "end_time": "2022-05-02T14:00:58.433916Z",
     "start_time": "2022-05-02T14:00:58.404741Z"
    }
   },
   "outputs": [
    {
     "data": {
      "text/plain": [
       "2560"
      ]
     },
     "execution_count": 60,
     "metadata": {},
     "output_type": "execute_result"
    }
   ],
   "source": [
    "len(validate_gender)"
   ]
  },
  {
   "cell_type": "code",
   "execution_count": 61,
   "id": "e408a1e7",
   "metadata": {
    "ExecuteTime": {
     "end_time": "2022-05-02T14:00:58.820105Z",
     "start_time": "2022-05-02T14:00:58.456105Z"
    }
   },
   "outputs": [],
   "source": [
    "# replace gender if gender is validated to be wrong\n",
    "updated_names = pd.read_excel('wrong_names_validated.xlsx')\n",
    "errors = updated_names[updated_names[\"Error\"] == 'FEJL']\n",
    "val_names = updated_names[updated_names[\"Gender_New\"].notna()]"
   ]
  },
  {
   "cell_type": "code",
   "execution_count": 62,
   "id": "1b6568a7",
   "metadata": {
    "ExecuteTime": {
     "end_time": "2022-05-02T14:00:58.840553Z",
     "start_time": "2022-05-02T14:00:58.823002Z"
    }
   },
   "outputs": [],
   "source": [
    "# convert the list of errors and manually validated gender of names \n",
    "\n",
    "#convert validated_names to dict\n",
    "val_names_dict = (\n",
    "    val_names.groupby('Movie')\n",
    "                   .apply(lambda movie: dict(zip(movie['Character'], \n",
    "                                                 movie['Gender_New'])))\n",
    "                   .to_dict())\n",
    "\n",
    "# convert errors to dict \n",
    "error_dict = (\n",
    "    errors.groupby('Movie')\n",
    "                   .apply(lambda movie: dict(zip(movie['Character'], \n",
    "                                                 movie['Error'])))\n",
    "                   .to_dict())"
   ]
  },
  {
   "cell_type": "code",
   "execution_count": 63,
   "id": "21a8ff91",
   "metadata": {
    "ExecuteTime": {
     "end_time": "2022-05-02T14:01:04.496566Z",
     "start_time": "2022-05-02T14:00:58.844915Z"
    }
   },
   "outputs": [],
   "source": [
    "# Replace gender if validated to be another gender \n",
    "\n",
    "gender_validated = []\n",
    "movies_script2 = movies_script.copy()\n",
    "for _, r0 in movies_script2.iterrows():\n",
    "    gender_list = []\n",
    "    movie = r0[\"Movie\"]\n",
    "    if movie in val_names_dict:\n",
    "        \n",
    "        for _, r1 in r0[\"Clean_Script\"].iterrows():\n",
    "            character    = r1[\"Character\"]\n",
    "            if character in val_names_dict[movie]:\n",
    "                gender = val_names_dict[movie][character]\n",
    "            else:\n",
    "                gender = r1[\"Gender_new\"]\n",
    "            gender_list.append(gender)\n",
    "        gender_validated.append(gender_list)\n",
    "    else:\n",
    "        for _, r1 in r0[\"Clean_Script\"].iterrows():\n",
    "            gender = r1[\"Gender_new\"]\n",
    "            gender_list.append(gender)\n",
    "        gender_validated.append(gender_list)\n",
    "        \n",
    "\n",
    "#Append new gender to clean_scripts     \n",
    "for i in range(len(movies_script)):\n",
    "    movies_script['Clean_Script'][i]['Gender_updated'] = gender_validated[i]"
   ]
  },
  {
   "cell_type": "code",
   "execution_count": 64,
   "id": "8b809b7f",
   "metadata": {
    "ExecuteTime": {
     "end_time": "2022-05-02T14:01:05.856554Z",
     "start_time": "2022-05-02T14:01:04.500578Z"
    }
   },
   "outputs": [],
   "source": [
    "# if in error dict --> remove \n",
    "error_validated = []\n",
    "\n",
    "\n",
    "for _, r0 in movies_script.iterrows():\n",
    "    gender_list = []\n",
    "    movie = r0[\"Movie\"]\n",
    "    if movie in error_dict:\n",
    "\n",
    "        for index, r1 in r0[\"Clean_Script\"].iterrows():\n",
    "            character    = r1[\"Character\"]\n",
    "            #character = remove_all_extra_spaces(character)\n",
    "            if character in error_dict[movie]:\n",
    "                #print(r1['Character'])\n",
    "                r0[\"Clean_Script\"].drop(index, inplace=True)     \n"
   ]
  },
  {
   "cell_type": "code",
   "execution_count": 65,
   "id": "9940544d",
   "metadata": {
    "ExecuteTime": {
     "end_time": "2022-05-02T14:01:06.088097Z",
     "start_time": "2022-05-02T14:01:05.877610Z"
    }
   },
   "outputs": [],
   "source": [
    "# remove last space \n",
    "\n",
    "character_removespace = []\n",
    "\n",
    "for index, row in movies_script.iterrows():\n",
    "    character_updated = []\n",
    "    if isinstance(row['Clean_Script'], pd.DataFrame):\n",
    "        # if part of character name is in one of the list --> either male or female\n",
    "        for character in row['Clean_Script']['Character']:\n",
    "            character = remove_all_extra_spaces(character)\n",
    "            character = re.sub(r':', '', character)\n",
    "            character_updated.append(character)\n",
    "    else:\n",
    "        character_updated = np.nan\n",
    "\n",
    "    character_removespace.append(character_updated)\n",
    "    \n",
    "line_removespace = []\n",
    "for index, row in movies_script.iterrows():\n",
    "    line_updated = []\n",
    "    if isinstance(row['Clean_Script'], pd.DataFrame):\n",
    "\n",
    "        for line in row['Clean_Script']['Line']:\n",
    "            line = remove_all_extra_spaces(line)\n",
    "            line_updated.append(line)\n",
    "    else:\n",
    "        line_updated = np.nan\n",
    "\n",
    "    line_removespace.append(line_updated)\n",
    "    \n",
    "for i in range(len(movies_script)):\n",
    "    movies_script['Clean_Script'][i]['Character'] = character_removespace[i]\n",
    "    movies_script['Clean_Script'][i]['Line'] = line_removespace[i]"
   ]
  },
  {
   "cell_type": "code",
   "execution_count": 66,
   "id": "db7f856c",
   "metadata": {
    "ExecuteTime": {
     "end_time": "2022-05-02T14:01:16.394780Z",
     "start_time": "2022-05-02T14:01:06.091730Z"
    }
   },
   "outputs": [],
   "source": [
    "# test scripts \n",
    "os.getcwd()\n",
    "os.chdir('/Users/Sofie/Disney Thesis/Test_Scripts')\n",
    "\n",
    "for index, row in movies_script.iterrows():\n",
    "    movie = row['Movie']\n",
    "    name = movie + \".xlsx\"\n",
    "    script = row['Clean_Script']\n",
    "    script.to_excel(name)"
   ]
  },
  {
   "cell_type": "code",
   "execution_count": 67,
   "id": "200acf88",
   "metadata": {
    "ExecuteTime": {
     "end_time": "2022-05-02T14:01:16.488293Z",
     "start_time": "2022-05-02T14:01:16.397485Z"
    }
   },
   "outputs": [],
   "source": [
    "# save data frame \n",
    "movies_script.to_pickle(\"scripts_clean_final.pickle\")"
   ]
  },
  {
   "cell_type": "markdown",
   "id": "78aa990d",
   "metadata": {},
   "source": [
    "# Minor cleaning \n",
    "\n",
    "We found a couple of mistakes in the gender assignment, when we started plotting the descriptive analysis. These are implemented here"
   ]
  },
  {
   "cell_type": "code",
   "execution_count": 68,
   "id": "57599724",
   "metadata": {
    "ExecuteTime": {
     "end_time": "2022-05-02T14:01:16.688755Z",
     "start_time": "2022-05-02T14:01:16.491531Z"
    }
   },
   "outputs": [],
   "source": [
    "scripts = pd.read_pickle(\"scripts_clean_final.pickle\")\n"
   ]
  },
  {
   "cell_type": "code",
   "execution_count": 69,
   "id": "51893d93",
   "metadata": {
    "ExecuteTime": {
     "end_time": "2022-05-02T14:01:16.716133Z",
     "start_time": "2022-05-02T14:01:16.691889Z"
    }
   },
   "outputs": [],
   "source": [
    "scripts['Clean_Script'][3]\n",
    "gender = []\n",
    "for index, row in scripts['Clean_Script'][3].iterrows():\n",
    "    \n",
    "    if row['Character_lower'] == \"joe\":\n",
    "        gender.append(\"Male\")\n",
    "    else:\n",
    "        gender.append(row['Gender_updated'])\n",
    "\n",
    "scripts['Clean_Script'][3]['Gender_updated'] = gender"
   ]
  },
  {
   "cell_type": "code",
   "execution_count": 70,
   "id": "6f07616c",
   "metadata": {
    "ExecuteTime": {
     "end_time": "2022-05-02T14:01:16.728375Z",
     "start_time": "2022-05-02T14:01:16.719731Z"
    }
   },
   "outputs": [],
   "source": [
    "lines = []\n",
    "for line in scripts['Clean_Script'][27]['Line']:\n",
    "    line = line.split(\" - \")[0]\n",
    "    lines.append(line)\n",
    "scripts['Clean_Script'][27]['Line'] = lines"
   ]
  },
  {
   "cell_type": "code",
   "execution_count": 71,
   "id": "cec652db",
   "metadata": {
    "ExecuteTime": {
     "end_time": "2022-05-02T14:01:16.848041Z",
     "start_time": "2022-05-02T14:01:16.732039Z"
    }
   },
   "outputs": [],
   "source": [
    "# save data frame \n",
    "scripts.to_pickle(\"scripts_clean_final.pickle\")"
   ]
  },
  {
   "cell_type": "code",
   "execution_count": null,
   "id": "faecbd9a",
   "metadata": {},
   "outputs": [],
   "source": []
  },
  {
   "cell_type": "code",
   "execution_count": null,
   "id": "e46980a3",
   "metadata": {},
   "outputs": [],
   "source": []
  }
 ],
 "metadata": {
  "kernelspec": {
   "display_name": "Python 3",
   "language": "python",
   "name": "python3"
  },
  "language_info": {
   "codemirror_mode": {
    "name": "ipython",
    "version": 3
   },
   "file_extension": ".py",
   "mimetype": "text/x-python",
   "name": "python",
   "nbconvert_exporter": "python",
   "pygments_lexer": "ipython3",
   "version": "3.8.8"
  },
  "toc": {
   "nav_menu": {},
   "number_sections": true,
   "sideBar": true,
   "skip_h1_title": false,
   "title_cell": "Table of Contents",
   "title_sidebar": "Contents",
   "toc_cell": false,
   "toc_position": {},
   "toc_section_display": true,
   "toc_window_display": false
  }
 },
 "nbformat": 4,
 "nbformat_minor": 5
}
