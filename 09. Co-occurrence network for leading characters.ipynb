{
 "cells": [
  {
   "cell_type": "markdown",
   "id": "0a10fbcc",
   "metadata": {},
   "source": [
    "# Word counts and word co-occurrence networks \n",
    "Preparing for word counts and word co-occurrence networks"
   ]
  },
  {
   "cell_type": "code",
   "execution_count": 423,
   "id": "dcfabadd",
   "metadata": {
    "ExecuteTime": {
     "end_time": "2022-04-25T08:13:34.558138Z",
     "start_time": "2022-04-25T08:13:34.545312Z"
    }
   },
   "outputs": [],
   "source": [
    "# import libraries\n",
    "import re\n",
    "import itertools\n",
    "import unicodedata\n",
    "import networkx as nx\n",
    "from scipy.spatial import distance\n",
    "%matplotlib inline\n",
    "import matplotlib.pyplot as plt"
   ]
  },
  {
   "cell_type": "code",
   "execution_count": 424,
   "id": "6fd4ece9",
   "metadata": {
    "ExecuteTime": {
     "end_time": "2022-04-25T08:13:35.375754Z",
     "start_time": "2022-04-25T08:13:35.186636Z"
    }
   },
   "outputs": [],
   "source": [
    "# set directory \n",
    "os.getcwd()\n",
    "os.chdir('/Users/Sofie/Disney Thesis')\n",
    "\n",
    "# import clean scripts\n",
    "all_scripts = pd.read_pickle(\"all_scripts_cleaned_total.pickle\")"
   ]
  },
  {
   "cell_type": "code",
   "execution_count": 425,
   "id": "63168678",
   "metadata": {
    "ExecuteTime": {
     "end_time": "2022-04-25T08:13:35.661119Z",
     "start_time": "2022-04-25T08:13:35.655659Z"
    }
   },
   "outputs": [],
   "source": [
    "# list of often used words to be removed\n",
    "often_used = [\"know\", \"look\", \"come\", \"like\", \"right\", \"okay\", \"got\", \"hey\", \"hmm\", \"huh\"]"
   ]
  },
  {
   "cell_type": "code",
   "execution_count": 426,
   "id": "2886cdb8",
   "metadata": {
    "ExecuteTime": {
     "end_time": "2022-04-25T08:13:36.235027Z",
     "start_time": "2022-04-25T08:13:36.046020Z"
    }
   },
   "outputs": [],
   "source": [
    "# make all lines into list of words\n",
    "clean_lines = []\n",
    "for line in all_scripts['Clean_Line_list']:\n",
    "    line = [i for i in line if i]\n",
    "    # remove most often used words similar to stop words\n",
    "    line = [word for word in line if word not in often_used]\n",
    "    \n",
    "    clean_lines.append(line)\n",
    " \n",
    "all_scripts['Clean_Line_list'] = clean_lines\n"
   ]
  },
  {
   "cell_type": "code",
   "execution_count": 427,
   "id": "aafea06a",
   "metadata": {
    "ExecuteTime": {
     "end_time": "2022-04-25T08:13:36.539623Z",
     "start_time": "2022-04-25T08:13:36.461531Z"
    }
   },
   "outputs": [
    {
     "data": {
      "text/html": [
       "<div>\n",
       "<style scoped>\n",
       "    .dataframe tbody tr th:only-of-type {\n",
       "        vertical-align: middle;\n",
       "    }\n",
       "\n",
       "    .dataframe tbody tr th {\n",
       "        vertical-align: top;\n",
       "    }\n",
       "\n",
       "    .dataframe thead th {\n",
       "        text-align: right;\n",
       "    }\n",
       "</style>\n",
       "<table border=\"1\" class=\"dataframe\">\n",
       "  <thead>\n",
       "    <tr style=\"text-align: right;\">\n",
       "      <th></th>\n",
       "      <th>Era</th>\n",
       "      <th>Movie</th>\n",
       "      <th>Character</th>\n",
       "      <th>Line</th>\n",
       "      <th>Gender</th>\n",
       "      <th>Group</th>\n",
       "      <th>Words_n</th>\n",
       "      <th>dialouge_lenght</th>\n",
       "      <th>Dialouge</th>\n",
       "      <th>Clean_Line_all</th>\n",
       "      <th>Clean_Line_list</th>\n",
       "      <th>Clean_Line</th>\n",
       "    </tr>\n",
       "  </thead>\n",
       "  <tbody>\n",
       "    <tr>\n",
       "      <th>0</th>\n",
       "      <td>The Golden Age</td>\n",
       "      <td>Snow White and the Seven Dwarfs</td>\n",
       "      <td>narrator</td>\n",
       "      <td>Once upon a time, there lived a lovely little ...</td>\n",
       "      <td>Male</td>\n",
       "      <td>Single</td>\n",
       "      <td>48</td>\n",
       "      <td>0</td>\n",
       "      <td>False</td>\n",
       "      <td>once upon a time, there lived a lovely little ...</td>\n",
       "      <td>[upon, time, lived, lovely, little, named, vai...</td>\n",
       "      <td>upon time lived lovely little named vain wicke...</td>\n",
       "    </tr>\n",
       "    <tr>\n",
       "      <th>1</th>\n",
       "      <td>The Golden Age</td>\n",
       "      <td>Snow White and the Seven Dwarfs</td>\n",
       "      <td>narrator</td>\n",
       "      <td>Each day, the vain Queen consulted her Magic M...</td>\n",
       "      <td>Male</td>\n",
       "      <td>Single</td>\n",
       "      <td>44</td>\n",
       "      <td>2</td>\n",
       "      <td>True</td>\n",
       "      <td>each day, the vain queen consulted her magic m...</td>\n",
       "      <td>[day, vain, consulted, magic, mirror, magic, m...</td>\n",
       "      <td>day vain consulted magic mirror magic mirror w...</td>\n",
       "    </tr>\n",
       "    <tr>\n",
       "      <th>2</th>\n",
       "      <td>The Golden Age</td>\n",
       "      <td>Snow White and the Seven Dwarfs</td>\n",
       "      <td>grimhilde</td>\n",
       "      <td>Slave in the Magic Mirror, come from the farth...</td>\n",
       "      <td>Female</td>\n",
       "      <td>Single</td>\n",
       "      <td>10</td>\n",
       "      <td>0</td>\n",
       "      <td>False</td>\n",
       "      <td>slave in the magic mirror, come from the farth...</td>\n",
       "      <td>[slave, magic, mirror, farthest, space]</td>\n",
       "      <td>slave magic mirror farthest space</td>\n",
       "    </tr>\n",
       "    <tr>\n",
       "      <th>3</th>\n",
       "      <td>The Golden Age</td>\n",
       "      <td>Snow White and the Seven Dwarfs</td>\n",
       "      <td>grimhilde</td>\n",
       "      <td>Through wind and darkness, I summon thee. Speak!</td>\n",
       "      <td>Female</td>\n",
       "      <td>Single</td>\n",
       "      <td>8</td>\n",
       "      <td>0</td>\n",
       "      <td>False</td>\n",
       "      <td>through wind and darkness, i summon thee. speak!</td>\n",
       "      <td>[wind, darkness, summon, thee, speak]</td>\n",
       "      <td>wind darkness summon thee speak</td>\n",
       "    </tr>\n",
       "    <tr>\n",
       "      <th>4</th>\n",
       "      <td>The Golden Age</td>\n",
       "      <td>Snow White and the Seven Dwarfs</td>\n",
       "      <td>grimhilde</td>\n",
       "      <td>Let me see thy face.</td>\n",
       "      <td>Female</td>\n",
       "      <td>Single</td>\n",
       "      <td>5</td>\n",
       "      <td>3</td>\n",
       "      <td>True</td>\n",
       "      <td>let me see thy face.</td>\n",
       "      <td>[let, see, thy, face]</td>\n",
       "      <td>let see thy face</td>\n",
       "    </tr>\n",
       "  </tbody>\n",
       "</table>\n",
       "</div>"
      ],
      "text/plain": [
       "              Era                            Movie  Character  \\\n",
       "0  The Golden Age  Snow White and the Seven Dwarfs   narrator   \n",
       "1  The Golden Age  Snow White and the Seven Dwarfs   narrator   \n",
       "2  The Golden Age  Snow White and the Seven Dwarfs  grimhilde   \n",
       "3  The Golden Age  Snow White and the Seven Dwarfs  grimhilde   \n",
       "4  The Golden Age  Snow White and the Seven Dwarfs  grimhilde   \n",
       "\n",
       "                                                Line  Gender   Group  Words_n  \\\n",
       "0  Once upon a time, there lived a lovely little ...    Male  Single       48   \n",
       "1  Each day, the vain Queen consulted her Magic M...    Male  Single       44   \n",
       "2  Slave in the Magic Mirror, come from the farth...  Female  Single       10   \n",
       "3   Through wind and darkness, I summon thee. Speak!  Female  Single        8   \n",
       "4                               Let me see thy face.  Female  Single        5   \n",
       "\n",
       "   dialouge_lenght  Dialouge  \\\n",
       "0                0     False   \n",
       "1                2      True   \n",
       "2                0     False   \n",
       "3                0     False   \n",
       "4                3      True   \n",
       "\n",
       "                                      Clean_Line_all  \\\n",
       "0  once upon a time, there lived a lovely little ...   \n",
       "1  each day, the vain queen consulted her magic m...   \n",
       "2  slave in the magic mirror, come from the farth...   \n",
       "3   through wind and darkness, i summon thee. speak!   \n",
       "4                               let me see thy face.   \n",
       "\n",
       "                                     Clean_Line_list  \\\n",
       "0  [upon, time, lived, lovely, little, named, vai...   \n",
       "1  [day, vain, consulted, magic, mirror, magic, m...   \n",
       "2            [slave, magic, mirror, farthest, space]   \n",
       "3              [wind, darkness, summon, thee, speak]   \n",
       "4                              [let, see, thy, face]   \n",
       "\n",
       "                                          Clean_Line  \n",
       "0  upon time lived lovely little named vain wicke...  \n",
       "1  day vain consulted magic mirror magic mirror w...  \n",
       "2                  slave magic mirror farthest space  \n",
       "3                    wind darkness summon thee speak  \n",
       "4                                   let see thy face  "
      ]
     },
     "execution_count": 427,
     "metadata": {},
     "output_type": "execute_result"
    }
   ],
   "source": [
    "# merge list of words back into sentences after cleaning \n",
    "all_lines = []\n",
    "for liste in all_scripts['Clean_Line_list']:\n",
    "    \n",
    "    # merge list back into sentences\n",
    "    liste = ' '.join(liste)\n",
    "    all_lines.append(liste)\n",
    "\n",
    "all_scripts['Clean_Line'] = all_lines\n",
    "all_scripts.head()"
   ]
  },
  {
   "cell_type": "markdown",
   "id": "4cfeb8b3",
   "metadata": {},
   "source": [
    "# Word Count"
   ]
  },
  {
   "cell_type": "code",
   "execution_count": 428,
   "id": "9c47706c",
   "metadata": {
    "ExecuteTime": {
     "end_time": "2022-04-25T08:13:39.135697Z",
     "start_time": "2022-04-25T08:13:38.875060Z"
    }
   },
   "outputs": [],
   "source": [
    "# save man and woman data\n",
    "all_scripts_m = all_scripts.loc[all_scripts['Gender'] == \"Male\"]\n",
    "all_scripts_f = all_scripts.loc[all_scripts['Gender'] == \"Female\"]"
   ]
  },
  {
   "cell_type": "code",
   "execution_count": 429,
   "id": "dc7cc33d",
   "metadata": {
    "ExecuteTime": {
     "end_time": "2022-04-25T08:13:39.566343Z",
     "start_time": "2022-04-25T08:13:39.411141Z"
    }
   },
   "outputs": [
    {
     "name": "stdout",
     "output_type": "stream",
     "text": [
      "Number of words: 12933\n",
      "Number of words (if word occurs min. 5 times): 3008\n"
     ]
    }
   ],
   "source": [
    "#word count for men characters\n",
    "word_cnt_m = {}\n",
    "for words in all_scripts_m[\"Clean_Line_list\"]:\n",
    "    for word in words:\n",
    "        if word not in word_cnt_m:\n",
    "            word_cnt_m[word] = 1\n",
    "        else:\n",
    "            word_cnt_m[word] += 1\n",
    "\n",
    "    \n",
    "word_cnt_df_m = pd.DataFrame({'word': [k for k in word_cnt_m.keys()], 'cnt': [v for v in word_cnt_m.values()]})\n",
    "word_cnt_df_m['pct'] = word_cnt_df_m['cnt'] /len(word_cnt_df_m)\n",
    "\n",
    "print(\"Number of words:\", len(word_cnt_df_m))\n",
    "print(\"Number of words (if word occurs min. 5 times):\", len(word_cnt_df_m.loc[word_cnt_df_m['cnt']>=5]))"
   ]
  },
  {
   "cell_type": "code",
   "execution_count": 430,
   "id": "023a6bb9",
   "metadata": {
    "ExecuteTime": {
     "end_time": "2022-04-25T08:13:49.914534Z",
     "start_time": "2022-04-25T08:13:49.826931Z"
    }
   },
   "outputs": [
    {
     "name": "stdout",
     "output_type": "stream",
     "text": [
      "Number of words: 7930\n",
      "Number of words (if word occurs min. 5 times): 1764\n"
     ]
    }
   ],
   "source": [
    "#word count for women characters\n",
    "word_cnt_f = {}\n",
    "for words in all_scripts_f[\"Clean_Line_list\"]:\n",
    "    for word in words:\n",
    "        if word not in word_cnt_f:\n",
    "            word_cnt_f[word] = 1\n",
    "        else:\n",
    "            word_cnt_f[word] += 1\n",
    "\n",
    "    \n",
    "word_cnt_df_f = pd.DataFrame({'word': [k for k in word_cnt_f.keys()], 'cnt': [v for v in word_cnt_f.values()]})\n",
    "word_cnt_df_f['pct'] = word_cnt_df_f['cnt'] /len(word_cnt_df_f)\n",
    "\n",
    "print(\"Number of words:\", len(word_cnt_df_f))\n",
    "print(\"Number of words (if word occurs min. 5 times):\", len(word_cnt_df_f.loc[word_cnt_df_f['cnt']>=5]))\n",
    "\n"
   ]
  },
  {
   "cell_type": "code",
   "execution_count": 431,
   "id": "018e4aec",
   "metadata": {
    "ExecuteTime": {
     "end_time": "2022-04-25T08:13:56.645423Z",
     "start_time": "2022-04-25T08:13:56.579563Z"
    }
   },
   "outputs": [
    {
     "data": {
      "text/html": [
       "<div>\n",
       "<style scoped>\n",
       "    .dataframe tbody tr th:only-of-type {\n",
       "        vertical-align: middle;\n",
       "    }\n",
       "\n",
       "    .dataframe tbody tr th {\n",
       "        vertical-align: top;\n",
       "    }\n",
       "\n",
       "    .dataframe thead th {\n",
       "        text-align: right;\n",
       "    }\n",
       "</style>\n",
       "<table border=\"1\" class=\"dataframe\">\n",
       "  <thead>\n",
       "    <tr style=\"text-align: right;\">\n",
       "      <th></th>\n",
       "      <th>cnt</th>\n",
       "    </tr>\n",
       "  </thead>\n",
       "  <tbody>\n",
       "    <tr>\n",
       "      <th>count</th>\n",
       "      <td>12933.000000</td>\n",
       "    </tr>\n",
       "    <tr>\n",
       "      <th>mean</th>\n",
       "      <td>9.127735</td>\n",
       "    </tr>\n",
       "    <tr>\n",
       "      <th>std</th>\n",
       "      <td>49.043728</td>\n",
       "    </tr>\n",
       "    <tr>\n",
       "      <th>min</th>\n",
       "      <td>1.000000</td>\n",
       "    </tr>\n",
       "    <tr>\n",
       "      <th>25%</th>\n",
       "      <td>1.000000</td>\n",
       "    </tr>\n",
       "    <tr>\n",
       "      <th>50%</th>\n",
       "      <td>1.000000</td>\n",
       "    </tr>\n",
       "    <tr>\n",
       "      <th>75%</th>\n",
       "      <td>4.000000</td>\n",
       "    </tr>\n",
       "    <tr>\n",
       "      <th>max</th>\n",
       "      <td>2173.000000</td>\n",
       "    </tr>\n",
       "  </tbody>\n",
       "</table>\n",
       "</div>"
      ],
      "text/plain": [
       "                cnt\n",
       "count  12933.000000\n",
       "mean       9.127735\n",
       "std       49.043728\n",
       "min        1.000000\n",
       "25%        1.000000\n",
       "50%        1.000000\n",
       "75%        4.000000\n",
       "max     2173.000000"
      ]
     },
     "execution_count": 431,
     "metadata": {},
     "output_type": "execute_result"
    }
   ],
   "source": [
    "# descriptive statistics for word count - men\n",
    "word_cnt_df_m[['cnt']].describe()"
   ]
  },
  {
   "cell_type": "code",
   "execution_count": 432,
   "id": "173708b5",
   "metadata": {
    "ExecuteTime": {
     "end_time": "2022-04-25T08:13:59.174818Z",
     "start_time": "2022-04-25T08:13:59.147578Z"
    }
   },
   "outputs": [
    {
     "data": {
      "text/html": [
       "<div>\n",
       "<style scoped>\n",
       "    .dataframe tbody tr th:only-of-type {\n",
       "        vertical-align: middle;\n",
       "    }\n",
       "\n",
       "    .dataframe tbody tr th {\n",
       "        vertical-align: top;\n",
       "    }\n",
       "\n",
       "    .dataframe thead th {\n",
       "        text-align: right;\n",
       "    }\n",
       "</style>\n",
       "<table border=\"1\" class=\"dataframe\">\n",
       "  <thead>\n",
       "    <tr style=\"text-align: right;\">\n",
       "      <th></th>\n",
       "      <th>cnt</th>\n",
       "    </tr>\n",
       "  </thead>\n",
       "  <tbody>\n",
       "    <tr>\n",
       "      <th>count</th>\n",
       "      <td>7930.000000</td>\n",
       "    </tr>\n",
       "    <tr>\n",
       "      <th>mean</th>\n",
       "      <td>7.105422</td>\n",
       "    </tr>\n",
       "    <tr>\n",
       "      <th>std</th>\n",
       "      <td>31.405203</td>\n",
       "    </tr>\n",
       "    <tr>\n",
       "      <th>min</th>\n",
       "      <td>1.000000</td>\n",
       "    </tr>\n",
       "    <tr>\n",
       "      <th>25%</th>\n",
       "      <td>1.000000</td>\n",
       "    </tr>\n",
       "    <tr>\n",
       "      <th>50%</th>\n",
       "      <td>1.000000</td>\n",
       "    </tr>\n",
       "    <tr>\n",
       "      <th>75%</th>\n",
       "      <td>4.000000</td>\n",
       "    </tr>\n",
       "    <tr>\n",
       "      <th>max</th>\n",
       "      <td>1438.000000</td>\n",
       "    </tr>\n",
       "  </tbody>\n",
       "</table>\n",
       "</div>"
      ],
      "text/plain": [
       "               cnt\n",
       "count  7930.000000\n",
       "mean      7.105422\n",
       "std      31.405203\n",
       "min       1.000000\n",
       "25%       1.000000\n",
       "50%       1.000000\n",
       "75%       4.000000\n",
       "max    1438.000000"
      ]
     },
     "execution_count": 432,
     "metadata": {},
     "output_type": "execute_result"
    }
   ],
   "source": [
    "# descriptive statistics for word count - women\n",
    "word_cnt_df_f[['cnt']].describe()"
   ]
  },
  {
   "cell_type": "markdown",
   "id": "8b08a0ec",
   "metadata": {},
   "source": [
    "## Top 40 words for male and female characters"
   ]
  },
  {
   "cell_type": "code",
   "execution_count": 397,
   "id": "96daf1dc",
   "metadata": {
    "ExecuteTime": {
     "end_time": "2022-04-18T09:05:56.694141Z",
     "start_time": "2022-04-18T09:05:56.659226Z"
    }
   },
   "outputs": [
    {
     "data": {
      "text/html": [
       "<div>\n",
       "<style scoped>\n",
       "    .dataframe tbody tr th:only-of-type {\n",
       "        vertical-align: middle;\n",
       "    }\n",
       "\n",
       "    .dataframe tbody tr th {\n",
       "        vertical-align: top;\n",
       "    }\n",
       "\n",
       "    .dataframe thead th {\n",
       "        text-align: right;\n",
       "    }\n",
       "</style>\n",
       "<table border=\"1\" class=\"dataframe\">\n",
       "  <thead>\n",
       "    <tr style=\"text-align: right;\">\n",
       "      <th></th>\n",
       "      <th>word</th>\n",
       "      <th>cnt</th>\n",
       "      <th>pct</th>\n",
       "      <th>uni</th>\n",
       "    </tr>\n",
       "  </thead>\n",
       "  <tbody>\n",
       "    <tr>\n",
       "      <th>110</th>\n",
       "      <td>get</td>\n",
       "      <td>665</td>\n",
       "      <td>0.084670</td>\n",
       "      <td>0</td>\n",
       "    </tr>\n",
       "    <tr>\n",
       "      <th>24</th>\n",
       "      <td>well</td>\n",
       "      <td>541</td>\n",
       "      <td>0.068882</td>\n",
       "      <td>0</td>\n",
       "    </tr>\n",
       "    <tr>\n",
       "      <th>14</th>\n",
       "      <td>one</td>\n",
       "      <td>468</td>\n",
       "      <td>0.059587</td>\n",
       "      <td>0</td>\n",
       "    </tr>\n",
       "    <tr>\n",
       "      <th>8</th>\n",
       "      <td>let</td>\n",
       "      <td>411</td>\n",
       "      <td>0.052330</td>\n",
       "      <td>1</td>\n",
       "    </tr>\n",
       "    <tr>\n",
       "      <th>54</th>\n",
       "      <td>back</td>\n",
       "      <td>391</td>\n",
       "      <td>0.049784</td>\n",
       "      <td>0</td>\n",
       "    </tr>\n",
       "    <tr>\n",
       "      <th>9</th>\n",
       "      <td>see</td>\n",
       "      <td>379</td>\n",
       "      <td>0.048256</td>\n",
       "      <td>0</td>\n",
       "    </tr>\n",
       "    <tr>\n",
       "      <th>191</th>\n",
       "      <td>yes</td>\n",
       "      <td>374</td>\n",
       "      <td>0.047619</td>\n",
       "      <td>0</td>\n",
       "    </tr>\n",
       "    <tr>\n",
       "      <th>104</th>\n",
       "      <td>good</td>\n",
       "      <td>313</td>\n",
       "      <td>0.039852</td>\n",
       "      <td>1</td>\n",
       "    </tr>\n",
       "    <tr>\n",
       "      <th>323</th>\n",
       "      <td>think</td>\n",
       "      <td>311</td>\n",
       "      <td>0.039598</td>\n",
       "      <td>0</td>\n",
       "    </tr>\n",
       "    <tr>\n",
       "      <th>138</th>\n",
       "      <td>little</td>\n",
       "      <td>307</td>\n",
       "      <td>0.039088</td>\n",
       "      <td>0</td>\n",
       "    </tr>\n",
       "    <tr>\n",
       "      <th>18</th>\n",
       "      <td>want</td>\n",
       "      <td>303</td>\n",
       "      <td>0.038579</td>\n",
       "      <td>0</td>\n",
       "    </tr>\n",
       "    <tr>\n",
       "      <th>112</th>\n",
       "      <td>going</td>\n",
       "      <td>297</td>\n",
       "      <td>0.037815</td>\n",
       "      <td>0</td>\n",
       "    </tr>\n",
       "    <tr>\n",
       "      <th>445</th>\n",
       "      <td>way</td>\n",
       "      <td>284</td>\n",
       "      <td>0.036160</td>\n",
       "      <td>0</td>\n",
       "    </tr>\n",
       "    <tr>\n",
       "      <th>154</th>\n",
       "      <td>never</td>\n",
       "      <td>283</td>\n",
       "      <td>0.036033</td>\n",
       "      <td>0</td>\n",
       "    </tr>\n",
       "    <tr>\n",
       "      <th>181</th>\n",
       "      <td>time</td>\n",
       "      <td>280</td>\n",
       "      <td>0.035651</td>\n",
       "      <td>1</td>\n",
       "    </tr>\n",
       "    <tr>\n",
       "      <th>583</th>\n",
       "      <td>gonna</td>\n",
       "      <td>276</td>\n",
       "      <td>0.035141</td>\n",
       "      <td>0</td>\n",
       "    </tr>\n",
       "    <tr>\n",
       "      <th>25</th>\n",
       "      <td>make</td>\n",
       "      <td>269</td>\n",
       "      <td>0.034250</td>\n",
       "      <td>0</td>\n",
       "    </tr>\n",
       "    <tr>\n",
       "      <th>157</th>\n",
       "      <td>would</td>\n",
       "      <td>269</td>\n",
       "      <td>0.034250</td>\n",
       "      <td>0</td>\n",
       "    </tr>\n",
       "    <tr>\n",
       "      <th>61</th>\n",
       "      <td>please</td>\n",
       "      <td>269</td>\n",
       "      <td>0.034250</td>\n",
       "      <td>1</td>\n",
       "    </tr>\n",
       "    <tr>\n",
       "      <th>588</th>\n",
       "      <td>yeah</td>\n",
       "      <td>264</td>\n",
       "      <td>0.033613</td>\n",
       "      <td>0</td>\n",
       "    </tr>\n",
       "    <tr>\n",
       "      <th>38</th>\n",
       "      <td>say</td>\n",
       "      <td>259</td>\n",
       "      <td>0.032977</td>\n",
       "      <td>0</td>\n",
       "    </tr>\n",
       "    <tr>\n",
       "      <th>31</th>\n",
       "      <td>love</td>\n",
       "      <td>259</td>\n",
       "      <td>0.032977</td>\n",
       "      <td>1</td>\n",
       "    </tr>\n",
       "    <tr>\n",
       "      <th>316</th>\n",
       "      <td>wait</td>\n",
       "      <td>256</td>\n",
       "      <td>0.032595</td>\n",
       "      <td>0</td>\n",
       "    </tr>\n",
       "    <tr>\n",
       "      <th>523</th>\n",
       "      <td>thing</td>\n",
       "      <td>249</td>\n",
       "      <td>0.031704</td>\n",
       "      <td>0</td>\n",
       "    </tr>\n",
       "    <tr>\n",
       "      <th>39</th>\n",
       "      <td>take</td>\n",
       "      <td>243</td>\n",
       "      <td>0.030940</td>\n",
       "      <td>0</td>\n",
       "    </tr>\n",
       "    <tr>\n",
       "      <th>114</th>\n",
       "      <td>need</td>\n",
       "      <td>241</td>\n",
       "      <td>0.030685</td>\n",
       "      <td>0</td>\n",
       "    </tr>\n",
       "    <tr>\n",
       "      <th>170</th>\n",
       "      <td>help</td>\n",
       "      <td>236</td>\n",
       "      <td>0.030048</td>\n",
       "      <td>0</td>\n",
       "    </tr>\n",
       "    <tr>\n",
       "      <th>122</th>\n",
       "      <td>could</td>\n",
       "      <td>216</td>\n",
       "      <td>0.027502</td>\n",
       "      <td>0</td>\n",
       "    </tr>\n",
       "    <tr>\n",
       "      <th>73</th>\n",
       "      <td>sorry</td>\n",
       "      <td>215</td>\n",
       "      <td>0.027375</td>\n",
       "      <td>0</td>\n",
       "    </tr>\n",
       "    <tr>\n",
       "      <th>360</th>\n",
       "      <td>something</td>\n",
       "      <td>212</td>\n",
       "      <td>0.026993</td>\n",
       "      <td>0</td>\n",
       "    </tr>\n",
       "    <tr>\n",
       "      <th>107</th>\n",
       "      <td>really</td>\n",
       "      <td>209</td>\n",
       "      <td>0.026611</td>\n",
       "      <td>0</td>\n",
       "    </tr>\n",
       "    <tr>\n",
       "      <th>32</th>\n",
       "      <td>find</td>\n",
       "      <td>207</td>\n",
       "      <td>0.026356</td>\n",
       "      <td>0</td>\n",
       "    </tr>\n",
       "    <tr>\n",
       "      <th>74</th>\n",
       "      <td>mean</td>\n",
       "      <td>204</td>\n",
       "      <td>0.025974</td>\n",
       "      <td>0</td>\n",
       "    </tr>\n",
       "    <tr>\n",
       "      <th>341</th>\n",
       "      <td>stop</td>\n",
       "      <td>198</td>\n",
       "      <td>0.025210</td>\n",
       "      <td>0</td>\n",
       "    </tr>\n",
       "    <tr>\n",
       "      <th>86</th>\n",
       "      <td>day</td>\n",
       "      <td>175</td>\n",
       "      <td>0.022282</td>\n",
       "      <td>0</td>\n",
       "    </tr>\n",
       "    <tr>\n",
       "      <th>768</th>\n",
       "      <td>thank</td>\n",
       "      <td>171</td>\n",
       "      <td>0.021772</td>\n",
       "      <td>1</td>\n",
       "    </tr>\n",
       "    <tr>\n",
       "      <th>391</th>\n",
       "      <td>tell</td>\n",
       "      <td>166</td>\n",
       "      <td>0.021136</td>\n",
       "      <td>0</td>\n",
       "    </tr>\n",
       "    <tr>\n",
       "      <th>177</th>\n",
       "      <td>dear</td>\n",
       "      <td>163</td>\n",
       "      <td>0.020754</td>\n",
       "      <td>1</td>\n",
       "    </tr>\n",
       "    <tr>\n",
       "      <th>70</th>\n",
       "      <td>away</td>\n",
       "      <td>156</td>\n",
       "      <td>0.019862</td>\n",
       "      <td>1</td>\n",
       "    </tr>\n",
       "    <tr>\n",
       "      <th>83</th>\n",
       "      <td>life</td>\n",
       "      <td>152</td>\n",
       "      <td>0.019353</td>\n",
       "      <td>1</td>\n",
       "    </tr>\n",
       "  </tbody>\n",
       "</table>\n",
       "</div>"
      ],
      "text/plain": [
       "          word  cnt       pct  uni\n",
       "110        get  665  0.084670    0\n",
       "24        well  541  0.068882    0\n",
       "14         one  468  0.059587    0\n",
       "8          let  411  0.052330    1\n",
       "54        back  391  0.049784    0\n",
       "9          see  379  0.048256    0\n",
       "191        yes  374  0.047619    0\n",
       "104       good  313  0.039852    1\n",
       "323      think  311  0.039598    0\n",
       "138     little  307  0.039088    0\n",
       "18        want  303  0.038579    0\n",
       "112      going  297  0.037815    0\n",
       "445        way  284  0.036160    0\n",
       "154      never  283  0.036033    0\n",
       "181       time  280  0.035651    1\n",
       "583      gonna  276  0.035141    0\n",
       "25        make  269  0.034250    0\n",
       "157      would  269  0.034250    0\n",
       "61      please  269  0.034250    1\n",
       "588       yeah  264  0.033613    0\n",
       "38         say  259  0.032977    0\n",
       "31        love  259  0.032977    1\n",
       "316       wait  256  0.032595    0\n",
       "523      thing  249  0.031704    0\n",
       "39        take  243  0.030940    0\n",
       "114       need  241  0.030685    0\n",
       "170       help  236  0.030048    0\n",
       "122      could  216  0.027502    0\n",
       "73       sorry  215  0.027375    0\n",
       "360  something  212  0.026993    0\n",
       "107     really  209  0.026611    0\n",
       "32        find  207  0.026356    0\n",
       "74        mean  204  0.025974    0\n",
       "341       stop  198  0.025210    0\n",
       "86         day  175  0.022282    0\n",
       "768      thank  171  0.021772    1\n",
       "391       tell  166  0.021136    0\n",
       "177       dear  163  0.020754    1\n",
       "70        away  156  0.019862    1\n",
       "83        life  152  0.019353    1"
      ]
     },
     "execution_count": 397,
     "metadata": {},
     "output_type": "execute_result"
    }
   ],
   "source": [
    "# top 40 \n",
    "female = word_cnt_df_f.sort_values(by='pct', ascending=False)[:40]\n",
    "male = word_cnt_df_m.sort_values(by='pct', ascending=False)[:40]\n",
    "\n",
    "# top words \n",
    "uni_words = ['good', 'please', 'love', 'thank', 'dear', 'away', 'life',\n",
    "            'old', 'guy', 'give', 'whoa', 'great', 'time', 'let'] "
   ]
  },
  {
   "cell_type": "code",
   "execution_count": 434,
   "id": "f13e50a8",
   "metadata": {
    "ExecuteTime": {
     "end_time": "2022-04-25T08:15:02.715380Z",
     "start_time": "2022-04-25T08:15:02.695113Z"
    }
   },
   "outputs": [
    {
     "data": {
      "text/html": [
       "<div>\n",
       "<style scoped>\n",
       "    .dataframe tbody tr th:only-of-type {\n",
       "        vertical-align: middle;\n",
       "    }\n",
       "\n",
       "    .dataframe tbody tr th {\n",
       "        vertical-align: top;\n",
       "    }\n",
       "\n",
       "    .dataframe thead th {\n",
       "        text-align: right;\n",
       "    }\n",
       "</style>\n",
       "<table border=\"1\" class=\"dataframe\">\n",
       "  <thead>\n",
       "    <tr style=\"text-align: right;\">\n",
       "      <th></th>\n",
       "      <th>word</th>\n",
       "      <th>cnt</th>\n",
       "      <th>pct</th>\n",
       "      <th>uni</th>\n",
       "    </tr>\n",
       "  </thead>\n",
       "  <tbody>\n",
       "    <tr>\n",
       "      <th>61</th>\n",
       "      <td>please</td>\n",
       "      <td>269</td>\n",
       "      <td>0.034250</td>\n",
       "      <td>1</td>\n",
       "    </tr>\n",
       "    <tr>\n",
       "      <th>31</th>\n",
       "      <td>love</td>\n",
       "      <td>259</td>\n",
       "      <td>0.032977</td>\n",
       "      <td>1</td>\n",
       "    </tr>\n",
       "    <tr>\n",
       "      <th>768</th>\n",
       "      <td>thank</td>\n",
       "      <td>171</td>\n",
       "      <td>0.021772</td>\n",
       "      <td>1</td>\n",
       "    </tr>\n",
       "    <tr>\n",
       "      <th>177</th>\n",
       "      <td>dear</td>\n",
       "      <td>163</td>\n",
       "      <td>0.020754</td>\n",
       "      <td>1</td>\n",
       "    </tr>\n",
       "    <tr>\n",
       "      <th>70</th>\n",
       "      <td>away</td>\n",
       "      <td>156</td>\n",
       "      <td>0.019862</td>\n",
       "      <td>1</td>\n",
       "    </tr>\n",
       "    <tr>\n",
       "      <th>83</th>\n",
       "      <td>life</td>\n",
       "      <td>152</td>\n",
       "      <td>0.019353</td>\n",
       "      <td>1</td>\n",
       "    </tr>\n",
       "  </tbody>\n",
       "</table>\n",
       "</div>"
      ],
      "text/plain": [
       "       word  cnt       pct  uni\n",
       "61   please  269  0.034250    1\n",
       "31     love  259  0.032977    1\n",
       "768   thank  171  0.021772    1\n",
       "177    dear  163  0.020754    1\n",
       "70     away  156  0.019862    1\n",
       "83     life  152  0.019353    1"
      ]
     },
     "execution_count": 434,
     "metadata": {},
     "output_type": "execute_result"
    }
   ],
   "source": [
    "female[female['word'].isin(uni_words)]"
   ]
  },
  {
   "cell_type": "code",
   "execution_count": 406,
   "id": "aad959ca",
   "metadata": {
    "ExecuteTime": {
     "end_time": "2022-04-18T09:19:40.739360Z",
     "start_time": "2022-04-18T09:19:38.493698Z"
    }
   },
   "outputs": [
    {
     "data": {
      "image/png": "[encoded data removed]",
      "text/plain": [
       "<Figure size 1080x720 with 2 Axes>"
      ]
     },
     "metadata": {
      "needs_background": "light"
     },
     "output_type": "display_data"
    }
   ],
   "source": [
    "# top 40 \n",
    "female = word_cnt_df_f.sort_values(by='pct', ascending=False)[:40]\n",
    "male = word_cnt_df_m.sort_values(by='pct', ascending=False)[:40]\n",
    "\n",
    "# top words \n",
    "uni_words = ['please', 'love', 'thank', 'dear', 'away', 'life',\n",
    "            'old', 'guy', 'give', 'whoa', 'great', 'gotta'] \n",
    "\n",
    "female['uni'] = np.where(female[\"word\"].isin(uni_words), 1, 0)\n",
    "male['uni'] = np.where(male[\"word\"].isin(uni_words), 1, 0)\n",
    "\n",
    "\n",
    "colours = {1: \"mediumpurple\", 0: \"midnightblue\"}\n",
    "colours_2 = {1: \"cornflowerblue\", 0: \"midnightblue\"}\n",
    "\n",
    "fig, (ax1, ax2) = plt.subplots(1, 2, figsize=(15,10))\n",
    "fig.suptitle('Top Words across All Movies')\n",
    "\n",
    "ax1.barh(male['word'],male['pct'], color = male['uni'].replace(colours_2))\n",
    "ax1.invert_yaxis()\n",
    "ax1.set_xlabel('Word Frequency')\n",
    "ax1.set_title('Men')\n",
    "\n",
    "ax2.barh(female['word'],female['pct'], color = female['uni'].replace(colours))\n",
    "ax2.invert_yaxis()  # labels read top-to-bottom'\n",
    "ax2.set_xlabel('Word Frequency')\n",
    "ax2.set_title('Women')\n",
    "#ax.barh(y_pos, performance, xerr=error, align='center')\n",
    "\n",
    "plt.savefig('most_used_words.png')\n",
    "plt.show()\n",
    "\n",
    "\n"
   ]
  },
  {
   "cell_type": "markdown",
   "id": "aefa4ded",
   "metadata": {},
   "source": [
    "# Word co-occurrence networks for most speaking male and female character"
   ]
  },
  {
   "cell_type": "code",
   "execution_count": 435,
   "id": "9397997c",
   "metadata": {
    "ExecuteTime": {
     "end_time": "2022-04-25T08:16:23.814142Z",
     "start_time": "2022-04-25T08:16:23.448401Z"
    }
   },
   "outputs": [],
   "source": [
    "# find characters using the largest share of words \n",
    "top_words = all_scripts.groupby([\"Movie\", \"Gender\", \"Character\"])\\\n",
    ".agg({\"Words_n\" : \"sum\"})\\\n",
    ".groupby(level=0).apply(lambda x: 100*x/x.sum())\\\n",
    ".sort_values(by=[\"Movie\", \"Gender\", \"Words_n\"], ascending=[True, True, False]).reset_index()\n",
    "\n",
    "# find the most speaking female and male character \n",
    "top_words_f = top_words.loc[top_words['Gender'] == \"Female\"].groupby('Movie').head(1)\n",
    "top_words_m = top_words.loc[top_words['Gender'] == \"Male\"].groupby('Movie').head(1)\n",
    "#top_words_f = top_words_f.rename(columns={'Gender': 'F_most_words', 'Character': 'F_Character', 'Line': 'F_Most_words_sum'})\n",
    "#top_words_m = top_words_m.rename(columns={'Gender': 'M_most_words', 'Character': 'M_Character', 'Line': 'M_Most_words_sum'})"
   ]
  },
  {
   "cell_type": "code",
   "execution_count": 436,
   "id": "e4f8eb9c",
   "metadata": {
    "ExecuteTime": {
     "end_time": "2022-04-25T08:16:30.609026Z",
     "start_time": "2022-04-25T08:16:30.596664Z"
    }
   },
   "outputs": [],
   "source": [
    "all_scripts = all_scripts.reset_index(drop=True)"
   ]
  },
  {
   "cell_type": "code",
   "execution_count": 437,
   "id": "b426f87b",
   "metadata": {
    "ExecuteTime": {
     "end_time": "2022-04-25T08:16:31.130993Z",
     "start_time": "2022-04-25T08:16:31.113485Z"
    }
   },
   "outputs": [],
   "source": [
    "# take top words for both men and women\n",
    "tops = top_words_m.append(top_words_f, ignore_index=True)\n",
    "tops = tops.rename(columns={'Words_n': 'Words_pct'})\n"
   ]
  },
  {
   "cell_type": "code",
   "execution_count": 442,
   "id": "103e6424",
   "metadata": {
    "ExecuteTime": {
     "end_time": "2022-04-25T08:25:21.109440Z",
     "start_time": "2022-04-25T08:25:21.098561Z"
    }
   },
   "outputs": [],
   "source": [
    "tops['Most_speaking_char'] = 1"
   ]
  },
  {
   "cell_type": "code",
   "execution_count": 464,
   "id": "d2808b09",
   "metadata": {
    "ExecuteTime": {
     "end_time": "2022-04-25T08:46:02.743015Z",
     "start_time": "2022-04-25T08:46:02.700149Z"
    }
   },
   "outputs": [],
   "source": [
    "main_char_lines =  pd.merge(all_scripts, tops, on=['Movie', 'Character', 'Gender'])"
   ]
  },
  {
   "cell_type": "code",
   "execution_count": 465,
   "id": "9ff80da1",
   "metadata": {
    "ExecuteTime": {
     "end_time": "2022-04-25T08:46:03.170418Z",
     "start_time": "2022-04-25T08:46:03.143555Z"
    }
   },
   "outputs": [],
   "source": [
    "# creating a male and female dataset for most speaking characters \n",
    "main_char_lines_m = main_char_lines.loc[main_char_lines['Gender'] == \"Male\"]\n",
    "main_char_lines_f = main_char_lines.loc[main_char_lines['Gender'] == \"Female\"]"
   ]
  },
  {
   "cell_type": "code",
   "execution_count": 446,
   "id": "b2a070ac",
   "metadata": {
    "ExecuteTime": {
     "end_time": "2022-04-25T08:26:04.961452Z",
     "start_time": "2022-04-25T08:26:04.868231Z"
    }
   },
   "outputs": [
    {
     "name": "stdout",
     "output_type": "stream",
     "text": [
      "Number of words: 6443\n",
      "Number of words: 672\n",
      "Number of words: 4870\n",
      "Number of words: 519\n"
     ]
    }
   ],
   "source": [
    "# word count \n",
    "\n",
    "word_cnt_m = {}\n",
    "for words in main_char_lines_m['Clean_Line_list']:\n",
    "    for word in words:\n",
    "        if word not in word_cnt_m:\n",
    "            word_cnt_m[word] = 1\n",
    "        else:\n",
    "            word_cnt_m[word] += 1\n",
    "    \n",
    "word_cnt_df_m = pd.DataFrame({'word': [k for k in word_cnt_m.keys()], 'cnt': [v for v in word_cnt_m.values()]})\n",
    "print(\"Number of words:\", len(word_cnt_df_m))\n",
    "word_cnt_df_m = word_cnt_df_m.loc[word_cnt_df_m['cnt']>=10]\n",
    "print(\"Number of words:\", len(word_cnt_df_m))\n",
    "\n",
    "word_cnt_f = {}\n",
    "for words in main_char_lines_f['Clean_Line_list']:\n",
    "    for word in words:\n",
    "        if word not in word_cnt_f:\n",
    "            word_cnt_f[word] = 1\n",
    "        else:\n",
    "            word_cnt_f[word] += 1\n",
    "    \n",
    "word_cnt_df_f = pd.DataFrame({'word': [k for k in word_cnt_f.keys()], 'cnt': [v for v in word_cnt_f.values()]})\n",
    "print(\"Number of words:\", len(word_cnt_df_f))\n",
    "word_cnt_df_f = word_cnt_df_f.loc[word_cnt_df_f['cnt']>=10]\n",
    "print(\"Number of words:\", len(word_cnt_df_f))"
   ]
  },
  {
   "cell_type": "code",
   "execution_count": 447,
   "id": "31ea92e3",
   "metadata": {
    "ExecuteTime": {
     "end_time": "2022-04-25T08:26:14.312187Z",
     "start_time": "2022-04-25T08:26:07.609462Z"
    }
   },
   "outputs": [
    {
     "name": "stderr",
     "output_type": "stream",
     "text": [
      "<ipython-input-447-0ba0f4c29c04>:10: SettingWithCopyWarning: \n",
      "A value is trying to be set on a copy of a slice from a DataFrame.\n",
      "Try using .loc[row_indexer,col_indexer] = value instead\n",
      "\n",
      "See the caveats in the documentation: https://pandas.pydata.org/pandas-docs/stable/user_guide/indexing.html#returning-a-view-versus-a-copy\n",
      "  main_char_lines_f['Freq_words'] = freq_words\n",
      "<ipython-input-447-0ba0f4c29c04>:21: SettingWithCopyWarning: \n",
      "A value is trying to be set on a copy of a slice from a DataFrame.\n",
      "Try using .loc[row_indexer,col_indexer] = value instead\n",
      "\n",
      "See the caveats in the documentation: https://pandas.pydata.org/pandas-docs/stable/user_guide/indexing.html#returning-a-view-versus-a-copy\n",
      "  main_char_lines_m['Freq_words'] = freq_words\n"
     ]
    }
   ],
   "source": [
    "freq_words = []\n",
    "for words in main_char_lines_f['Clean_Line_list']:\n",
    "    words_line = []\n",
    "    for word in words:\n",
    "        if word in list(word_cnt_df_f['word']):\n",
    "            words_line.append(word)\n",
    "    words_line = ' '.join(words_line)\n",
    "    freq_words.append(words_line)\n",
    "\n",
    "main_char_lines_f['Freq_words'] = freq_words\n",
    "\n",
    "freq_words = []\n",
    "for words in main_char_lines_m['Clean_Line_list']:\n",
    "    words_line = []\n",
    "    for word in words:\n",
    "        if word in list(word_cnt_df_m['word']):\n",
    "            words_line.append(word)\n",
    "    words_line = ' '.join(words_line)\n",
    "    freq_words.append(words_line)\n",
    "\n",
    "main_char_lines_m['Freq_words'] = freq_words\n"
   ]
  },
  {
   "cell_type": "code",
   "execution_count": 324,
   "id": "b15d8177",
   "metadata": {
    "ExecuteTime": {
     "end_time": "2022-04-15T19:23:50.363378Z",
     "start_time": "2022-04-15T19:23:49.547951Z"
    }
   },
   "outputs": [],
   "source": [
    "# sklearn countvectorizer\n",
    "from sklearn.feature_extraction.text import CountVectorizer\n",
    "# Convert a collection of text documents to a matrix of token counts\n",
    "cv = CountVectorizer(ngram_range=(1,1), stop_words = 'english')\n",
    "# matrix of token counts\n",
    "X = cv.fit_transform(main_char_lines_m['Freq_words'])\n",
    "Xc = (X.T * X) # matrix manipulation\n",
    "Xc.setdiag(0) # set the diagonals to be zeroes as it's pointless to be 1\n",
    "\n",
    "names = cv.get_feature_names() # This are the entity names (i.e. keywords)\n",
    "df_m = pd.DataFrame(data = Xc.toarray(), columns = names, index = names)\n",
    "\n",
    "cols = list(df_m.columns)\n",
    "df_m[cols] = df_m[cols].replace({'1':0, 1:0})\n",
    "df_m[cols] = df_m[cols].replace({'2':0, 2:0})\n",
    "df_m[cols] = df_m[cols].replace({'3':0, 3:0})\n",
    "\n",
    "\n",
    "df_m.to_csv('to_gephi_co-occ_male.csv', sep = ',')\n",
    "\n",
    "\n",
    "# sklearn countvectorizer\n",
    "from sklearn.feature_extraction.text import CountVectorizer\n",
    "# Convert a collection of text documents to a matrix of token counts\n",
    "cv = CountVectorizer(ngram_range=(1,1), stop_words = 'english')\n",
    "# matrix of token counts\n",
    "X = cv.fit_transform(main_char_lines_f['Freq_words'])\n",
    "Xc = (X.T * X) # matrix manipulation\n",
    "Xc.setdiag(0) # set the diagonals to be zeroes as it's pointless to be 1\n",
    "\n",
    "names = cv.get_feature_names() # This are the entity names (i.e. keywords)\n",
    "df_f = pd.DataFrame(data = Xc.toarray(), columns = names, index = names)\n",
    "\n",
    "cols = list(df_f.columns)\n",
    "df_f[cols] = df_f[cols].replace({'1':0, 1:0})\n",
    "df_f[cols] = df_f[cols].replace({'2':0, 2:0})\n",
    "df_f[cols] = df_f[cols].replace({'3':0, 3:0})\n",
    "\n",
    "df_f.to_csv('to_gephi_co-occ_female.csv', sep = ',')\n"
   ]
  },
  {
   "cell_type": "code",
   "execution_count": null,
   "id": "b92f4082",
   "metadata": {},
   "outputs": [],
   "source": [
    "# to gephi\n",
    "# https://medium.com/@615162020027/centrality-and-community-detection-in-macaque-rhesus-brain-networks-with-gephi-0-9-2-ed62cb4d0cf8"
   ]
  },
  {
   "cell_type": "markdown",
   "id": "9ac9e67f",
   "metadata": {},
   "source": [
    "# Word Co-occurrence across Eras for Leading Characters (men and women)"
   ]
  },
  {
   "cell_type": "markdown",
   "id": "cd32316b",
   "metadata": {},
   "source": [
    "We perform word co-occurrences across eras too"
   ]
  },
  {
   "cell_type": "code",
   "execution_count": 476,
   "id": "4f16ffd9",
   "metadata": {
    "ExecuteTime": {
     "end_time": "2022-04-25T08:52:44.018681Z",
     "start_time": "2022-04-25T08:52:44.012547Z"
    }
   },
   "outputs": [],
   "source": [
    "def word_cnt(word_list, min_words=5): \n",
    "    # give dataframe column with list of words, minimum times word shall be occuring\n",
    "    \n",
    "    word_cnt = {}\n",
    "    for words in word_list:\n",
    "        for word in words:\n",
    "            if word not in word_cnt:\n",
    "                word_cnt[word] = 1\n",
    "            else:\n",
    "                word_cnt[word] += 1\n",
    "        \n",
    "    word_cnt_df = pd.DataFrame({'word': [k for k in word_cnt.keys()], 'cnt': [v for v in word_cnt.values()]})\n",
    "    print(\"Number of words:\", len(word_cnt_df))\n",
    "    word_cnt_df = word_cnt_df.loc[word_cnt_df['cnt']>= min_words]\n",
    "    print(\"Number of words if occuring 5 times or more:\", len(word_cnt_df))\n",
    "    return(word_cnt_df)"
   ]
  },
  {
   "cell_type": "code",
   "execution_count": 468,
   "id": "1dd6c449",
   "metadata": {
    "ExecuteTime": {
     "end_time": "2022-04-25T08:46:22.869656Z",
     "start_time": "2022-04-25T08:46:22.862383Z"
    }
   },
   "outputs": [],
   "source": [
    "def freq_word(word_list, frequent_words): # word_cnt_df_f['word']\n",
    "    \n",
    "    freq_words = []\n",
    "    for words in word_list:\n",
    "        words_line = []\n",
    "        for word in words:\n",
    "            if word in list(frequent_words):\n",
    "                words_line.append(word)\n",
    "        words_line = ' '.join(words_line)\n",
    "        freq_words.append(words_line)\n",
    "    return(freq_words)\n",
    "\n",
    "#main_char_lines_f['Freq_words'] = freq_words"
   ]
  },
  {
   "cell_type": "code",
   "execution_count": 469,
   "id": "c07d77a6",
   "metadata": {
    "ExecuteTime": {
     "end_time": "2022-04-25T08:46:23.385860Z",
     "start_time": "2022-04-25T08:46:23.372009Z"
    }
   },
   "outputs": [],
   "source": [
    "# sklearn countvectorizer\n",
    "from sklearn.feature_extraction.text import CountVectorizer\n",
    "\n",
    "def to_gephi(words, name): #main_char_lines['Freq_words'], golden_age_female\n",
    "    cv = CountVectorizer(ngram_range=(1,1), stop_words = 'english')\n",
    "    # matrix of token counts\n",
    "    X = cv.fit_transform(words)\n",
    "    Xc = (X.T * X) # matrix manipulation\n",
    "    Xc.setdiag(0) # set the diagonals to be zeroes as it's pointless to be 1\n",
    "    \n",
    "    names = cv.get_feature_names() # This are the entity names (i.e. keywords)\n",
    "    df = pd.DataFrame(data = Xc.toarray(), columns = names, index = names)\n",
    "    \n",
    "    cols = list(df.columns)\n",
    "    df[cols] = df[cols].replace({'1':0, 1:0})\n",
    "    df[cols] = df[cols].replace({'2':0, 2:0})\n",
    "    df[cols] = df[cols].replace({'3':0, 3:0})\n",
    "    \n",
    "    filename = name + '_to_gephi_co-occurrance.csv'\n",
    "    df.to_csv(filename, sep = ',')\n",
    "    \n",
    "    "
   ]
  },
  {
   "cell_type": "code",
   "execution_count": 488,
   "id": "061b80fc",
   "metadata": {
    "ExecuteTime": {
     "end_time": "2022-04-25T08:58:52.316402Z",
     "start_time": "2022-04-25T08:58:50.312869Z"
    }
   },
   "outputs": [
    {
     "name": "stdout",
     "output_type": "stream",
     "text": [
      "Number of words: 1183\n",
      "Number of words if occuring 5 times or more: 171\n",
      "Number of words: 1042\n",
      "Number of words if occuring 5 times or more: 122\n",
      "Number of words: 1339\n",
      "Number of words if occuring 5 times or more: 145\n",
      "Number of words: 1795\n",
      "Number of words if occuring 5 times or more: 258\n",
      "Number of words: 2241\n",
      "Number of words if occuring 5 times or more: 449\n",
      "Number of words: 1034\n",
      "Number of words if occuring 5 times or more: 135\n"
     ]
    }
   ],
   "source": [
    "# SET WD\n",
    "os.chdir('/Users/Sofie/Disney Thesis/Word_Co_Occurence_NW')\n",
    "\n",
    "eras = all_scripts['Era'].unique()\n",
    "#eras = \"The Bronze Age\"\n",
    "# print female networks\n",
    "for era in eras:\n",
    "    data = main_char_lines_f.loc[main_char_lines_f['Era'] == era].reset_index(drop=True)\n",
    "    word_cnt_df = word_cnt(data['Clean_Line_list'], 5)\n",
    "    word_cnt_df = word_cnt_df.reset_index(drop=True)\n",
    "    data['Freq_words'] = freq_word(data['Clean_Line_list'], word_cnt_df['word'])\n",
    "    name = \"female_\" + era\n",
    "    to_gephi(data['Freq_words'], name)\n",
    "    "
   ]
  },
  {
   "cell_type": "code",
   "execution_count": 490,
   "id": "4488d1d2",
   "metadata": {
    "ExecuteTime": {
     "end_time": "2022-04-25T08:59:29.907741Z",
     "start_time": "2022-04-25T08:59:27.094824Z"
    }
   },
   "outputs": [
    {
     "name": "stdout",
     "output_type": "stream",
     "text": [
      "Number of words: 1603\n",
      "Number of words if occuring 5 times or more: 238\n",
      "Number of words: 1628\n",
      "Number of words if occuring 5 times or more: 190\n",
      "Number of words: 2126\n",
      "Number of words if occuring 5 times or more: 303\n",
      "Number of words: 2763\n",
      "Number of words if occuring 5 times or more: 412\n",
      "Number of words: 2485\n",
      "Number of words if occuring 5 times or more: 450\n",
      "Number of words: 931\n",
      "Number of words if occuring 5 times or more: 132\n"
     ]
    }
   ],
   "source": [
    "for era in eras:\n",
    "    data = main_char_lines_m.loc[main_char_lines_m['Era'] == era].reset_index(drop=True)\n",
    "    word_cnt_df = word_cnt(data['Clean_Line_list'], 5)\n",
    "    word_cnt_df = word_cnt_df.reset_index(drop=True)\n",
    "    data['Freq_words'] = freq_word(data['Clean_Line_list'], word_cnt_df['word'])\n",
    "    name = \"male_\" + era\n",
    "    to_gephi(data['Freq_words'], name)"
   ]
  }
 ],
 "metadata": {
  "kernelspec": {
   "display_name": "Python 3",
   "language": "python",
   "name": "python3"
  },
  "language_info": {
   "codemirror_mode": {
    "name": "ipython",
    "version": 3
   },
   "file_extension": ".py",
   "mimetype": "text/x-python",
   "name": "python",
   "nbconvert_exporter": "python",
   "pygments_lexer": "ipython3",
   "version": "3.8.8"
  },
  "toc": {
   "nav_menu": {},
   "number_sections": true,
   "sideBar": true,
   "skip_h1_title": false,
   "title_cell": "Table of Contents",
   "title_sidebar": "Contents",
   "toc_cell": false,
   "toc_position": {},
   "toc_section_display": true,
   "toc_window_display": false
  }
 },
 "nbformat": 4,
 "nbformat_minor": 5
}
