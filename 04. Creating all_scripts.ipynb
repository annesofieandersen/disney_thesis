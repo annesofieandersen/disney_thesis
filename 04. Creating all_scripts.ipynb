{
 "cells": [
  {
   "cell_type": "markdown",
   "id": "cf09925a",
   "metadata": {},
   "source": [
    "# Prepare analysis"
   ]
  },
  {
   "cell_type": "code",
   "execution_count": 64,
   "id": "fd846c9f",
   "metadata": {
    "ExecuteTime": {
     "end_time": "2022-05-18T18:14:33.315093Z",
     "start_time": "2022-05-18T18:14:33.139393Z"
    }
   },
   "outputs": [],
   "source": [
    "#Import libaries \n",
    "import pandas as pd\n",
    "from itertools import repeat\n",
    "import re\n",
    "import numpy as np \n",
    "import os\n",
    "import matplotlib.pyplot as plt\n",
    "import seaborn as sns\n",
    "from statsmodels.stats.weightstats import ztest as ztest\n",
    "# set directoru \n",
    "#os.getcwd()\n",
    "os.chdir('/Users/Sofie/Disney Thesis')\n",
    "\n",
    "# import clean scripts\n",
    "data = pd.read_pickle(\"scripts_clean_final_22mar.pickle\")"
   ]
  },
  {
   "cell_type": "code",
   "execution_count": 65,
   "id": "e231b6d7",
   "metadata": {
    "ExecuteTime": {
     "end_time": "2022-05-18T18:14:33.846210Z",
     "start_time": "2022-05-18T18:14:33.831602Z"
    }
   },
   "outputs": [],
   "source": [
    "# we found out how there were mistakes in the disney corpus \n",
    "data.drop(data[data.Movie == \"Fun and Fancy Free\"].index, inplace=True)\n",
    "data = data.reset_index(drop = True)"
   ]
  },
  {
   "cell_type": "code",
   "execution_count": 66,
   "id": "34e935d4",
   "metadata": {
    "ExecuteTime": {
     "end_time": "2022-05-18T18:14:34.240552Z",
     "start_time": "2022-05-18T18:14:34.220753Z"
    }
   },
   "outputs": [],
   "source": [
    "# diving the movies into 6 eras\n",
    "eras = []\n",
    "for index, row in data.iterrows():\n",
    "    if row['Year'] < 1968:\n",
    "        era = \"The Golden Age\"\n",
    "    elif row['Year'] >= 1970 and row['Year'] <= 1988:\n",
    "        era = \"The Bronze Age\"\n",
    "    elif row['Year'] >= 1989 and row['Year'] <= 1999:\n",
    "        era = \"The Disney Renaissance\"\n",
    "    elif row['Year'] >= 2000 and row['Year'] <= 2009:\n",
    "        era = \"Post Renaissance Era\"\n",
    "    elif row['Year'] >= 2010 and row['Year'] <= 2019:\n",
    "        era = \"The Revival Era\"\n",
    "    else:\n",
    "        era = \"Present period\"\n",
    "    eras.append(era)\n",
    "\n",
    "data['Era'] = eras"
   ]
  },
  {
   "cell_type": "code",
   "execution_count": 67,
   "id": "a5cbeacf",
   "metadata": {
    "ExecuteTime": {
     "end_time": "2022-05-18T18:14:34.698580Z",
     "start_time": "2022-05-18T18:14:34.663186Z"
    }
   },
   "outputs": [],
   "source": [
    "# Adding if the gender of the main character \n",
    "male = ['Bambi','Pinocchio','Fun and Fancy Free','Peter Pan','One Hundred and One Dalmatians','The Jungle Book',\n",
    "       'The Aristocats','Robin Hood','The Fox and the Hound','The Black Cauldron','The Great Mouse Detective',\n",
    "       'Oliver & Company','Aladdin','The Lion King','Toy Story','The Hunchback of Notre Dame','Hercules',\n",
    "       \"A Bug's life\",'Toy Story 2','The Emperors New Groove','Atlantis','Monsters, Inc.','Finding Nemo',\n",
    "       'Brother Bear','Cars','Ratatouille','Bolt','Up','Toy Story 3','Wreck-It Ralph','Monsters University',\n",
    "       'The Good Dinosaur','Coco','Cars 3','Toy Story 4','Onwards','Luca','Dumbo']\n",
    "female = ['Snow White and the Seven Dwarfs','Cinderella','Alice in Wonderland','Sleeping Beauty','The Little Mermaid',\n",
    "         'Pocahontas','Mulan','Home on the Range','The Princess and the Frog','Tangled','Brave','Frozen',\n",
    "          'Inside Out','Moana','Finding Dory','Frozen 2','Encanto','Raya and the Last Dragon']\n",
    "both = ['Lady and the Tramp',\n",
    "        'The Rescuers',\n",
    "        'The Rescuers Down Under',\n",
    "        'Lilo & Stitch',\n",
    "        'The Incredibles',\n",
    "        'Zootopia',\n",
    "        'Incredibles 2'] \n",
    "\n",
    "data.loc[data['Movie'].isin(male), 'Gender_main_character'] = 'Male'\n",
    "data.loc[data['Movie'].isin(female), 'Gender_main_character'] = 'Female'\n",
    "data.loc[data['Movie'].isin(both), 'Gender_main_character'] = 'Both genders'\n"
   ]
  },
  {
   "cell_type": "code",
   "execution_count": 68,
   "id": "3b28cef7",
   "metadata": {
    "ExecuteTime": {
     "end_time": "2022-05-18T18:14:35.110465Z",
     "start_time": "2022-05-18T18:14:35.096479Z"
    }
   },
   "outputs": [],
   "source": [
    "# save data \n"
   ]
  },
  {
   "cell_type": "code",
   "execution_count": 69,
   "id": "3fdd7185",
   "metadata": {
    "ExecuteTime": {
     "end_time": "2022-05-18T18:14:42.331215Z",
     "start_time": "2022-05-18T18:14:35.699465Z"
    }
   },
   "outputs": [],
   "source": [
    "# merge all scripts into one dataframe \n",
    "all_scripts = pd.DataFrame()\n",
    "\n",
    "character = []\n",
    "line = []\n",
    "gender = []\n",
    "group = []\n",
    "word_count = []\n",
    "movie = []\n",
    "era = []\n",
    "\n",
    "for index, row in data.iterrows():\n",
    "    for _, r1 in row['Clean_Script'].iterrows():\n",
    "        character.append(r1['Character_lower'])\n",
    "        line.append(r1['Line'])\n",
    "        gender.append(r1['Gender_updated'])\n",
    "        group.append(r1['Group'])\n",
    "        word_count.append(len(r1['Line'].split()))\n",
    "        movie.append(row['Movie'])\n",
    "        era.append(row['Era'])\n",
    "        \n",
    "all_scripts['Era'] = era\n",
    "all_scripts['Movie'] = movie\n",
    "all_scripts['Character'] = character\n",
    "all_scripts['Line'] = line\n",
    "all_scripts['Gender'] = gender\n",
    "all_scripts['Group'] = group\n",
    "all_scripts['Words_n'] = word_count"
   ]
  },
  {
   "cell_type": "code",
   "execution_count": 70,
   "id": "836ac1db",
   "metadata": {
    "ExecuteTime": {
     "end_time": "2022-05-18T18:14:42.528971Z",
     "start_time": "2022-05-18T18:14:42.334940Z"
    }
   },
   "outputs": [],
   "source": [
    "# save all_scripts \n",
    "all_scripts.to_pickle(\"all_scripts_cleaned_total_27apr.pickle\")\n",
    "data.to_pickle(\"scripts_clean_final_27apr.pickle\")\n",
    "\n",
    "#all_scripts_cleaned_total.pickle"
   ]
  }
 ],
 "metadata": {
  "kernelspec": {
   "display_name": "Python 3",
   "language": "python",
   "name": "python3"
  },
  "language_info": {
   "codemirror_mode": {
    "name": "ipython",
    "version": 3
   },
   "file_extension": ".py",
   "mimetype": "text/x-python",
   "name": "python",
   "nbconvert_exporter": "python",
   "pygments_lexer": "ipython3",
   "version": "3.8.8"
  },
  "toc": {
   "nav_menu": {},
   "number_sections": true,
   "sideBar": true,
   "skip_h1_title": false,
   "title_cell": "Table of Contents",
   "title_sidebar": "Contents",
   "toc_cell": false,
   "toc_position": {},
   "toc_section_display": true,
   "toc_window_display": false
  }
 },
 "nbformat": 4,
 "nbformat_minor": 5
}
