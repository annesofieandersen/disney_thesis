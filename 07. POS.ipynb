{
 "cells": [
  {
   "cell_type": "markdown",
   "id": "7de6ffa6",
   "metadata": {},
   "source": [
    "# Part of Speech Tagging"
   ]
  },
  {
   "cell_type": "code",
   "execution_count": 1,
   "id": "4bb0b9c3",
   "metadata": {
    "ExecuteTime": {
     "end_time": "2022-05-02T11:07:05.247091Z",
     "start_time": "2022-05-02T11:06:27.644578Z"
    }
   },
   "outputs": [],
   "source": [
    "#Import packages\n",
    "import spacy\n",
    "import pandas as pd\n",
    "import re\n",
    "import os\n",
    "import nltk\n",
    "from collections import Counter\n",
    "import networkx as nx\n",
    "import matplotlib.pyplot as plt\n",
    "import altair as alt\n",
    "import numpy as np\n",
    "import statsmodels.api as sm"
   ]
  },
  {
   "cell_type": "code",
   "execution_count": 2,
   "id": "2a909672",
   "metadata": {
    "ExecuteTime": {
     "end_time": "2022-05-02T11:07:06.447938Z",
     "start_time": "2022-05-02T11:07:05.311007Z"
    }
   },
   "outputs": [
    {
     "name": "stderr",
     "output_type": "stream",
     "text": [
      "/opt/anaconda3/lib/python3.8/site-packages/spacy/util.py:833: UserWarning: [W095] Model 'en_core_web_sm' (3.0.0) was trained with spaCy v3.0 and may not be 100% compatible with the current version (3.2.2). If you see errors or degraded performance, download a newer compatible model or retrain your custom model with the current spaCy version. For more details and available updates, run: python -m spacy validate\n",
      "  warnings.warn(warn_msg)\n"
     ]
    }
   ],
   "source": [
    "#Import nlp english dictionary\n",
    "import en_core_web_sm\n",
    "\n",
    "nlp = en_core_web_sm.load()\n"
   ]
  },
  {
   "cell_type": "code",
   "execution_count": 3,
   "id": "d223ae11",
   "metadata": {
    "ExecuteTime": {
     "end_time": "2022-05-02T11:07:06.981480Z",
     "start_time": "2022-05-02T11:07:06.451302Z"
    }
   },
   "outputs": [],
   "source": [
    "# import clean scripts (character names are removed too)\n",
    "all_scripts = pd.read_pickle('all_scripts_cleaned_total-99.pickle')"
   ]
  },
  {
   "cell_type": "markdown",
   "id": "2228c8c6",
   "metadata": {},
   "source": [
    "# Function words and hedges lists"
   ]
  },
  {
   "cell_type": "code",
   "execution_count": 5,
   "id": "77deee3d-b91d-4be4-87c5-d1d9054ba314",
   "metadata": {
    "ExecuteTime": {
     "end_time": "2022-05-02T11:09:04.859257Z",
     "start_time": "2022-05-02T11:09:04.832574Z"
    }
   },
   "outputs": [],
   "source": [
    "#List of function words\n",
    "functions = ['a','about ','above ','across ','after ','afterwards ','again ','against ','all','almost ','alone ','along ',\n",
    "             'already ','also ','although ','always ','am ','among ','amongst ','amoungst ','an ','and ','another ','any ',\n",
    "             'anyhow ','anyone ','anything ','anyway ','anywhere ','are ','around ','as ','at ','be ','became ','because ',\n",
    "             'been ','before ','beforehand ','behind ','being ','below ','beside ','besides ','between ','beyond ','both ',\n",
    "             'but ','by ','can ','cannot ','could ','dare ','despite ','did ','do ','does ','done ','down ','during ','each ',\n",
    "             'eg ','either ','else ','elsewhere ','enough ','etc ','even ','ever ','every ','everyone ','everything ','everywhere ',\n",
    "             'except ','few ','first ','for ','former ','formerly ','from ','further ','furthermore ','had ','has ','have ','he ',\n",
    "             'hence ','her ','here ','hereabouts ','hereafter ','hereby ','herein ','hereinafter ','heretofore ','hereunder ','hereupon ','herewith ',\n",
    "             'hers ','herself ','him ','himself ','his ','how ','however ','i ','ie ','if ','in ','indeed ','inside ','instead ','into ','is ','it ',\n",
    "             'its ','itself ','last ','latter ','latterly ','least ','less ','lot ','lots ','many ','may ','me ','meanwhile ','might ','mine ',\n",
    "             'more ','moreover ','most ','mostly ','much ','must ','my ','myself ','namely ','near ','need ','neither ','never ',\n",
    "             'nevertheless ','next ','no ','nobody ','none ','noone ','nor ','not ','nothing ','now ','nowhere ','of ','off ','often ','oftentimes ','on ',\n",
    "             'once ','one ','only ','onto ','or ','other ','others  ','otherwise ','ought ','our ','ours ','ourselves ','out ','outside ','over ',\n",
    "             'per ','perhaps ','rather ','re ','same ','second ','several ','shall ','she ','should  ','since ','so ','some ','somehow ','someone ',\n",
    "             'something ','sometime ','sometimes ','somewhat ','somewhere ','still ','such ','than ','that ','the ','their ','theirs ','them ','themselves ',\n",
    "             'then ','thence ','there ','thereabouts ','thereafter ','thereby ','therefore ','therein ','thereof ','thereon ','thereupon ','these ',\n",
    "             'they ','third ','this ','those ','though ','through ','throughout ','thru ','thus ','to ','together ','too ','top','toward ','towards ',\n",
    "             'under ','until ','up ','upon ','us ','used ','very ','via ','was ','we ','well ','were ','what ','whatever ','when ','whence ','whenever ',\n",
    "             'where ','whereafter ','whereas ','whereby ','wherein ','whereupon ','wherever ','whether ','which ','while ','whither ','who','whoever ',\n",
    "             'whole ','whom ','whose ','why ','whyever ','will ','with ','within ','without ','would ','yes ','yet','you ','your','yours ','yourself ','yourselves ']"
   ]
  },
  {
   "cell_type": "code",
   "execution_count": 6,
   "id": "b2510704-fea1-40e5-96ec-61aac04b6b17",
   "metadata": {
    "ExecuteTime": {
     "end_time": "2022-05-02T11:09:05.459998Z",
     "start_time": "2022-05-02T11:09:05.437066Z"
    }
   },
   "outputs": [],
   "source": [
    "#List of hedges\n",
    "hedges = ['argely','generally','often','rarely','sometimes','frequently','occasionally','seldom','usually','most',\n",
    "          'several','some','almost','practically','apparently','virtually','basically','approximately','roughly',\n",
    "          'somewhat','somehow','partially','actually','like','something','someone','somebody','somewhere','think',\n",
    "          'thinks','thought','believe','believed','believes','consider','considers','considered','assume','assumes',\n",
    "          'assumed','understand','understands','understood','find','found','finds','appear','appears','appeared','seem',\n",
    "          'seems','seemed','suppose','supposes','supposed','guess','guesses','guessed','estimate','estimates','estimated',\n",
    "          'speculate','speculates','speculated','suggest','suggests','suggested','may','could','should','might','surely',\n",
    "          'probably','likely','maybe','perhaps','unsure','probable','unlikely','possibly','possible','read','say','says',\n",
    "          'looks like','look like','dont know','necessarily','kind of','much','bunch','couple','few','little','really',\n",
    "          'and all that','and so forth','et cetera','in my mind','in my opinion','their impression','my impression',\n",
    "          'in my understanding','my thinking is','my understanding is','in my view','if im understanding you correctly',\n",
    "          'something or other', 'so far','at least','about','around','can','effectively','evidently','fairly','hopefully',\n",
    "          'in general','mainly','more or less','mostly','overall','presumably','pretty','quite clearly','quite','rather',\n",
    "          'sort of','supposedly','tend','appear to be','doubt','be sure','indicate','will','must','would','certainly',\n",
    "          'definitely','clearly','conceivably','certain','definite','clear','assumption','possibility','probability',\n",
    "          'many','almost never','improbable','always','like']"
   ]
  },
  {
   "cell_type": "code",
   "execution_count": 7,
   "id": "1ba11421-6870-48e0-a6f8-54001fcd7d58",
   "metadata": {
    "ExecuteTime": {
     "end_time": "2022-05-02T11:09:20.585345Z",
     "start_time": "2022-05-02T11:09:18.880632Z"
    }
   },
   "outputs": [],
   "source": [
    "#Assigning function words\n",
    "def word_checker(sentence):\n",
    "    if any(word in functions for word in sentence.lower().split()):\n",
    "        return 1\n",
    "    else:\n",
    "        return 0\n",
    "all_scripts['Function_words'] = all_scripts['Clean_Line_all'].apply(word_checker)  "
   ]
  },
  {
   "cell_type": "code",
   "execution_count": 8,
   "id": "2004cfa2-7742-4b86-8f6c-6168c3d46b53",
   "metadata": {
    "ExecuteTime": {
     "end_time": "2022-05-02T11:09:22.455639Z",
     "start_time": "2022-05-02T11:09:21.492806Z"
    }
   },
   "outputs": [],
   "source": [
    "#Assigning hedges\n",
    "def word_checker1(sentence):\n",
    "    if any(word in hedges for word in sentence.lower().split()):\n",
    "        return 1\n",
    "    else:\n",
    "        return 0\n",
    "all_scripts['Hedges'] = all_scripts['Clean_Line_all'].apply(word_checker1) "
   ]
  },
  {
   "cell_type": "code",
   "execution_count": 9,
   "id": "2755966e-6662-4e2e-a01f-2f88bd5804fc",
   "metadata": {
    "ExecuteTime": {
     "end_time": "2022-05-02T11:18:27.257114Z",
     "start_time": "2022-05-02T11:18:27.224852Z"
    }
   },
   "outputs": [],
   "source": [
    "#Create data set of hedges and function words mean for men and women \n",
    "mean_hedges = all_scripts[['Hedges', 'Gender']].groupby('Gender').mean()*100\n",
    "mean_hedges = mean_hedges.reset_index()\n",
    "mean_hedges = mean_hedges.iloc[::-1]\n",
    "mean_func = all_scripts[['Function_words','Gender']].groupby('Gender').mean()*100\n",
    "mean_func = mean_func.reset_index()\n",
    "mean_func = mean_func.iloc[::-1]"
   ]
  },
  {
   "cell_type": "code",
   "execution_count": 10,
   "id": "49422a38-e996-48a5-b36d-bfb092c79291",
   "metadata": {
    "ExecuteTime": {
     "end_time": "2022-05-02T11:19:57.660968Z",
     "start_time": "2022-05-02T11:19:57.656912Z"
    }
   },
   "outputs": [],
   "source": [
    "#Set colors\n",
    "colors = [\"#3e1e58\", \"#fce43c\", \"#98c862\", \"#4c8e70\"]"
   ]
  },
  {
   "cell_type": "code",
   "execution_count": 11,
   "id": "d6360b6e",
   "metadata": {
    "ExecuteTime": {
     "end_time": "2022-05-02T11:37:32.911786Z",
     "start_time": "2022-05-02T11:37:32.608722Z"
    }
   },
   "outputs": [
    {
     "name": "stderr",
     "output_type": "stream",
     "text": [
      "/var/folders/f1/s37s84893rx20wc3fwvjlf2m0000gn/T/ipykernel_17728/2397782359.py:17: UserWarning: FixedFormatter should only be used together with FixedLocator\n",
      "  ax1.set_xticklabels(['Men', 'Women'], fontsize=12, rotation=0)\n",
      "/var/folders/f1/s37s84893rx20wc3fwvjlf2m0000gn/T/ipykernel_17728/2397782359.py:20: UserWarning: FixedFormatter should only be used together with FixedLocator\n",
      "  ax2.set_xticklabels(['Men', 'Women'], fontsize=12, rotation=0)\n"
     ]
    },
    {
     "data": {
      "image/png": "[encoded data removed]",
      "text/plain": [
       "<Figure size 1152x360 with 2 Axes>"
      ]
     },
     "metadata": {
      "needs_background": "light"
     },
     "output_type": "display_data"
    }
   ],
   "source": [
    "# plot figure of subplots \n",
    "fig1, [ax1, ax2] = plt.subplots(1, 2, figsize = (16, 5))\n",
    "\n",
    "# plot 1 - function words\n",
    "ax1.bar(mean_func['Gender'], mean_func['Function_words'],edgecolor='black', \n",
    "        color = colors, zorder = 3)\n",
    "\n",
    "# plot 2 - hedges\n",
    "ax2.bar(mean_hedges['Gender'], mean_hedges['Hedges'],edgecolor='black', \n",
    "        color = colors, zorder = 3)\n",
    "\n",
    "# formatting\n",
    "import matplotlib.ticker as mtick\n",
    "ax1.yaxis.set_major_formatter(mtick.PercentFormatter()) # set percentage at yaxis.\n",
    "ax2.yaxis.set_major_formatter(mtick.PercentFormatter()) # set percentage at yaxis.\n",
    "\n",
    "ax1.set_xticklabels(['Men', 'Women'], fontsize=12, rotation=0)\n",
    "ax1.set_ylim([0, 30])\n",
    "\n",
    "ax2.set_xticklabels(['Men', 'Women'], fontsize=12, rotation=0)\n",
    "ax2.set_ylim([0, 30])\n",
    "\n",
    "#ax1.set_title(\"Proportion of lines using function words\", fontsize = 14)\n",
    "ax2.set_title(\"Hedges\", fontsize = 14)\n",
    "\n",
    "\n",
    "ax1.grid(True)\n",
    "ax2.grid(True)\n",
    "\n",
    "#plt.show()\n",
    "plt.savefig('hedges and func word gender.png',bbox_inches='tight')"
   ]
  },
  {
   "cell_type": "code",
   "execution_count": 12,
   "id": "37121ac2-c4d8-4b7c-a27e-af21cc65e7a3",
   "metadata": {},
   "outputs": [],
   "source": [
    "# create for loop for testing z-test\n",
    "import statsmodels.api as sm\n",
    "\n",
    "# list of columns we want to test \n",
    "test_list = ['Hedges','Function_words']\n",
    "z_test_results = []\n",
    "m_mean = []\n",
    "w_mean = []\n",
    "\n",
    "for column in test_list:\n",
    "    column = column\n",
    "    male = all_scripts.query('Gender == \"Male\"')[column] \n",
    "    male = sm.stats.DescrStatsW(male)\n",
    "    male_mean = all_scripts.loc[all_scripts['Gender'] == 'Male'][column].mean()\n",
    "    m_mean.append(male_mean)\n",
    "    female = all_scripts.query('Gender == \"Female\"')[column]\n",
    "    female = sm.stats.DescrStatsW(female)\n",
    "    female_mean = all_scripts.loc[all_scripts['Gender'] == 'Female'][column].mean()\n",
    "    w_mean.append(female_mean)\n",
    "    z_test = sm.stats.CompareMeans(male, female).ztest_ind(usevar='unequal',value=0)\n",
    "    z_test_results.append(z_test)\n",
    "    \n",
    "test_df = pd.DataFrame(\n",
    "    {'Speech element': test_list,\n",
    "     'Mean for men': m_mean,\n",
    "     'Mean for women': w_mean,\n",
    "     'Z_test': z_test_results,\n",
    "    })\n",
    "\n"
   ]
  },
  {
   "cell_type": "code",
   "execution_count": 13,
   "id": "2343b74f-9f4e-4b23-a0a6-591b817c230c",
   "metadata": {},
   "outputs": [
    {
     "data": {
      "text/html": [
       "<div>\n",
       "<style scoped>\n",
       "    .dataframe tbody tr th:only-of-type {\n",
       "        vertical-align: middle;\n",
       "    }\n",
       "\n",
       "    .dataframe tbody tr th {\n",
       "        vertical-align: top;\n",
       "    }\n",
       "\n",
       "    .dataframe thead th {\n",
       "        text-align: right;\n",
       "    }\n",
       "</style>\n",
       "<table border=\"1\" class=\"dataframe\">\n",
       "  <thead>\n",
       "    <tr style=\"text-align: right;\">\n",
       "      <th></th>\n",
       "      <th>Speech element</th>\n",
       "      <th>Mean for men</th>\n",
       "      <th>Mean for women</th>\n",
       "      <th>Z_test</th>\n",
       "    </tr>\n",
       "  </thead>\n",
       "  <tbody>\n",
       "    <tr>\n",
       "      <th>0</th>\n",
       "      <td>Hedges</td>\n",
       "      <td>0.260447</td>\n",
       "      <td>0.268618</td>\n",
       "      <td>(-1.7955310094748733, 0.07256913671629474)</td>\n",
       "    </tr>\n",
       "    <tr>\n",
       "      <th>1</th>\n",
       "      <td>Function_words</td>\n",
       "      <td>0.232330</td>\n",
       "      <td>0.215688</td>\n",
       "      <td>(3.893448454865004, 9.882920934427026e-05)</td>\n",
       "    </tr>\n",
       "  </tbody>\n",
       "</table>\n",
       "</div>"
      ],
      "text/plain": [
       "   Speech element  Mean for men  Mean for women  \\\n",
       "0          Hedges      0.260447        0.268618   \n",
       "1  Function_words      0.232330        0.215688   \n",
       "\n",
       "                                       Z_test  \n",
       "0  (-1.7955310094748733, 0.07256913671629474)  \n",
       "1  (3.893448454865004, 9.882920934427026e-05)  "
      ]
     },
     "execution_count": 13,
     "metadata": {},
     "output_type": "execute_result"
    }
   ],
   "source": [
    "test_df"
   ]
  },
  {
   "cell_type": "markdown",
   "id": "9af43dc6-5b6f-4d87-9a9b-457ff43bcce9",
   "metadata": {},
   "source": [
    "### Looking at function words and hedges for most speaking characters"
   ]
  },
  {
   "cell_type": "code",
   "execution_count": 14,
   "id": "d7edae6a-c959-43df-bf03-4f51eab5098f",
   "metadata": {},
   "outputs": [],
   "source": [
    "# subsetting data to only include most speaking male and female character\n",
    "\n",
    "# save number of lines \n",
    "lines = all_scripts.groupby([\"Era\", \"Movie\", \"Gender\", \"Character\"]).count()['Line'].to_frame().reset_index()\n",
    "# save number of words\n",
    "words = all_scripts.groupby([\"Era\", \"Movie\", \"Gender\", \"Character\"]).sum()['Words_n'].to_frame().reset_index()\n",
    "\n",
    "lines['Words_n'] = words['Words_n']\n",
    "lines['Words_pr_line'] = lines['Words_n']/lines['Line'].round()\n",
    "\n",
    "# find characters using the largest share of words \n",
    "top5_words = lines.groupby([\"Movie\", \"Gender\", \"Character\"])\\\n",
    ".agg({\"Words_n\" : \"sum\"})\\\n",
    ".groupby(level=0).apply(lambda x: 100*x/x.sum())\\\n",
    ".sort_values(by=[\"Movie\", \"Gender\", \"Words_n\"], ascending=[True, True, False]).reset_index()\n",
    "\n",
    "top_words_f = top5_words.loc[top5_words['Gender'] == \"Female\"].groupby('Movie').head(1)\n",
    "top_words_m = top5_words.loc[top5_words['Gender'] == \"Male\"].groupby('Movie').head(1)\n",
    "\n",
    "top_words_f = dict(zip(top_words_f.Movie, top_words_f.Character))\n",
    "top_words_m = dict(zip(top_words_m.Movie, top_words_m.Character))\n",
    "\n",
    "leading_character = []\n",
    "\n",
    "for index, row in all_scripts.iterrows():\n",
    "    \n",
    "    movie = row['Movie']\n",
    "    name_f = top_words_f[movie]\n",
    "    name_m = top_words_m[movie]\n",
    "    if row['Character'] == name_f:\n",
    "        leading_character.append(1)\n",
    "    elif row['Character'] == name_m:\n",
    "        leading_character.append(1)\n",
    "    else:\n",
    "        leading_character.append(0)"
   ]
  },
  {
   "cell_type": "code",
   "execution_count": 15,
   "id": "65830871-c165-405e-a904-20f80584ef4c",
   "metadata": {},
   "outputs": [],
   "source": [
    "all_scripts['Leading_character'] = leading_character\n",
    "all_scripts_lead = all_scripts.loc[all_scripts['Leading_character'] == 1].reset_index(drop=True)"
   ]
  },
  {
   "cell_type": "code",
   "execution_count": 16,
   "id": "5588020d-01bc-4f39-bcad-123b1cfafb49",
   "metadata": {},
   "outputs": [],
   "source": [
    "mean_hedges1 = all_scripts_lead[['Hedges', 'Gender']].groupby('Gender').mean()*100\n",
    "mean_hedges1 = mean_hedges1.reset_index()\n",
    "mean_hedges1 = mean_hedges1.iloc[::-1]\n",
    "mean_func1 = all_scripts_lead[['Function_words','Gender']].groupby('Gender').mean()*100\n",
    "mean_func1 = mean_func1.reset_index()\n",
    "mean_func1 = mean_func1.iloc[::-1]"
   ]
  },
  {
   "cell_type": "code",
   "execution_count": 17,
   "id": "6b4747f6-eb6b-4129-9930-93157efa43d4",
   "metadata": {},
   "outputs": [],
   "source": [
    "#Set colors\n",
    "colors = [\"#3e1e58\", \"#fce43c\", \"#98c862\", \"#4c8e70\"]"
   ]
  },
  {
   "cell_type": "code",
   "execution_count": null,
   "id": "d77cc9c0-12d8-4ebb-a90c-1d187c811b70",
   "metadata": {},
   "outputs": [],
   "source": [
    "# plot figure of subplots \n",
    "fig1, [ax1, ax2] = plt.subplots(1, 2, figsize = (16, 5))\n",
    "\n",
    "# plot 1 - function words\n",
    "ax1.bar(mean_func1['Gender'], mean_func1['Function_words'],edgecolor='black', \n",
    "        color = colors, zorder = 3)\n",
    "\n",
    "# plot 2 - hedges\n",
    "ax2.bar(mean_hedges1['Gender'], mean_hedges1['Hedges'],edgecolor='black', \n",
    "        color = colors, zorder = 3)\n",
    "\n",
    "# formatting\n",
    "import matplotlib.ticker as mtick\n",
    "ax1.yaxis.set_major_formatter(mtick.PercentFormatter()) # set percentage at yaxis.\n",
    "ax2.yaxis.set_major_formatter(mtick.PercentFormatter()) # set percentage at yaxis.\n",
    "\n",
    "ax1.set_xticklabels(['Most speaking men', 'Most speaking women'], fontsize=12, rotation=0)\n",
    "ax1.set_ylim([0, 30])\n",
    "\n",
    "ax2.set_xticklabels(['Most speaking men', 'Most speaking women'], fontsize=12, rotation=0)\n",
    "ax2.set_ylim([0, 30])\n",
    "\n",
    "ax1.set_title(\"Proportion of lines using function words\", fontsize = 14)\n",
    "ax2.set_title(\"Hedges\", fontsize = 14)\n",
    "\n",
    "\n",
    "ax1.grid(True)\n",
    "ax2.grid(True)\n",
    "\n",
    "#plt.show()\n",
    "plt.savefig('hedges and func word mspeak.png',bbox_inches='tight')"
   ]
  },
  {
   "cell_type": "code",
   "execution_count": 19,
   "id": "922d13fa-7053-4417-b6f9-8f82560db443",
   "metadata": {},
   "outputs": [],
   "source": [
    "# create for loop for testing z-test\n",
    "import statsmodels.api as sm\n",
    "\n",
    "# list of columns we want to test \n",
    "test_list = ['Hedges','Function_words']\n",
    "z_test_results = []\n",
    "m_mean = []\n",
    "w_mean = []\n",
    "\n",
    "for column in test_list:\n",
    "    column = column\n",
    "    #testing significance share of FEMALE lines and writers gender by using a z-test \n",
    "    male = all_scripts_lead.query('Gender == \"Male\"')[column] #all_sentences is the dataframe\n",
    "    male = sm.stats.DescrStatsW(male)\n",
    "    male_mean = all_scripts_lead.loc[all_scripts_lead['Gender'] == 'Male'][column].mean()\n",
    "    m_mean.append(male_mean)\n",
    "    female = all_scripts_lead.query('Gender == \"Female\"')[column]\n",
    "    female = sm.stats.DescrStatsW(female)\n",
    "    female_mean = all_scripts_lead.loc[all_scripts_lead['Gender'] == 'Female'][column].mean()\n",
    "    w_mean.append(female_mean)\n",
    "    z_test = sm.stats.CompareMeans(male, female).ztest_ind(usevar='unequal',value=0)\n",
    "    z_test_results.append(z_test)\n",
    "    \n",
    "test1_df = pd.DataFrame(\n",
    "    {'Speech element': test_list,\n",
    "     'Mean for men': m_mean,\n",
    "     'Mean for women': w_mean,\n",
    "     'Z_test': z_test_results,\n",
    "    })\n",
    "\n"
   ]
  },
  {
   "cell_type": "code",
   "execution_count": 21,
   "id": "6829de36-3a40-4ce7-8c71-ed5259a1e87e",
   "metadata": {},
   "outputs": [
    {
     "data": {
      "text/html": [
       "<div>\n",
       "<style scoped>\n",
       "    .dataframe tbody tr th:only-of-type {\n",
       "        vertical-align: middle;\n",
       "    }\n",
       "\n",
       "    .dataframe tbody tr th {\n",
       "        vertical-align: top;\n",
       "    }\n",
       "\n",
       "    .dataframe thead th {\n",
       "        text-align: right;\n",
       "    }\n",
       "</style>\n",
       "<table border=\"1\" class=\"dataframe\">\n",
       "  <thead>\n",
       "    <tr style=\"text-align: right;\">\n",
       "      <th></th>\n",
       "      <th>Speech element</th>\n",
       "      <th>Mean for men</th>\n",
       "      <th>Mean for women</th>\n",
       "      <th>Z_test</th>\n",
       "    </tr>\n",
       "  </thead>\n",
       "  <tbody>\n",
       "    <tr>\n",
       "      <th>0</th>\n",
       "      <td>Hedges</td>\n",
       "      <td>0.274342</td>\n",
       "      <td>0.268190</td>\n",
       "      <td>(0.8733255772922177, 0.38248564315247247)</td>\n",
       "    </tr>\n",
       "    <tr>\n",
       "      <th>1</th>\n",
       "      <td>Function_words</td>\n",
       "      <td>0.239925</td>\n",
       "      <td>0.218141</td>\n",
       "      <td>(3.2779181514175515, 0.0010457571363947761)</td>\n",
       "    </tr>\n",
       "  </tbody>\n",
       "</table>\n",
       "</div>"
      ],
      "text/plain": [
       "   Speech element  Mean for men  Mean for women  \\\n",
       "0          Hedges      0.274342        0.268190   \n",
       "1  Function_words      0.239925        0.218141   \n",
       "\n",
       "                                        Z_test  \n",
       "0    (0.8733255772922177, 0.38248564315247247)  \n",
       "1  (3.2779181514175515, 0.0010457571363947761)  "
      ]
     },
     "execution_count": 21,
     "metadata": {},
     "output_type": "execute_result"
    }
   ],
   "source": [
    "test1_df"
   ]
  },
  {
   "cell_type": "markdown",
   "id": "6ebfc359-4bb2-435c-bb7d-9482c726e9e2",
   "metadata": {},
   "source": [
    "## Function words across eras"
   ]
  },
  {
   "cell_type": "code",
   "execution_count": 14,
   "id": "71f3b3a1-1cee-4b79-b647-0ca1723659cc",
   "metadata": {},
   "outputs": [],
   "source": [
    "#Adding letters to era to make sure they are alphabetically listed \n",
    "all_scripts['Era'] = all_scripts['Era'].replace({'The Golden Age': 'A The Golden Age', 'The Bronze Age': 'B The Bronze Age', 'The Disney Renaissance': 'C The Disney Renaissance', \n",
    "                               'Post Renaissance Era': 'D Post Renaissance Era','The Revival Era': 'E The Revival Era',\n",
    "                               'Present period': 'F Present period'})"
   ]
  },
  {
   "cell_type": "code",
   "execution_count": 17,
   "id": "ca2de128-ac66-4b57-b76a-920cf10c6527",
   "metadata": {},
   "outputs": [
    {
     "data": {
      "text/html": [
       "<div>\n",
       "<style scoped>\n",
       "    .dataframe tbody tr th:only-of-type {\n",
       "        vertical-align: middle;\n",
       "    }\n",
       "\n",
       "    .dataframe tbody tr th {\n",
       "        vertical-align: top;\n",
       "    }\n",
       "\n",
       "    .dataframe thead th {\n",
       "        text-align: right;\n",
       "    }\n",
       "</style>\n",
       "<table border=\"1\" class=\"dataframe\">\n",
       "  <thead>\n",
       "    <tr style=\"text-align: right;\">\n",
       "      <th></th>\n",
       "      <th>Function_words</th>\n",
       "    </tr>\n",
       "    <tr>\n",
       "      <th>Era</th>\n",
       "      <th></th>\n",
       "    </tr>\n",
       "  </thead>\n",
       "  <tbody>\n",
       "    <tr>\n",
       "      <th>A The Golden Age</th>\n",
       "      <td>23.152996</td>\n",
       "    </tr>\n",
       "    <tr>\n",
       "      <th>B The Bronze Age</th>\n",
       "      <td>24.421832</td>\n",
       "    </tr>\n",
       "    <tr>\n",
       "      <th>C The Disney Renaissance</th>\n",
       "      <td>21.250841</td>\n",
       "    </tr>\n",
       "    <tr>\n",
       "      <th>D Post Renaissance Era</th>\n",
       "      <td>23.948220</td>\n",
       "    </tr>\n",
       "    <tr>\n",
       "      <th>E The Revival Era</th>\n",
       "      <td>18.938119</td>\n",
       "    </tr>\n",
       "    <tr>\n",
       "      <th>F Present period</th>\n",
       "      <td>22.818396</td>\n",
       "    </tr>\n",
       "  </tbody>\n",
       "</table>\n",
       "</div>"
      ],
      "text/plain": [
       "                          Function_words\n",
       "Era                                     \n",
       "A The Golden Age               23.152996\n",
       "B The Bronze Age               24.421832\n",
       "C The Disney Renaissance       21.250841\n",
       "D Post Renaissance Era         23.948220\n",
       "E The Revival Era              18.938119\n",
       "F Present period               22.818396"
      ]
     },
     "execution_count": 17,
     "metadata": {},
     "output_type": "execute_result"
    }
   ],
   "source": [
    "#Function words across Era - make mean dataframe for percentage\n",
    "import matplotlib.ticker as mtick\n",
    "df_women = all_scripts[all_scripts.Gender == 'Female']\n",
    "df_men = all_scripts[all_scripts.Gender == 'Male']\n",
    "\n",
    "mean_func_era_female = df_women[['Function_words','Era']].groupby('Era').mean()*100\n",
    "mean_func_era_male = df_men[['Function_words','Era']].groupby('Era').mean()*100"
   ]
  },
  {
   "cell_type": "code",
   "execution_count": 28,
   "id": "dce167db-f3f3-4c65-9e75-29dfa23deb54",
   "metadata": {},
   "outputs": [
    {
     "data": {
      "image/png": "[encoded data removed]",
      "text/plain": [
       "<Figure size 1152x360 with 2 Axes>"
      ]
     },
     "metadata": {
      "needs_background": "light"
     },
     "output_type": "display_data"
    }
   ],
   "source": [
    "#Plotting function words for gender and era \n",
    "fig, (ax1, ax2) = plt.subplots(1, 2, figsize = (16, 5))\n",
    "colors = [\"#3e1e58\", \"#fce43c\", \"#98c862\", \"#4c8e70\"]\n",
    "xlabels = ['The Golden Age', 'The Bronze Age', 'The Disney Renaissance',\n",
    "           'Post Renaissance Era', 'The Revival Era', 'Present period']\n",
    "X = ['A The Golden Age', 'B The Bronze Age', 'C The Disney Renaissance', \n",
    "     'D Post Renaissance Era','E The Revival Era','F Present period']\n",
    "#Mean function words for each era chronologically for men\n",
    "Men = [25.889090,24.300203,25.895104,22.246331,21.521456,20.975354] \n",
    "#Mean function words for each era chronologically for women\n",
    "Women = [23.152996,24.421832,21.250841,23.948220,18.938119,22.818396] \n",
    "\n",
    "\n",
    "X_axis = np.arange(len(X))\n",
    "\n",
    "ax2.bar(X_axis - 0.2, Men, 0.4, label = 'Men', color =\"#3e1e58\",edgecolor='black', )\n",
    "ax2.bar(X_axis + 0.2, Women, 0.4, label = 'Women',color =\"#fce43c\",edgecolor='black', )\n",
    "\n",
    "# formatting\n",
    "import matplotlib.ticker as mtick\n",
    "ax2.yaxis.set_major_formatter(mtick.PercentFormatter()) # set percentage at yaxis.\n",
    "\n",
    "#Setting ax labels\n",
    "ax2.set_xticks(X_axis,xlabels, rotation = 12)\n",
    "\n",
    "plt.legend(bbox_to_anchor=(1.05, 1),loc=2, borderaxespad=0.,title='Gender', fontsize = 13)\n",
    "#plt.show()\n",
    "plt.savefig('function words for genderxera.png', bbox_inches='tight')"
   ]
  },
  {
   "cell_type": "markdown",
   "id": "711ae071-db86-44be-bbd8-2d54f7982bce",
   "metadata": {},
   "source": [
    "## Hedges across eras"
   ]
  },
  {
   "cell_type": "code",
   "execution_count": 29,
   "id": "54b623a3-61f8-4cb2-8013-f1c198d76db7",
   "metadata": {},
   "outputs": [],
   "source": [
    "#Hedges words across Era - mean dataset\n",
    "import matplotlib.ticker as mtick\n",
    "df_women = all_scripts[all_scripts.Gender == 'Female']\n",
    "df_men = all_scripts[all_scripts.Gender == 'Male']\n",
    "\n",
    "mean_hedg_era_female = df_women[['Hedges','Era']].groupby('Era').mean()*100\n",
    "mean_hedg_era_male = df_men[['Hedges','Era']].groupby('Era').mean()*100"
   ]
  },
  {
   "cell_type": "code",
   "execution_count": 32,
   "id": "e1676d60-c59c-4525-9fd0-65a0bf300462",
   "metadata": {},
   "outputs": [
    {
     "data": {
      "image/png": "[encoded data removed]",
      "text/plain": [
       "<Figure size 1152x360 with 2 Axes>"
      ]
     },
     "metadata": {
      "needs_background": "light"
     },
     "output_type": "display_data"
    }
   ],
   "source": [
    "#Plotting hedges words for gender and era \n",
    "fig, (ax1, ax2) = plt.subplots(1, 2, figsize = (16, 5))\n",
    "colors = [\"#3e1e58\", \"#fce43c\", \"#98c862\", \"#4c8e70\"]\n",
    "xlabels = ['The Golden Age', 'The Bronze Age', 'The Disney Renaissance',\n",
    "           'Post Renaissance Era', 'The Revival Era', 'Present period']\n",
    "X = ['A The Golden Age', 'B The Bronze Age', 'C The Disney Renaissance', \n",
    "     'D Post Renaissance Era','E The Revival Era','F Present period']\n",
    "#Mean hedges words for each era chronologically for men\n",
    "Men = [29.234479,26.409736,28.294949,25.283982,23.836151, 25.957001]\n",
    "#Mean hedges words for each era chronologically for women\n",
    "Women = [29.028505,30.804810,30.934768,24.919094,24.957936,27.771226]\n",
    "\n",
    "\n",
    "X_axis = np.arange(len(X))\n",
    "\n",
    "ax2.bar(X_axis - 0.2, Men, 0.4, label = 'Men', color =\"#3e1e58\",edgecolor='black', )\n",
    "ax2.bar(X_axis + 0.2, Women, 0.4, label = 'Women',color =\"#fce43c\",edgecolor='black', )\n",
    "\n",
    "# formatting\n",
    "import matplotlib.ticker as mtick\n",
    "ax2.yaxis.set_major_formatter(mtick.PercentFormatter()) # set percentage at yaxis.\n",
    "\n",
    "#Setting ax labels\n",
    "ax2.set_xticks(X_axis,xlabels, rotation = 12)\n",
    "\n",
    "plt.legend(bbox_to_anchor=(1.05, 1),loc=2, borderaxespad=0.,title='Gender', fontsize = 13)\n",
    "#plt.show()\n",
    "plt.savefig('hedges for genderxera.png', bbox_inches='tight')"
   ]
  },
  {
   "cell_type": "markdown",
   "id": "0e4b3f92-5f84-4705-8712-57338e1e408a",
   "metadata": {},
   "source": [
    "### Anova testing function words and hedges for era"
   ]
  },
  {
   "cell_type": "code",
   "execution_count": 25,
   "id": "bfafa358-66e9-4c45-afed-b494e797c737",
   "metadata": {},
   "outputs": [
    {
     "name": "stdout",
     "output_type": "stream",
     "text": [
      "Function words is: \n",
      " \n",
      "    Source           SS     DF        MS          F         p-unc       np2\n",
      "0     Era    13.404847      5  2.680969  15.313458  4.521033e-15  0.001799\n",
      "1  Within  7438.666362  42489  0.175073        NaN           NaN       NaN\n",
      "Hedges is: \n",
      " \n",
      "    Source           SS     DF        MS          F         p-unc       np2\n",
      "0     Era    15.962653      5  3.192531  16.493864  2.649135e-16  0.001937\n",
      "1  Within  8224.114909  42489  0.193559        NaN           NaN       NaN\n"
     ]
    }
   ],
   "source": [
    "import pingouin as pg\n",
    "aov = pg.anova(data=all_scripts, dv='Function_words', between='Era', detailed=True)\n",
    "aov1 = pg.anova(data=all_scripts, dv='Hedges', between='Era', detailed=True)\n",
    "print('Function words is:',\"\\n\",\"\\n\",aov)\n",
    "print('Hedges is:',\"\\n\",\"\\n\",aov1)\n"
   ]
  },
  {
   "cell_type": "markdown",
   "id": "7eda7880-33ec-4730-b5c1-f1d778d6cce6",
   "metadata": {},
   "source": [
    "# Part of speech tagging and testing"
   ]
  },
  {
   "cell_type": "code",
   "execution_count": 26,
   "id": "834391a3-a6eb-4b1b-ae98-a2544b03f343",
   "metadata": {
    "tags": []
   },
   "outputs": [],
   "source": [
    "#Running nlp for clean character lines\n",
    "wo_punc = []\n",
    "for line in all_scripts['Clean_Line_all']:\n",
    "    line = re.sub(r'[^\\w\\s]', '', line)\n",
    "    wo_punc.append(line)\n",
    "nlp.max_length = 1414850\n",
    "all_scripts['Clean_Line_new'] = wo_punc\n",
    "all_scripts['nlp_spacy'] = all_scripts.Clean_Line_new.apply(nlp)"
   ]
  },
  {
   "cell_type": "code",
   "execution_count": 27,
   "id": "e6a87b9a-4dd8-4d23-9084-1ff480a4b4b0",
   "metadata": {},
   "outputs": [],
   "source": [
    "#saving nlp dataset to pickle \n",
    "all_scripts.to_pickle('all_scripts_nlp.pickle')"
   ]
  },
  {
   "cell_type": "code",
   "execution_count": null,
   "id": "7a7d275e-e393-4281-8771-d7827f9154aa",
   "metadata": {},
   "outputs": [],
   "source": [
    "#Tagging each line with the amount of each part of speech tag it contains \n",
    "typ3common = {\"Gender\":[], \"NOUN\":[], \"VERB\":[], \"ADJ\":[], \"PRON\":[], \"DET\":[],\n",
    "              \"AUX\":[], \"ADV\":[], \"ADP\":[], \"INTJ\":[], \"PART\":[], \"CCONJ\":[], \"SCONJ\":[],\n",
    "              \"PROPN\":[], \"NUM\":[],\n",
    "              \"ELSE_WORD\":[], \"TOTAL\":[], \"TOTAL_ELSE\":[],\"Line_clean\":[],\"Era\":[]}\n",
    "\n",
    "\n",
    "for i in range(len(all_scripts)):\n",
    "    typ3common[\"Gender\"].append(all_scripts.Gender[i])\n",
    "    typ3common[\"Line_clean\"].append(all_scripts.Clean_Line_new[i])\n",
    "    typ3common[\"Era\"].append(all_scripts.Era[i])\n",
    "    nouns = verbs = adjs = prons = dets = auxs = advs = intjs = parts = cconjs = 0\n",
    "    propns = nums = adps = sconjs = else_word = 0\n",
    "    for line in all_scripts.nlp_spacy[i]:\n",
    "        typ = line.pos_\n",
    "        if typ == \"NOUN\":\n",
    "            nouns+=1\n",
    "        if typ == \"VERB\":\n",
    "            verbs+=1\n",
    "        if typ == \"ADJ\":\n",
    "            adjs+=1\n",
    "        if typ == \"PRON\":\n",
    "            prons+=1\n",
    "        if typ == \"ADP\":\n",
    "            adps+=1\n",
    "        if typ == \"DET\":\n",
    "            dets+=1\n",
    "        if typ == \"AUX\":\n",
    "            auxs+=1\n",
    "        if typ == \"ADV\":\n",
    "            advs+=1\n",
    "        if typ == \"INTJ\":\n",
    "            intjs+=1\n",
    "        if typ == \"PART\":\n",
    "            parts+=1\n",
    "        if typ == \"CCONJ\":\n",
    "            cconjs+=1\n",
    "        if typ == \"SCONJ\":\n",
    "            sconjs+=1\n",
    "        if typ == \"PROPN\":\n",
    "            propns+=1\n",
    "        if typ == \"NUM\":\n",
    "            nums+=1\n",
    "            \n",
    "        else:\n",
    "            else_word+=1\n",
    "    \n",
    "#Populate with data\n",
    "    total = nouns+verbs+adjs+prons+dets+auxs+advs+intjs+parts+cconjs+sconjs+nums+propns\n",
    "    total_else = nouns+verbs+adjs+prons+dets+auxs+advs+intjs+parts+cconjs+sconjs+nums+propns+else_word\n",
    "    total_wo_puncs = nouns+verbs+adjs+prons+dets+auxs+advs+intjs+parts+cconjs+sconjs+nums+propns+else_word\n",
    "    \n",
    "    typ3common[\"TOTAL\"].append(total)\n",
    "    typ3common[\"TOTAL_ELSE\"].append(total_else)\n",
    "    \n",
    "    typ3common[\"NOUN\"].append(float(nouns))\n",
    "    typ3common[\"VERB\"].append(float(verbs))\n",
    "    typ3common[\"ADJ\"].append(float(adjs))\n",
    "    \n",
    "    typ3common[\"PRON\"].append(float(prons))\n",
    "    typ3common[\"DET\"].append(float(dets))\n",
    "    typ3common[\"ADP\"].append(float(adps))\n",
    "    typ3common[\"AUX\"].append(float(auxs))\n",
    "    typ3common[\"ADV\"].append(float(advs))\n",
    "    typ3common[\"INTJ\"].append(float(intjs))\n",
    "    typ3common[\"PART\"].append(float(parts))\n",
    "    typ3common[\"CCONJ\"].append(float(cconjs))\n",
    "    typ3common[\"SCONJ\"].append(float(sconjs))\n",
    "    typ3common[\"NUM\"].append(float(nums))\n",
    "    typ3common[\"PROPN\"].append(float(propns))\n",
    "    \n",
    "    typ3common[\"ELSE_WORD\"].append(float(else_word))\n",
    "\n",
    "df_words = pd.DataFrame.from_dict(typ3common)\n",
    "df_words"
   ]
  },
  {
   "cell_type": "code",
   "execution_count": 29,
   "id": "cc6c8cf7-fa22-4a8a-9b8d-c6219d8a4ce5",
   "metadata": {},
   "outputs": [],
   "source": [
    "#Saving\n",
    "df_words.to_pickle('df_words.pickle')"
   ]
  },
  {
   "cell_type": "code",
   "execution_count": 80,
   "id": "ba8563cf-d65f-4eb8-8b67-45027e84eaaa",
   "metadata": {},
   "outputs": [],
   "source": [
    "#Re-loading data\n",
    "df = pd.read_pickle('df_words.pickle')"
   ]
  },
  {
   "cell_type": "code",
   "execution_count": 96,
   "id": "4b51eb8c-af26-4996-9b03-471b7484bc11",
   "metadata": {},
   "outputs": [],
   "source": [
    "#Making a new binary column for each class to see if the part of speech tag is present or not in the line\n",
    "def pos_label (row):\n",
    "    if row['NOUN'] > 0 :\n",
    "        return 1\n",
    "    if row['NOUN'] == 0 :\n",
    "        return 0\n",
    "\n",
    "df['NOUN']= df.apply (lambda row: pos_label(row), axis=1)\n",
    "\n",
    "def pos_label1 (row):\n",
    "    if row['VERB'] > 0 :\n",
    "        return 1\n",
    "    if row['VERB'] == 0 :\n",
    "        return 0\n",
    "\n",
    "df['VERB']= df.apply (lambda row: pos_label1(row), axis=1)\n",
    "\n",
    "def pos_label2 (row):\n",
    "    if row['ADJ'] > 0 :\n",
    "        return 1\n",
    "    if row['ADJ'] == 0 :\n",
    "        return 0\n",
    "\n",
    "df['ADJ']= df.apply (lambda row: pos_label2(row), axis=1)\n",
    "\n",
    "def pos_label3 (row):\n",
    "    if row['PRON'] > 0 :\n",
    "        return 1\n",
    "    if row['PRON'] == 0 :\n",
    "        return 0\n",
    "\n",
    "df['PRON']= df.apply (lambda row: pos_label3(row), axis=1)\n",
    "\n",
    "def pos_label4 (row):\n",
    "    if row['DET'] > 0 :\n",
    "        return 1\n",
    "    if row['DET'] == 0 :\n",
    "        return 0\n",
    "df['DET']= df.apply (lambda row: pos_label4(row), axis=1)\n",
    "\n",
    "def pos_label5 (row):\n",
    "    if row['AUX'] > 0 :\n",
    "        return 1\n",
    "    if row['AUX'] == 0 :\n",
    "        return 0\n",
    "df['AUX']= df.apply (lambda row: pos_label5(row), axis=1)\n",
    "\n",
    "def pos_label6 (row):\n",
    "    if row['ADV'] > 0 :\n",
    "        return 1\n",
    "    if row['ADV'] == 0 :\n",
    "        return 0\n",
    "df['ADV']= df.apply (lambda row: pos_label6(row), axis=1)\n",
    "\n",
    "def pos_label7 (row):\n",
    "    if row['ADP'] > 0 :\n",
    "        return 1\n",
    "    if row['ADP'] == 0 :\n",
    "        return 0\n",
    "df['ADP']= df.apply (lambda row: pos_label7(row), axis=1)\n",
    "\n",
    "def pos_label8 (row):\n",
    "    if row['INTJ'] > 0 :\n",
    "        return 1\n",
    "    if row['INTJ'] == 0 :\n",
    "        return 0\n",
    "df['INTJ']= df.apply (lambda row: pos_label8(row), axis=1)\n",
    "\n",
    "def pos_label9 (row):\n",
    "    if row['PART'] > 0 :\n",
    "        return 1\n",
    "    if row['PART'] == 0 :\n",
    "        return 0\n",
    "df['PART']= df.apply (lambda row: pos_label9(row), axis=1)\n",
    "\n",
    "def pos_label10 (row):\n",
    "    if row['CCONJ'] > 0 :\n",
    "        return 1\n",
    "    if row['CCONJ'] == 0 :\n",
    "        return 0\n",
    "df['CCONJ']= df.apply (lambda row: pos_label10(row), axis=1)\n",
    "\n",
    "def pos_label11 (row):\n",
    "    if row['SCONJ'] > 0 :\n",
    "        return 1\n",
    "    if row['SCONJ'] == 0 :\n",
    "        return 0\n",
    "df['SCONJ']= df.apply (lambda row: pos_label11(row), axis=1)\n",
    "\n",
    "def pos_label12 (row):\n",
    "    if row['PROPN'] > 0 :\n",
    "        return 1\n",
    "    if row['PROPN'] == 0 :\n",
    "        return 0\n",
    "df['PROPN']= df.apply (lambda row: pos_label12(row), axis=1)\n",
    "\n",
    "def pos_label13 (row):\n",
    "    if row['NUM'] > 0 :\n",
    "        return 1\n",
    "    if row['NUM'] == 0 :\n",
    "        return 0\n",
    "df['NUM']= df.apply (lambda row: pos_label13(row), axis=1)\n",
    "\n"
   ]
  },
  {
   "cell_type": "code",
   "execution_count": 32,
   "id": "e64d2242-f04f-4a05-827d-beba2488469f",
   "metadata": {},
   "outputs": [],
   "source": [
    "# create for loop for testing z-test for gender and part of speeech tag\n",
    "import statsmodels.api as sm\n",
    "\n",
    "# list of columns we want to test \n",
    "test_list = ['NOUN','VERB','ADJ','PRON','DET','AUX','ADV','ADP','INTJ','PART','CCONJ','SCONJ','PROPN','NUM']\n",
    "\n",
    "z_test_results = []\n",
    "m_mean = []\n",
    "w_mean = []\n",
    "\n",
    "for column in test_list:\n",
    "    column = column\n",
    "    male = df.query('Gender == \"Male\"')[column] \n",
    "    male = sm.stats.DescrStatsW(male)\n",
    "    male_mean = df.loc[df['Gender'] == 'Male'][column].mean()\n",
    "    m_mean.append(male_mean)\n",
    "    female = df.query('Gender == \"Female\"')[column]\n",
    "    female = sm.stats.DescrStatsW(female)\n",
    "    female_mean = df.loc[df['Gender'] == 'Female'][column].mean()\n",
    "    w_mean.append(female_mean)\n",
    "    z_test = sm.stats.CompareMeans(male, female).ztest_ind(usevar='unequal',value=0)\n",
    "    z_test_results.append(z_test)\n",
    "    \n",
    "test_df = pd.DataFrame(\n",
    "    {'Word class': test_list,\n",
    "     'Mean for men': m_mean,\n",
    "     'Mean for women': w_mean,\n",
    "     'Z_test': z_test_results,\n",
    "    })"
   ]
  },
  {
   "cell_type": "code",
   "execution_count": 33,
   "id": "478bbc8c-3e2f-4da0-9862-05565b14d8a9",
   "metadata": {},
   "outputs": [
    {
     "data": {
      "text/html": [
       "<div>\n",
       "<style scoped>\n",
       "    .dataframe tbody tr th:only-of-type {\n",
       "        vertical-align: middle;\n",
       "    }\n",
       "\n",
       "    .dataframe tbody tr th {\n",
       "        vertical-align: top;\n",
       "    }\n",
       "\n",
       "    .dataframe thead th {\n",
       "        text-align: right;\n",
       "    }\n",
       "</style>\n",
       "<table border=\"1\" class=\"dataframe\">\n",
       "  <thead>\n",
       "    <tr style=\"text-align: right;\">\n",
       "      <th></th>\n",
       "      <th>Word class</th>\n",
       "      <th>Mean for men</th>\n",
       "      <th>Mean for women</th>\n",
       "      <th>Z_test</th>\n",
       "    </tr>\n",
       "  </thead>\n",
       "  <tbody>\n",
       "    <tr>\n",
       "      <th>0</th>\n",
       "      <td>NOUN</td>\n",
       "      <td>0.694384</td>\n",
       "      <td>0.673067</td>\n",
       "      <td>(4.437994428224273, 9.080096911688926e-06)</td>\n",
       "    </tr>\n",
       "    <tr>\n",
       "      <th>1</th>\n",
       "      <td>VERB</td>\n",
       "      <td>0.700585</td>\n",
       "      <td>0.693474</td>\n",
       "      <td>(1.5006189206178095, 0.13345415472431227)</td>\n",
       "    </tr>\n",
       "    <tr>\n",
       "      <th>2</th>\n",
       "      <td>ADJ</td>\n",
       "      <td>0.384363</td>\n",
       "      <td>0.362078</td>\n",
       "      <td>(4.483694569150643, 7.3361648118824894e-06)</td>\n",
       "    </tr>\n",
       "    <tr>\n",
       "      <th>3</th>\n",
       "      <td>PRON</td>\n",
       "      <td>0.689169</td>\n",
       "      <td>0.703181</td>\n",
       "      <td>(-2.964746021756162, 0.0030293291220127557)</td>\n",
       "    </tr>\n",
       "    <tr>\n",
       "      <th>4</th>\n",
       "      <td>DET</td>\n",
       "      <td>0.436474</td>\n",
       "      <td>0.413094</td>\n",
       "      <td>(4.598672509239993, 4.251915543917845e-06)</td>\n",
       "    </tr>\n",
       "    <tr>\n",
       "      <th>5</th>\n",
       "      <td>AUX</td>\n",
       "      <td>0.512191</td>\n",
       "      <td>0.529724</td>\n",
       "      <td>(-3.4088292360588306, 0.000652423053938386)</td>\n",
       "    </tr>\n",
       "    <tr>\n",
       "      <th>6</th>\n",
       "      <td>ADV</td>\n",
       "      <td>0.395568</td>\n",
       "      <td>0.394955</td>\n",
       "      <td>(0.12165366521239594, 0.9031733103869888)</td>\n",
       "    </tr>\n",
       "    <tr>\n",
       "      <th>7</th>\n",
       "      <td>ADP</td>\n",
       "      <td>0.383976</td>\n",
       "      <td>0.358393</td>\n",
       "      <td>(5.154965635195069, 2.53677446689509e-07)</td>\n",
       "    </tr>\n",
       "    <tr>\n",
       "      <th>8</th>\n",
       "      <td>INTJ</td>\n",
       "      <td>0.305475</td>\n",
       "      <td>0.274144</td>\n",
       "      <td>(6.745061622836292, 1.5296209025561067e-11)</td>\n",
       "    </tr>\n",
       "    <tr>\n",
       "      <th>9</th>\n",
       "      <td>PART</td>\n",
       "      <td>0.248115</td>\n",
       "      <td>0.250407</td>\n",
       "      <td>(-0.5142213826885917, 0.607097219672079)</td>\n",
       "    </tr>\n",
       "    <tr>\n",
       "      <th>10</th>\n",
       "      <td>CCONJ</td>\n",
       "      <td>0.147065</td>\n",
       "      <td>0.154184</td>\n",
       "      <td>(-1.9261130502007557, 0.05409025947060317)</td>\n",
       "    </tr>\n",
       "    <tr>\n",
       "      <th>11</th>\n",
       "      <td>SCONJ</td>\n",
       "      <td>0.082693</td>\n",
       "      <td>0.076738</td>\n",
       "      <td>(2.1471567293774707, 0.031780806242811155)</td>\n",
       "    </tr>\n",
       "    <tr>\n",
       "      <th>12</th>\n",
       "      <td>PROPN</td>\n",
       "      <td>0.007751</td>\n",
       "      <td>0.006306</td>\n",
       "      <td>(1.7090037955864659, 0.08745024640740531)</td>\n",
       "    </tr>\n",
       "    <tr>\n",
       "      <th>13</th>\n",
       "      <td>NUM</td>\n",
       "      <td>0.045804</td>\n",
       "      <td>0.044923</td>\n",
       "      <td>(0.41144481656062354, 0.6807463973296908)</td>\n",
       "    </tr>\n",
       "  </tbody>\n",
       "</table>\n",
       "</div>"
      ],
      "text/plain": [
       "   Word class  Mean for men  Mean for women  \\\n",
       "0        NOUN      0.694384        0.673067   \n",
       "1        VERB      0.700585        0.693474   \n",
       "2         ADJ      0.384363        0.362078   \n",
       "3        PRON      0.689169        0.703181   \n",
       "4         DET      0.436474        0.413094   \n",
       "5         AUX      0.512191        0.529724   \n",
       "6         ADV      0.395568        0.394955   \n",
       "7         ADP      0.383976        0.358393   \n",
       "8        INTJ      0.305475        0.274144   \n",
       "9        PART      0.248115        0.250407   \n",
       "10      CCONJ      0.147065        0.154184   \n",
       "11      SCONJ      0.082693        0.076738   \n",
       "12      PROPN      0.007751        0.006306   \n",
       "13        NUM      0.045804        0.044923   \n",
       "\n",
       "                                         Z_test  \n",
       "0    (4.437994428224273, 9.080096911688926e-06)  \n",
       "1     (1.5006189206178095, 0.13345415472431227)  \n",
       "2   (4.483694569150643, 7.3361648118824894e-06)  \n",
       "3   (-2.964746021756162, 0.0030293291220127557)  \n",
       "4    (4.598672509239993, 4.251915543917845e-06)  \n",
       "5   (-3.4088292360588306, 0.000652423053938386)  \n",
       "6     (0.12165366521239594, 0.9031733103869888)  \n",
       "7     (5.154965635195069, 2.53677446689509e-07)  \n",
       "8   (6.745061622836292, 1.5296209025561067e-11)  \n",
       "9      (-0.5142213826885917, 0.607097219672079)  \n",
       "10   (-1.9261130502007557, 0.05409025947060317)  \n",
       "11   (2.1471567293774707, 0.031780806242811155)  \n",
       "12    (1.7090037955864659, 0.08745024640740531)  \n",
       "13    (0.41144481656062354, 0.6807463973296908)  "
      ]
     },
     "execution_count": 33,
     "metadata": {},
     "output_type": "execute_result"
    }
   ],
   "source": [
    "test_df"
   ]
  },
  {
   "cell_type": "code",
   "execution_count": 34,
   "id": "61bfc154-c2f3-4b81-965a-2044b20ebfd6",
   "metadata": {},
   "outputs": [
    {
     "name": "stdout",
     "output_type": "stream",
     "text": [
      "NOUN is: \n",
      " \n",
      "    Source           SS     DF        MS          F         p-unc       np2\n",
      "0     Era    25.580804      5  5.116161  23.868774  4.679892e-24  0.002801\n",
      "1  Within  9107.319913  42489  0.214345        NaN           NaN       NaN\n",
      "VERB is: \n",
      " \n",
      "    Source           SS     DF        MS         F         p-unc       np2\n",
      "0     Era     7.651492      5  1.530298  7.267852  8.177167e-07  0.000855\n",
      "1  Within  8946.364369  42489  0.210557       NaN           NaN       NaN\n",
      "ADJ is: \n",
      " \n",
      "    Source           SS     DF        MS          F         p-unc       np2\n",
      "0     Era    33.118775      5  6.623755  28.292699  9.782532e-29  0.003318\n",
      "1  Within  9947.327018  42489  0.234115        NaN           NaN       NaN\n",
      "PRON is: \n",
      " \n",
      "    Source           SS     DF        MS         F     p-unc      np2\n",
      "0     Era     2.975099      5  0.595020  2.801507  0.015573  0.00033\n",
      "1  Within  9024.353387  42489  0.212393       NaN       NaN      NaN\n",
      "DET is: \n",
      " \n",
      "    Source            SS     DF        MS         F     p-unc       np2\n",
      "0     Era      6.822102      5  1.364420  5.573803  0.000039  0.000655\n",
      "1  Within  10400.952601  42489  0.244792       NaN       NaN       NaN\n",
      "AUX is: \n",
      " \n",
      "    Source            SS     DF        MS         F     p-unc       np2\n",
      "0     Era      5.634621      5  1.126924  4.515316  0.000408  0.000531\n",
      "1  Within  10604.325751  42489  0.249578       NaN       NaN       NaN\n",
      "ADV is: \n",
      " \n",
      "    Source            SS     DF        MS          F         p-unc       np2\n",
      "0     Era     28.637956      5  5.727591  24.024014  3.208494e-24  0.002819\n",
      "1  Within  10129.848783  42489  0.238411        NaN           NaN       NaN\n",
      "ADP is: \n",
      " \n",
      "    Source           SS     DF        MS         F     p-unc       np2\n",
      "0     Era     7.201137      5  1.440227  6.145409  0.000011  0.000723\n",
      "1  Within  9957.648468  42489  0.234358       NaN       NaN       NaN\n",
      "INTJ is: \n",
      " \n",
      "    Source           SS     DF        MS          F         p-unc       np2\n",
      "0     Era    27.903714      5  5.580743  26.911183  2.841313e-27  0.003157\n",
      "1  Within  8811.213453  42489  0.207376        NaN           NaN       NaN\n",
      "PART is: \n",
      " \n",
      "    Source           SS     DF        MS         F     p-unc      np2\n",
      "0     Era     6.592847      5  1.318569  7.058415  0.000001  0.00083\n",
      "1  Within  7937.290998  42489  0.186808       NaN       NaN      NaN\n",
      "CCONJ is: \n",
      " \n",
      "    Source           SS     DF        MS         F         p-unc       np2\n",
      "0     Era    20.450452      5  4.090090  32.29779  5.523745e-33  0.003786\n",
      "1  Within  5380.673209  42489  0.126637       NaN           NaN       NaN\n",
      "SCONJ is: \n",
      " \n",
      "    Source           SS     DF        MS         F     p-unc      np2\n",
      "0     Era     0.597848      5  0.119570  1.611519  0.153116  0.00019\n",
      "1  Within  3152.548405  42489  0.074197       NaN       NaN      NaN\n",
      "PROPN is: \n",
      " \n",
      "    Source          SS     DF        MS        F         p-unc       np2\n",
      "0     Era    0.312399      5  0.062480  8.66303  3.220296e-08  0.001018\n",
      "1  Within  306.440725  42489  0.007212      NaN           NaN       NaN\n",
      "NUM is: \n",
      " \n",
      "    Source           SS     DF        MS        F     p-unc      np2\n",
      "0     Era     0.885931      5  0.177186  4.08026  0.001052  0.00048\n",
      "1  Within  1845.095337  42489  0.043425      NaN       NaN      NaN\n"
     ]
    }
   ],
   "source": [
    "#Anova testing for Era and part of speech tag \n",
    "import pingouin as pg\n",
    "aov = pg.anova(data=df, dv='NOUN', between='Era', detailed=True)\n",
    "aov1 = pg.anova(data=df, dv='VERB', between='Era', detailed=True)\n",
    "aov2 = pg.anova(data=df, dv='ADJ', between='Era', detailed=True)\n",
    "aov3 = pg.anova(data=df, dv='PRON', between='Era', detailed=True)\n",
    "aov4 = pg.anova(data=df, dv='DET', between='Era', detailed=True)\n",
    "aov5 = pg.anova(data=df, dv='AUX', between='Era', detailed=True)\n",
    "aov6 = pg.anova(data=df, dv='ADV', between='Era', detailed=True)\n",
    "aov7 = pg.anova(data=df, dv='ADP', between='Era', detailed=True)\n",
    "aov8 = pg.anova(data=df, dv='INTJ', between='Era', detailed=True)\n",
    "aov9 = pg.anova(data=df, dv='PART', between='Era', detailed=True)\n",
    "aov10 = pg.anova(data=df, dv='CCONJ', between='Era', detailed=True)\n",
    "aov11 = pg.anova(data=df, dv='SCONJ', between='Era', detailed=True)\n",
    "aov12 = pg.anova(data=df, dv='PROPN', between='Era', detailed=True)\n",
    "aov13 = pg.anova(data=df, dv='NUM', between='Era', detailed=True)\n",
    "print('NOUN is:',\"\\n\",\"\\n\",aov)\n",
    "print('VERB is:',\"\\n\",\"\\n\",aov1)\n",
    "print('ADJ is:',\"\\n\",\"\\n\",aov2)\n",
    "print('PRON is:',\"\\n\",\"\\n\",aov3)\n",
    "print('DET is:',\"\\n\",\"\\n\",aov4)\n",
    "print('AUX is:',\"\\n\",\"\\n\",aov5)\n",
    "print('ADV is:',\"\\n\",\"\\n\",aov6)\n",
    "print('ADP is:',\"\\n\",\"\\n\",aov7)\n",
    "print('INTJ is:',\"\\n\",\"\\n\",aov8)\n",
    "print('PART is:',\"\\n\",\"\\n\",aov9)\n",
    "print('CCONJ is:',\"\\n\",\"\\n\",aov10)\n",
    "print('SCONJ is:',\"\\n\",\"\\n\",aov11)\n",
    "print('PROPN is:',\"\\n\",\"\\n\",aov12)\n",
    "print('NUM is:',\"\\n\",\"\\n\",aov13)"
   ]
  },
  {
   "cell_type": "code",
   "execution_count": null,
   "id": "05ed851a-d7be-4595-8149-d00f85f28c06",
   "metadata": {},
   "outputs": [],
   "source": []
  }
 ],
 "metadata": {
  "kernelspec": {
   "display_name": "Python 3 (ipykernel)",
   "language": "python",
   "name": "python3"
  },
  "language_info": {
   "codemirror_mode": {
    "name": "ipython",
    "version": 3
   },
   "file_extension": ".py",
   "mimetype": "text/x-python",
   "name": "python",
   "nbconvert_exporter": "python",
   "pygments_lexer": "ipython3",
   "version": "3.8.13"
  },
  "toc": {
   "nav_menu": {},
   "number_sections": true,
   "sideBar": true,
   "skip_h1_title": false,
   "title_cell": "Table of Contents",
   "title_sidebar": "Contents",
   "toc_cell": false,
   "toc_position": {},
   "toc_section_display": true,
   "toc_window_display": false
  }
 },
 "nbformat": 4,
 "nbformat_minor": 5
}
