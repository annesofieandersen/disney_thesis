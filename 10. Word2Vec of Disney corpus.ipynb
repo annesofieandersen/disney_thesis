{
 "cells": [
  {
   "cell_type": "code",
   "execution_count": 128,
   "id": "ae650181",
   "metadata": {
    "ExecuteTime": {
     "end_time": "2022-04-07T06:31:49.921828Z",
     "start_time": "2022-04-07T06:31:49.821874Z"
    }
   },
   "outputs": [],
   "source": [
    "#pip install --upgrade gensim"
   ]
  },
  {
   "cell_type": "code",
   "execution_count": 1,
   "id": "0ef7c075",
   "metadata": {
    "ExecuteTime": {
     "end_time": "2022-05-10T07:01:43.882790Z",
     "start_time": "2022-05-10T07:01:34.114260Z"
    }
   },
   "outputs": [],
   "source": [
    "#Import libaries \n",
    "import pandas as pd\n",
    "import numpy as np \n",
    "import os\n",
    "import gensim\n",
    "import re\n",
    "import nltk\n",
    "\n",
    "from gensim.test.utils import common_texts\n",
    "from gensim.models import Word2Vec\n",
    "\n",
    "from tqdm import tqdm\n",
    "from nltk.tokenize import sent_tokenize\n",
    "from collections import Counter\n",
    "\n",
    "import matplotlib.pyplot as plt\n",
    "import matplotlib.cm as cm\n",
    "\n",
    "from mpl_toolkits.mplot3d import Axes3D"
   ]
  },
  {
   "cell_type": "code",
   "execution_count": 2,
   "id": "d8193fa3",
   "metadata": {
    "ExecuteTime": {
     "end_time": "2022-05-10T07:01:44.095128Z",
     "start_time": "2022-05-10T07:01:43.886766Z"
    }
   },
   "outputs": [],
   "source": [
    "# set directory\n",
    "os.getcwd()\n",
    "os.chdir('/Users/Sofie/Disney Thesis')\n",
    "\n",
    "# import clean scripts\n",
    "all_scripts = pd.read_pickle(\"all_scripts_cleaned_total.pickle\")"
   ]
  },
  {
   "cell_type": "markdown",
   "id": "7a2ced45",
   "metadata": {},
   "source": [
    "# Preparing data for Word2Vec"
   ]
  },
  {
   "cell_type": "code",
   "execution_count": 45,
   "id": "4fdadcd3",
   "metadata": {
    "ExecuteTime": {
     "end_time": "2022-04-29T11:56:33.145489Z",
     "start_time": "2022-04-29T11:56:32.926140Z"
    }
   },
   "outputs": [],
   "source": [
    "# replace main male and female characters name with \"Man\" and \"Woman\"\n",
    "\n",
    "# save number of lines \n",
    "lines = all_scripts.groupby([\"Era\", \"Movie\", \"Gender\", \"Character\"]).count()['Line'].to_frame().reset_index()\n",
    "# save number of words\n",
    "words = all_scripts.groupby([\"Era\", \"Movie\", \"Gender\", \"Character\"]).sum()['Words_n'].to_frame().reset_index()\n",
    "\n",
    "lines['Words_n'] = words['Words_n']\n",
    "lines['Words_pr_line'] = lines['Words_n']/lines['Line'].round()\n",
    "\n",
    "# find characters using the largest share of words \n",
    "top5_words = lines.groupby([\"Movie\", \"Gender\", \"Character\"])\\\n",
    ".agg({\"Words_n\" : \"sum\"})\\\n",
    ".groupby(level=0).apply(lambda x: 100*x/x.sum())\\\n",
    ".sort_values(by=[\"Movie\", \"Gender\", \"Words_n\"], ascending=[True, True, False]).reset_index()\n",
    "\n",
    "top_words_f = top5_words.loc[top5_words['Gender'] == \"Female\"].groupby('Movie').head(1)\n",
    "top_words_m = top5_words.loc[top5_words['Gender'] == \"Male\"].groupby('Movie').head(1)\n",
    "\n",
    "# save\n",
    "top_words_f = dict(zip(top_words_f.Movie, top_words_f.Character))\n",
    "top_words_m = dict(zip(top_words_m.Movie, top_words_m.Character))\n"
   ]
  },
  {
   "cell_type": "code",
   "execution_count": 46,
   "id": "6b1600d0",
   "metadata": {
    "ExecuteTime": {
     "end_time": "2022-04-29T11:56:38.639392Z",
     "start_time": "2022-04-29T11:56:33.513299Z"
    }
   },
   "outputs": [],
   "source": [
    "# replace character names with man/woman\n",
    "line_names = []\n",
    "\n",
    "for index, row in all_scripts.iterrows():\n",
    "    movie = row['Movie']\n",
    "    name_f = top_words_f[movie]\n",
    "    name_m = top_words_m[movie]\n",
    "    line = re.sub(name_f, \"WOMAN\", row['Clean_Line_all']) # take lines with all words\n",
    "    line = re.sub(name_m, \"MAN\", line)\n",
    "    line_names.append(line)\n",
    "    \n",
    "all_scripts['Clean_Line_names'] = line_names"
   ]
  },
  {
   "cell_type": "code",
   "execution_count": 47,
   "id": "a606b600",
   "metadata": {
    "ExecuteTime": {
     "end_time": "2022-04-29T11:56:38.652179Z",
     "start_time": "2022-04-29T11:56:38.642439Z"
    }
   },
   "outputs": [],
   "source": [
    "# create list of all lines\n",
    "all_lines = all_scripts['Clean_Line_names'].tolist()"
   ]
  },
  {
   "cell_type": "code",
   "execution_count": 48,
   "id": "d1aad718",
   "metadata": {
    "ExecuteTime": {
     "end_time": "2022-04-29T11:56:38.670808Z",
     "start_time": "2022-04-29T11:56:38.659034Z"
    }
   },
   "outputs": [],
   "source": [
    "# create function for cleaning lines\n",
    "\n",
    "def remove_punc(string):\n",
    "    # removing all everything except a-z english letters\n",
    "    regex = re.compile('[^a-zA-Z]')\n",
    "    temp_string = regex.sub(' ', string)\n",
    "    # removing extra spaces\n",
    "    clean_string = re.sub(' +', ' ', temp_string).lower()\n",
    "    return clean_string"
   ]
  },
  {
   "cell_type": "code",
   "execution_count": 49,
   "id": "17cfd01f",
   "metadata": {
    "ExecuteTime": {
     "end_time": "2022-04-29T11:56:38.685874Z",
     "start_time": "2022-04-29T11:56:38.675716Z"
    }
   },
   "outputs": [],
   "source": [
    "# import stopwords\n",
    "from nltk.corpus import stopwords\n",
    "stop_words = set(stopwords.words('english'))\n",
    "\n",
    "# import lemmatizer \n",
    "from nltk.stem import WordNetLemmatizer\n",
    "lemmatizer = WordNetLemmatizer()"
   ]
  },
  {
   "cell_type": "code",
   "execution_count": 50,
   "id": "f57d4b85",
   "metadata": {
    "ExecuteTime": {
     "end_time": "2022-04-29T11:56:43.276447Z",
     "start_time": "2022-04-29T11:56:38.690324Z"
    }
   },
   "outputs": [
    {
     "name": "stderr",
     "output_type": "stream",
     "text": [
      "100%|██████████| 42871/42871 [00:04<00:00, 9380.64it/s] \n"
     ]
    }
   ],
   "source": [
    "# create function for cleaning all lines\n",
    "\n",
    "def data_cleaning(content):\n",
    "    sentences = []\n",
    "    for idx in tqdm(range(len(content))):\n",
    "        if content[idx] !=\"\":\n",
    "    # Sentence tokenization using NLTK library\n",
    "            for each_sent in sent_tokenize(str(content[idx])):\n",
    "\n",
    "                if each_sent != \"\":\n",
    "                    temp_sent = []\n",
    "                    # Removing link and punctuation\n",
    "                    each_sent = remove_punc(each_sent.lower())\n",
    "                    # Removing stopwords and applying lemmatization\n",
    "                    for each_word in each_sent.split():\n",
    "                        if each_word not in stop_words and len(each_word)>= 3:\n",
    "                            # lemmatize or not?\n",
    "                            #temp_sent.append(lemmatizer.lemmatize(each_word))\n",
    "                            temp_sent.append(each_word)\n",
    "                            # Only taking word list length is greater than equals to 3\n",
    "                            if len(temp_sent) >= 3:\n",
    "                                sentences.append(temp_sent)\n",
    "    return sentences\n",
    "\n",
    "#define our corpus (cleaned)\n",
    "sentence_corpus = data_cleaning(all_lines)"
   ]
  },
  {
   "cell_type": "code",
   "execution_count": 51,
   "id": "3edd9583",
   "metadata": {
    "ExecuteTime": {
     "end_time": "2022-04-29T11:56:43.327937Z",
     "start_time": "2022-04-29T11:56:43.280336Z"
    }
   },
   "outputs": [
    {
     "data": {
      "text/html": [
       "<div>\n",
       "<style scoped>\n",
       "    .dataframe tbody tr th:only-of-type {\n",
       "        vertical-align: middle;\n",
       "    }\n",
       "\n",
       "    .dataframe tbody tr th {\n",
       "        vertical-align: top;\n",
       "    }\n",
       "\n",
       "    .dataframe thead th {\n",
       "        text-align: right;\n",
       "    }\n",
       "</style>\n",
       "<table border=\"1\" class=\"dataframe\">\n",
       "  <thead>\n",
       "    <tr style=\"text-align: right;\">\n",
       "      <th></th>\n",
       "      <th>No of Words in each Sentence</th>\n",
       "      <th>No of sentence</th>\n",
       "    </tr>\n",
       "  </thead>\n",
       "  <tbody>\n",
       "    <tr>\n",
       "      <th>0</th>\n",
       "      <td>3</td>\n",
       "      <td>11289</td>\n",
       "    </tr>\n",
       "    <tr>\n",
       "      <th>1</th>\n",
       "      <td>4</td>\n",
       "      <td>13260</td>\n",
       "    </tr>\n",
       "    <tr>\n",
       "      <th>2</th>\n",
       "      <td>5</td>\n",
       "      <td>10821</td>\n",
       "    </tr>\n",
       "    <tr>\n",
       "      <th>3</th>\n",
       "      <td>6</td>\n",
       "      <td>8768</td>\n",
       "    </tr>\n",
       "    <tr>\n",
       "      <th>4</th>\n",
       "      <td>7</td>\n",
       "      <td>6275</td>\n",
       "    </tr>\n",
       "    <tr>\n",
       "      <th>5</th>\n",
       "      <td>8</td>\n",
       "      <td>4602</td>\n",
       "    </tr>\n",
       "    <tr>\n",
       "      <th>6</th>\n",
       "      <td>9</td>\n",
       "      <td>3423</td>\n",
       "    </tr>\n",
       "    <tr>\n",
       "      <th>7</th>\n",
       "      <td>10</td>\n",
       "      <td>2432</td>\n",
       "    </tr>\n",
       "    <tr>\n",
       "      <th>8</th>\n",
       "      <td>11</td>\n",
       "      <td>1503</td>\n",
       "    </tr>\n",
       "    <tr>\n",
       "      <th>9</th>\n",
       "      <td>12</td>\n",
       "      <td>1270</td>\n",
       "    </tr>\n",
       "  </tbody>\n",
       "</table>\n",
       "</div>"
      ],
      "text/plain": [
       "   No of Words in each Sentence  No of sentence\n",
       "0                             3           11289\n",
       "1                             4           13260\n",
       "2                             5           10821\n",
       "3                             6            8768\n",
       "4                             7            6275\n",
       "5                             8            4602\n",
       "6                             9            3423\n",
       "7                            10            2432\n",
       "8                            11            1503\n",
       "9                            12            1270"
      ]
     },
     "execution_count": 51,
     "metadata": {},
     "output_type": "execute_result"
    }
   ],
   "source": [
    "# Count of number of words in sentences\n",
    "len_count = []\n",
    "for l in sentence_corpus:\n",
    "    len_count.append(len(l))\n",
    "\n",
    "word_sent_df = pd.DataFrame(sorted(Counter(len_count).items()), columns=[\"No of Words in each Sentence\",\"No of sentence\"])\n",
    "word_sent_df.head(10)"
   ]
  },
  {
   "cell_type": "markdown",
   "id": "9cb1945e",
   "metadata": {},
   "source": [
    "# Train Word2Vec model"
   ]
  },
  {
   "cell_type": "code",
   "execution_count": 58,
   "id": "f1e11b7f",
   "metadata": {
    "ExecuteTime": {
     "end_time": "2022-04-29T11:58:21.102122Z",
     "start_time": "2022-04-29T11:58:02.965048Z"
    }
   },
   "outputs": [],
   "source": [
    "# train word2vec\n",
    "#time = time.time()\n",
    "model = Word2Vec(sentences=sentence_corpus, vector_size=300, window=10, \n",
    "                 min_count=5, workers=8, sg=1)\n",
    "\n",
    "#sg : Used to choose the training algorithm: \n",
    "# 1 for skip-gram; \n",
    "# 0 for CBOW. By default CBOW is used for training.\n",
    "\n",
    "#vector_size: The number of dimensions of the embeddings and the default is 100.\n",
    "\n",
    "#window: The maximum distance between a target word and words around the target word. \n",
    "#The default window is 5.\n",
    "\n",
    "#min_count: The minimum count of words to consider when training the model; \n",
    "#words with occurrence less than this count will be ignored. The default for min_count is 5.\n",
    "\n",
    "#workers: The number of partitions during training and the default workers is 3.\n",
    "\n",
    "#Change --> min-count = 5, vector_size minde"
   ]
  },
  {
   "cell_type": "markdown",
   "id": "898eaf0a",
   "metadata": {},
   "source": [
    "## Inspecting the output of Word2Vec"
   ]
  },
  {
   "cell_type": "code",
   "execution_count": 39,
   "id": "4fd84859",
   "metadata": {
    "ExecuteTime": {
     "end_time": "2022-04-29T11:51:21.514217Z",
     "start_time": "2022-04-29T11:51:21.505730Z"
    }
   },
   "outputs": [
    {
     "name": "stdout",
     "output_type": "stream",
     "text": [
      "Shape of vector:  (200,)\n"
     ]
    }
   ],
   "source": [
    "# get vector for words princess \n",
    "print(\"Shape of vector: \", model.wv.get_vector(\"man\").shape)\n",
    "#model.wv.get_vector(\"woman\")\n",
    "#model.wv.get_vector(\"princess\")"
   ]
  },
  {
   "cell_type": "code",
   "execution_count": 53,
   "id": "d15623aa",
   "metadata": {
    "ExecuteTime": {
     "end_time": "2022-04-29T11:57:15.634773Z",
     "start_time": "2022-04-29T11:57:15.624795Z"
    }
   },
   "outputs": [
    {
     "data": {
      "text/plain": [
       "0.20993546"
      ]
     },
     "execution_count": 53,
     "metadata": {},
     "output_type": "execute_result"
    }
   ],
   "source": [
    "# List of word similarity\n",
    "model.wv.n_similarity([\"king\",\"prince\"],[\"queen\",\"princess\"])\n",
    "model.wv.n_similarity([\"man\",\"prince\"],[\"woman\",\"princess\"])"
   ]
  },
  {
   "cell_type": "code",
   "execution_count": 54,
   "id": "b38b6654",
   "metadata": {
    "ExecuteTime": {
     "end_time": "2022-04-29T11:57:18.091700Z",
     "start_time": "2022-04-29T11:57:18.084863Z"
    }
   },
   "outputs": [
    {
     "name": "stdout",
     "output_type": "stream",
     "text": [
      "Distance between man and woman:  0.8800258338451385\n"
     ]
    }
   ],
   "source": [
    "# Similar kind of words will have less distance.\n",
    "\n",
    "# Distance between two words\n",
    "print(\"Distance between man and woman: \", model.wv.distance(\"man\",\"woman\"))"
   ]
  },
  {
   "cell_type": "code",
   "execution_count": 12,
   "id": "351a2361",
   "metadata": {
    "ExecuteTime": {
     "end_time": "2022-05-10T07:04:11.864120Z",
     "start_time": "2022-05-10T07:04:11.856675Z"
    }
   },
   "outputs": [
    {
     "name": "stdout",
     "output_type": "stream",
     "text": [
      "similar to beautiful:  [('crowd', 0.35671529173851013), ('specially', 0.34852010011672974), ('whistles', 0.3462062180042267), ('poison', 0.34391433000564575), ('adventures', 0.3391028046607971), ('pearl', 0.327918142080307), ('checker', 0.32764655351638794), ('pack', 0.3273186981678009), ('transplant', 0.32559677958488464), ('carriage', 0.322767436504364), ('vulgar', 0.3214532136917114), ('attempted', 0.32038748264312744), ('bypass', 0.318910151720047), ('chorus', 0.315961629152298), ('cowboy', 0.3137723207473755), ('marvelous', 0.31293460726737976), ('eldest', 0.31145381927490234), ('cub', 0.3097432851791382), ('armor', 0.3086092174053192), ('china', 0.30541566014289856), ('sansweet', 0.30474093556404114), ('purer', 0.3027031421661377), ('peak', 0.3020448684692383), ('engaged', 0.3008174002170563), ('satchel', 0.29936090111732483), ('supreme', 0.2992663085460663), ('tranquil', 0.2989371120929718), ('rice', 0.29773908853530884), ('licentious', 0.29676878452301025), ('maria', 0.2959659993648529)]\n"
     ]
    }
   ],
   "source": [
    "#hilltop, chateau, reunion(s), casita, nest\n",
    "# understand, relationshio, helping, wedding, deathbed/deceased\n",
    "# papa, mama, sister, sisterly, fam, dad, mom, pepa\n",
    "# blamed, unpleasant, grievance, loyal, pray, hurt \n",
    "\n",
    "# deceived\n",
    "print(\"similar to beautiful: \", model.wv.similar_by_word(\"man\", 30),)"
   ]
  },
  {
   "cell_type": "code",
   "execution_count": 56,
   "id": "5d390c0b",
   "metadata": {
    "ExecuteTime": {
     "end_time": "2022-04-29T11:57:43.844300Z",
     "start_time": "2022-04-29T11:57:43.832649Z"
    }
   },
   "outputs": [
    {
     "name": "stdout",
     "output_type": "stream",
     "text": [
      "similar to man:  [('crowd', 0.35671529173851013), ('specially', 0.34852010011672974), ('whistles', 0.3462062180042267), ('poison', 0.34391433000564575), ('adventures', 0.3391028046607971), ('pearl', 0.327918142080307), ('checker', 0.32764655351638794), ('pack', 0.3273186981678009), ('transplant', 0.32559677958488464), ('carriage', 0.322767436504364)] \n",
      "\n",
      "similar to woman:  [('eilonwy', 0.49061742424964905), ('sword', 0.408727765083313), ('crafty', 0.3698180019855499), ('flashes', 0.3657892942428589), ('birdwell', 0.3654339015483856), ('dungeon', 0.36140477657318115), ('runs', 0.3603416085243225), ('mufasa', 0.3475821912288666), ('smithsonian', 0.3473285734653473), ('climbs', 0.34498584270477295)]\n"
     ]
    }
   ],
   "source": [
    "# Similar word for king\n",
    "print(\"similar to man: \", model.wv.similar_by_word(\"man\"), \"\\n\")\n",
    "print(\"similar to woman: \", model.wv.similar_by_word(\"woman\"))"
   ]
  },
  {
   "cell_type": "code",
   "execution_count": 60,
   "id": "4188f059",
   "metadata": {
    "ExecuteTime": {
     "end_time": "2022-04-29T11:58:42.339643Z",
     "start_time": "2022-04-29T11:58:42.146337Z"
    }
   },
   "outputs": [],
   "source": [
    "# save model\n",
    "model.save(\"word2vec_vs300.model\")\n",
    "model = Word2Vec.load(\"word2vec_vs200.model\")"
   ]
  },
  {
   "cell_type": "code",
   "execution_count": 7,
   "id": "afd98f97",
   "metadata": {
    "ExecuteTime": {
     "end_time": "2022-05-10T07:02:56.345922Z",
     "start_time": "2022-05-10T07:02:56.186783Z"
    }
   },
   "outputs": [],
   "source": [
    "model = Word2Vec.load(\"word2vec_vs200.model\")"
   ]
  },
  {
   "cell_type": "markdown",
   "id": "897473bd",
   "metadata": {},
   "source": [
    "# Plotting Word2Vec\n",
    "\n",
    "The basic idea of t-SNE is to reduce dimensional space keeping relative pairwise distance between points. In other words, the algorithm maps multi-dimensional data to two or more dimensions, where points which were initially far from each other are also located far away, and close points are also converted to close ones. It can be said that t-SNE looking for a new data representation where the neighbourhood relations are preserved. "
   ]
  },
  {
   "cell_type": "code",
   "execution_count": 22,
   "id": "4448d917",
   "metadata": {
    "ExecuteTime": {
     "end_time": "2022-04-29T11:28:20.159616Z",
     "start_time": "2022-04-29T11:28:17.529260Z"
    }
   },
   "outputs": [
    {
     "name": "stderr",
     "output_type": "stream",
     "text": [
      "*c* argument looks like a single numeric RGB or RGBA sequence, which should be avoided as value-mapping will have precedence in case its length matches with *x* & *y*.  Please use the *color* keyword-argument or provide a 2-D array with a single row if you intend to specify the same RGB or RGBA value for all points.\n"
     ]
    },
    {
     "data": {
      "image/png": "[encoded data removed]",
      "text/plain": [
       "<Figure size 1152x648 with 1 Axes>"
      ]
     },
     "metadata": {
      "needs_background": "light"
     },
     "output_type": "display_data"
    }
   ],
   "source": [
    "# Choose words to inspect in a plot \n",
    "keys = ['beauty'] # choose whatever words here \n",
    "\n",
    "\n",
    "# Take top 30 similar words for each words above \n",
    "\n",
    "embedding_clusters = []\n",
    "word_clusters = []\n",
    "for word in keys:\n",
    "    embeddings = []\n",
    "    words = []\n",
    "    for similar_word, _ in model.wv.similar_by_word(word, topn=30):\n",
    "        words.append(similar_word)\n",
    "        embeddings.append(model.wv[similar_word])\n",
    "    embedding_clusters.append(embeddings)\n",
    "    word_clusters.append(words)\n",
    "\n",
    "from sklearn.manifold import TSNE\n",
    "import numpy as np\n",
    "\n",
    "embedding_clusters = np.array(embedding_clusters)\n",
    "n, m, k = embedding_clusters.shape\n",
    "tsne_model_en_2d = TSNE(perplexity=15, n_components=2, init='pca', n_iter=3500, random_state=32)\n",
    "embeddings_en_2d = np.array(tsne_model_en_2d.fit_transform(embedding_clusters.reshape(n * m, k))).reshape(n, m, 2)\n",
    "\n",
    "\n",
    "# create plot for similar words \n",
    "def tsne_plot_similar_words(title, labels, embedding_clusters, word_clusters, a, filename=None):\n",
    "    plt.figure(figsize=(16, 9))\n",
    "    colors = cm.rainbow(np.linspace(0, 1, len(labels)))\n",
    "    for label, embeddings, words, color in zip(labels, embedding_clusters, word_clusters, colors):\n",
    "        x = embeddings[:, 0]\n",
    "        y = embeddings[:, 1]\n",
    "        plt.scatter(x, y, c=color, alpha=a, label=label)\n",
    "        for i, word in enumerate(words):\n",
    "            plt.annotate(word, alpha=0.5, xy=(x[i], y[i]), xytext=(5, 2),\n",
    "                         textcoords='offset points', ha='right', va='bottom', size=8)\n",
    "    plt.legend(loc=4)\n",
    "    plt.title(title)\n",
    "    plt.grid(True)\n",
    "    if filename:\n",
    "        plt.savefig(filename, format='png', dpi=150, bbox_inches='tight')\n",
    "    plt.show()\n",
    "\n",
    "# plot and save figure \n",
    "tsne_plot_similar_words('Similar words from Disney', keys, embeddings_en_2d, word_clusters, 0.7,\n",
    "                        'similar_words.png')"
   ]
  }
 ],
 "metadata": {
  "kernelspec": {
   "display_name": "Python 3",
   "language": "python",
   "name": "python3"
  },
  "language_info": {
   "codemirror_mode": {
    "name": "ipython",
    "version": 3
   },
   "file_extension": ".py",
   "mimetype": "text/x-python",
   "name": "python",
   "nbconvert_exporter": "python",
   "pygments_lexer": "ipython3",
   "version": "3.8.8"
  },
  "toc": {
   "nav_menu": {},
   "number_sections": true,
   "sideBar": true,
   "skip_h1_title": false,
   "title_cell": "Table of Contents",
   "title_sidebar": "Contents",
   "toc_cell": false,
   "toc_position": {},
   "toc_section_display": true,
   "toc_window_display": false
  }
 },
 "nbformat": 4,
 "nbformat_minor": 5
}
